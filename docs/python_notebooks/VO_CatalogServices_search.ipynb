{
 "metadata": {
  "name": ""
 },
 "nbformat": 3,
 "nbformat_minor": 0,
 "worksheets": [
  {
   "cells": [
    {
     "cell_type": "heading",
     "level": 1,
     "metadata": {},
     "source": [
      "Searching for x-ray catalogues on VO for SED studies"
     ]
    },
    {
     "cell_type": "heading",
     "level": 2,
     "metadata": {},
     "source": [
      "1) Search for \"all\" X-Ray catalogues"
     ]
    },
    {
     "cell_type": "heading",
     "level": 4,
     "metadata": {},
     "source": [
      "Using the 'PyVO' package, with the use of function 'regsearch', we will search for X-Ray catalogues useful for Spectral Energy Distribution (SED) analysis. We will filter catalogues with flux-related data and spectral/photon index information."
     ]
    },
    {
     "cell_type": "code",
     "collapsed": false,
     "input": [
      "import pyvo\n",
      "help(pyvo.regsearch)"
     ],
     "language": "python",
     "metadata": {},
     "outputs": [
      {
       "output_type": "stream",
       "stream": "stdout",
       "text": [
        "Help on function search in module pyvo.registry.vao:\n",
        "\n",
        "search(keywords=None, servicetype=None, waveband=None, sqlpred=None)\n",
        "    execute a simple query to the VAO registry.  \n",
        "    \n",
        "    Parameters\n",
        "    ----------\n",
        "    keywords : str or list of str\n",
        "       keyword terms to match to registry records.  \n",
        "       Use this parameter to find resources related to a \n",
        "       particular topic.\n",
        "    servicetype : str\n",
        "       the service type to restrict results to.\n",
        "       Allowed values include,\n",
        "       'catalog'  (synonyms: 'table', 'scs', 'conesearch', 'ConeSearch'), \n",
        "       'image'    (synonyms: 'sia', 'SimpleImageAccess'), \n",
        "       'spectrum' (synonyms: 'ssa', 'ssap', 'SimpleSpectralAccess'),\n",
        "       'line'     (synonyms: 'sla', 'slap', 'SimpleLineAccess')\n",
        "       'database' (synonyms: 'tap','TableAccess').\n",
        "    waveband : str\n",
        "       the name of a desired waveband; resources returned \n",
        "       will be restricted to those that indicate as having\n",
        "       data in that waveband.  Allowed, case-insensitive \n",
        "       values include 'Radio', 'Millimeter', 'Infrared'\n",
        "       (synonym: 'IR'), 'Optical', 'UV', 'EUV', 'X-ray' \n",
        "       (synonym: 'Xray').\n",
        "    sqlpred : str\n",
        "       an SQL WHERE predicate (without the leading \"WHERE\") \n",
        "       that further contrains the search against supported \n",
        "       keywords.\n",
        "    \n",
        "    Returns\n",
        "    -------\n",
        "    RegistryResults\n",
        "       a container holding a table of matching resource (e.g. services)\n",
        "    \n",
        "    See Also\n",
        "    --------\n",
        "    RegistryResults\n",
        "\n"
       ]
      }
     ],
     "prompt_number": 1
    },
    {
     "cell_type": "heading",
     "level": 4,
     "metadata": {},
     "source": [
      "Obs: The registry we will query the catalog services is the default one configured on PyVO:"
     ]
    },
    {
     "cell_type": "code",
     "collapsed": false,
     "input": [
      "print(\"%s \\n\" % pyvo.registry.RegistryQuery().baseurl)"
     ],
     "language": "python",
     "metadata": {},
     "outputs": [
      {
       "output_type": "stream",
       "stream": "stdout",
       "text": [
        "http://vao.stsci.edu/directory/NVORegInt.asmx/ \n",
        "\n"
       ]
      }
     ],
     "prompt_number": 2
    },
    {
     "cell_type": "heading",
     "level": 4,
     "metadata": {},
     "source": [
      "To do the search we need then to define 'waveband'(=\"xray\"), 'servicetype'(=\"conesearch\"). These two are mandatory for our purpose here. Also, since the spectral/photon index information is a great information to have -- and we want two at this moment -- we will filter the results to accomplish that. So, we will define also the 'keywords'(=\"index\") argument to see if we get a nice answer."
     ]
    },
    {
     "cell_type": "code",
     "collapsed": false,
     "input": [
      "records = pyvo.regsearch(waveband='xray',servicetype='conesearch',keywords='index')"
     ],
     "language": "python",
     "metadata": {},
     "outputs": [],
     "prompt_number": 3
    },
    {
     "cell_type": "heading",
     "level": 4,
     "metadata": {},
     "source": [
      "And we can now inspect the answer to see what are the services returned"
     ]
    },
    {
     "cell_type": "code",
     "collapsed": false,
     "input": [
      "records.nrecs # number of services found"
     ],
     "language": "python",
     "metadata": {},
     "outputs": [
      {
       "metadata": {},
       "output_type": "pyout",
       "prompt_number": 4,
       "text": [
        "42"
       ]
      }
     ],
     "prompt_number": 4
    },
    {
     "cell_type": "code",
     "collapsed": false,
     "input": [
      "for r in records: print r.title # Title (name) of the services (catalogues) found"
     ],
     "language": "python",
     "metadata": {},
     "outputs": [
      {
       "output_type": "stream",
       "stream": "stdout",
       "text": [
        "HEAO 1 A2 Piccinotti Catalog\n",
        "Atlas of Radio/X-Ray Associations (ARXA)\n",
        "CGRO/BATSE 5B Gamma-Ray Burst Spectral Catalog\n",
        "Chandra Deep Field South AGN Spectral Properties Catalog\n",
        "CHAMP/SDSS Nearby Low-Luminosity AGN Catalog\n",
        "M 31 Central Region Chandra X-Ray Point Source Catalog\n",
        "Chandra Archive Of Galaxies Ultraluminous X-Ray Source Catalog\n",
        "INTEGRAL IBIS Hard X-Ray Survey of Galactic Center\n",
        "Second INTEGRAL AGN Catalog\n",
        "Soft X-ray properties of Seyfert galaxies (Pfefferkorn+, 2001)\n",
        "Soft X-ray properties of Seyfert galaxies (Pfefferkorn+, 2001)\n",
        "Spectral analysis of Lockman Hole (Mainieri+, 2002)\n",
        "AGN in XMM-Newton Hard Bright Survey (Della Ceca+, 2008)\n",
        "AGN-Host Galaxy Connection (Povic+, 2012)\n",
        "Spectra of 29 Swift/BAT optical counterparts (Parisi+, 2012)\n",
        "X-ray and radio emission of type 1 AGNs (Ballo+, 2012)\n",
        "AGN Torus model comparison of AGN in the CDFS (Buchner+, 2014)\n",
        "CDFs AGNs X-ray power-law photon index (Saez+, 2008)\n",
        "X-ray studies of stars in the Pleiades (Micela+, 1990)\n",
        "X-ray studies of stars in the Pleiades (Micela+, 1990)\n",
        "M31 Chandra X-ray point sources (Kong+, 2002)\n",
        "SED of the Fermi blazars (Li+, 2010)\n",
        "XMM-Newton survey in COSMOS field. IV. (Mainieri+, 2007)\n",
        "RIXOS source sample X-ray spectra (Mittaz+, 1999)\n",
        "X-ray+Radio sources in XBootes (El Bouchefry, 2009)\n",
        "LALA Cetus Field Chandra X-Ray Point Source Catalog\n",
        "M31 XMM-Newton Spectral Survey X-Ray Point Source Catalog\n",
        "ROSAT PSPC M31 Source Catalog\n",
        "ROSAT Radio-Loud Quasars Catalog\n",
        "ROSAT Radio-Quiet Quasars Catalog\n",
        "ROSAT Results Archive Sources for the PSPC with Filter\n",
        "ROSAT Complete Results Archive Sources for the PSPC with Filter\n",
        "XTE Target Index Catalog\n",
        "Sloan Digital Sky Survey Quasars Detected by Chandra\n",
        "Sloan Digital Sky Survey (DR5)/XMM-Newton Quasar Survey Catalog\n",
        "SSA22 Field Chandra X-Ray Point Source Catalog\n",
        "Spitzer Wide-Area IR Extra-Galactic Survey Chandra X-Ray Sources\n",
        "XMM-Newton Bright Serendipitous Survey: AGN X-Ray Spectral Properties\n",
        "XMM-Newton Large-Scale Structure Optical Identifications Catalog\n",
        "XMM-Newton 2XMMi-DR3 Selected Source Detections Catalog\n",
        "XMM-Newton 2XMMi-DR3 Selected Source Classifications Catalog\n",
        "XTE Archived Public Slew Data\n"
       ]
      }
     ],
     "prompt_number": 5
    },
    {
     "cell_type": "heading",
     "level": 4,
     "metadata": {},
     "source": [
      "You should have notice that the answer returned by the 'pyvo.regsearch' function is a container (i.e, a list) with objects relative to each catalog service found (matching our query). Let's see what are the attributes (except from 'title') of these objects so that we can have a better idea of what we have found so far..."
     ]
    },
    {
     "cell_type": "code",
     "collapsed": false,
     "input": [
      "from pprint import pprint\n",
      "from inspect import getmembers,isroutine\n",
      "attrs = getmembers(r, lambda a:not(isroutine(a)))\n",
      "print \"Attributes:\"\n",
      "pprint([ a[0] for a in attrs if not '_' in a[0] ])\n",
      "print \"\\nRoutines:\"\n",
      "print([ a[0] for a in getmembers(r, lambda a:isroutine(a)) if not '_' in a[0] ])"
     ],
     "language": "python",
     "metadata": {},
     "outputs": [
      {
       "output_type": "stream",
       "stream": "stdout",
       "text": [
        "Attributes:\n",
        "['accessurl',\n",
        " 'capability',\n",
        " 'contentlevel',\n",
        " 'identifier',\n",
        " 'ivoid',\n",
        " 'publisher',\n",
        " 'rec',\n",
        " 'shortname',\n",
        " 'standardid',\n",
        " 'subject',\n",
        " 'tags',\n",
        " 'title',\n",
        " 'type',\n",
        " 'waveband']\n",
        "\n",
        "Routines:\n",
        "['cachedataset', 'fielddesc', 'get', 'getdataset', 'getdataurl', 'items', 'iteritems', 'iterkeys', 'itervalues', 'keys', 'search', 'values']\n"
       ]
      }
     ],
     "prompt_number": 6
    },
    {
     "cell_type": "heading",
     "level": 4,
     "metadata": {},
     "source": [
      "Some attributes look suggestive, like 'capability', 'contentlevel', 'subject'... But, let's see what they really provide."
     ]
    },
    {
     "cell_type": "code",
     "collapsed": false,
     "input": [
      "for a in attrs:\n",
      "    if not '_' in a[0]: \n",
      "        print(\"%-15s :     %s\" % (a[0],a[1]))"
     ],
     "language": "python",
     "metadata": {},
     "outputs": [
      {
       "output_type": "stream",
       "stream": "stdout",
       "text": [
        "accessurl       :     http://heasarc.gsfc.nasa.gov/cgi-bin/vo/cone/coneGet.pl?table=xteslew&amp;\n",
        "capability      :     ConeSearch\n",
        "contentlevel    :     ('Research',)\n",
        "identifier      :     ivo://nasa.heasarc/xteslew#1\n",
        "ivoid           :     ivo://nasa.heasarc/xteslew#1\n",
        "publisher       :     NASA/GSFC HEASARC\n",
        "rec             :     ('Catalog', 'XTESLEW [1]', 'XTE Archived Public Slew Data', 'This database table is a catalog of all the RXTE slew observations and is based on information culled from the RXTE Data Archive\\'s latest top-level FMI (FITS Master Index) file that is created when data products are made publicly available each week. ObsIDs listed in this table are available for download from &lt;a href=\"ftp://legacy.gsfc.nasa.gov/xte/data/archive/\"&gt;ftp://legacy.gsfc.nasa.gov/xte/data/archive/&lt;/a&gt;. See the parameter \\'data_loc\\' for the relative location of specific ObsIDs.', 'NASA/GSFC HEASARC', '#X-ray#', 'ivo://nasa.heasarc/xteslew#1', '2013-06-25T00:00:00', '#Survey Source#', '#Archive#', '#Research#', 0.5, '', 'ivo://nasa.heasarc/xteslew', 'ConeSearch', 'ivo://ivoa.net/std/ConeSearch', '2', 'ParamHTTP', '', 'std?', 'http://heasarc.gsfc.nasa.gov/cgi-bin/vo/cone/coneGet.pl?table=xteslew&amp;', 180.0, 99999, 'ivo://nasa.heasarc/ASD', 'http://heasarc.gsfc.nasa.gov/W3Browse/xte/xteslew.html')\n",
        "shortname       :     XTESLEW [1]\n",
        "standardid      :     ivo://ivoa.net/std/ConeSearch\n",
        "subject         :     ('Survey Source',)\n",
        "tags            :     Catalog\n",
        "title           :     XTE Archived Public Slew Data\n",
        "type            :     ('Archive',)\n",
        "waveband        :     ('X-ray',)\n"
       ]
      }
     ],
     "prompt_number": 7
    },
    {
     "cell_type": "heading",
     "level": 4,
     "metadata": {},
     "source": [
      "OK, so we have some informations about the service, but nothing really enjoyable regarding the data itself. It is important to notice that the 'rec' attribute has a description in it (the 4th field); we want to have (better) access to it. Indeed, we can access the description through the method 'get':"
     ]
    },
    {
     "cell_type": "code",
     "collapsed": false,
     "input": [
      "print r.get('description')"
     ],
     "language": "python",
     "metadata": {},
     "outputs": [
      {
       "output_type": "stream",
       "stream": "stdout",
       "text": [
        "This database table is a catalog of all the RXTE slew observations and is based on information culled from the RXTE Data Archive's latest top-level FMI (FITS Master Index) file that is created when data products are made publicly available each week. ObsIDs listed in this table are available for download from &lt;a href=\"ftp://legacy.gsfc.nasa.gov/xte/data/archive/\"&gt;ftp://legacy.gsfc.nasa.gov/xte/data/archive/&lt;/a&gt;. See the parameter 'data_loc' for the relative location of specific ObsIDs.\n"
       ]
      }
     ],
     "prompt_number": 23
    },
    {
     "cell_type": "heading",
     "level": 4,
     "metadata": {},
     "source": [
      "Nice. So, until now we could get some high level information that more-or-less gives us the scope of the catalog. I want now to go to a level lower, the catalog itself, to see what information the metadata can give us to see if the catalog can be used on our purpose."
     ]
    },
    {
     "cell_type": "heading",
     "level": 2,
     "metadata": {},
     "source": [
      "2) Ivestigating a catalog's metadata"
     ]
    },
    {
     "cell_type": "heading",
     "level": 4,
     "metadata": {},
     "source": [
      "To reach the catalog's metadata we will download a null version of the table. As \"null\" I mean a table without data (i.e, sources). The aim here is to further analyse if the catalog/table has the king of information we are looking for: flux-related data and the spectral/photon index."
     ]
    },
    {
     "cell_type": "code",
     "collapsed": false,
     "input": [
      "r_service = r.to_service() # get an object to query the particular (\"r\") service\n",
      "print r_service.baseurl # check if the URLs match; should be the same printed out by the 'accessurl' attribute above"
     ],
     "language": "python",
     "metadata": {},
     "outputs": [
      {
       "output_type": "stream",
       "stream": "stdout",
       "text": [
        "http://heasarc.gsfc.nasa.gov/cgi-bin/vo/cone/coneGet.pl?table=xteslew&amp;\n"
       ]
      }
     ],
     "prompt_number": 8
    },
    {
     "cell_type": "code",
     "collapsed": false,
     "input": [
      "help(r_service.search)"
     ],
     "language": "python",
     "metadata": {},
     "outputs": [
      {
       "output_type": "stream",
       "stream": "stdout",
       "text": [
        "Help on method search in module pyvo.dal.scs:\n",
        "\n",
        "search(self, pos, radius=1.0, verbosity=2) method of pyvo.dal.scs.SCSService instance\n",
        "    submit a simple Cone Search query that requests objects or observations\n",
        "    whose positions fall within some distance from a search position.  \n",
        "    \n",
        "    Parameters\n",
        "    ----------\n",
        "    pos : 2-element tuple/list of floats\n",
        "       a 2-element tuple or list containing the ICRS right ascension \n",
        "       and declination defining the position of the center \n",
        "       of the circular search region, in decimal degrees\n",
        "    radius : float\n",
        "       the radius of the circular search region, in decimal degrees\n",
        "    verbosity : int\n",
        "       an integer value that indicates the volume of columns\n",
        "       to return in the result table.  0 means the minimum\n",
        "       set of columsn, 3 means as many columns as are \n",
        "       available. \n",
        "    \n",
        "    Returns\n",
        "    -------\n",
        "    SCSResults\n",
        "        a container holding a table of matching catalog records \n",
        "    \n",
        "    Raises\n",
        "    ------\n",
        "    DALServiceError\n",
        "       for errors connecting to or \n",
        "       communicating with the service\n",
        "    DALQueryError\n",
        "       if the service responds with \n",
        "       an error, including a query syntax error.  \n",
        "    \n",
        "    See Also\n",
        "    --------\n",
        "    SCSResults\n",
        "    pyvo.dal.query.DALServiceError\n",
        "    pyvo.dal.query.DALQueryError\n",
        "\n"
       ]
      }
     ],
     "prompt_number": 9
    },
    {
     "cell_type": "code",
     "collapsed": false,
     "input": [
      "cat = r_service.search( pos=(0,0), radius=0.00001 ) # search for a \"null\" point in the sky"
     ],
     "language": "python",
     "metadata": {},
     "outputs": [
      {
       "output_type": "stream",
       "stream": "stderr",
       "text": [
        "WARNING: W48: dal_query:13:3: W48: Unknown attribute 'format' on FIELD [astropy.io.votable.exceptions]\n",
        "WARNING: W48: dal_query:16:3: W48: Unknown attribute 'format' on FIELD [astropy.io.votable.exceptions]\n",
        "WARNING: W50: dal_query:19:3: W50: Invalid unit string 'mjd' [astropy.io.votable.exceptions]\n",
        "WARNING: W50: dal_query:22:3: W50: Invalid unit string 'mjd' [astropy.io.votable.exceptions]\n",
        "WARNING: W48: dal_query:28:3: W48: Unknown attribute 'format' on FIELD [astropy.io.votable.exceptions]\n"
       ]
      }
     ],
     "prompt_number": 10
    },
    {
     "cell_type": "heading",
     "level": 4,
     "metadata": {},
     "source": [
      "Again, let's see what are the attributes of the catalog (\"cat\") object. For convenience we will define a function to give us a higher level to query this kind of information."
     ]
    },
    {
     "cell_type": "code",
     "collapsed": false,
     "input": [
      "def printPublicMembers(obj):\n",
      "    from inspect import getmembers\n",
      "    members = getmembers(obj)\n",
      "    for m in members:\n",
      "        if not '_' in m[0]:\n",
      "            print(\"%-15s :   %s\" % (m[0],str(m[1])))\n",
      "printPublicMembers(cat)"
     ],
     "language": "python",
     "metadata": {},
     "outputs": [
      {
       "output_type": "stream",
       "stream": "stdout",
       "text": [
        "cursor          :   <bound method SCSResults.cursor of <pyvo.dal.scs.SCSResults object at 0x1055bd950>>\n",
        "fielddesc       :   <bound method SCSResults.fielddesc of <pyvo.dal.scs.SCSResults object at 0x1055bd950>>\n",
        "fieldnames      :   <bound method SCSResults.fieldnames of <pyvo.dal.scs.SCSResults object at 0x1055bd950>>\n",
        "getcolumn       :   <bound method SCSResults.getcolumn of <pyvo.dal.scs.SCSResults object at 0x1055bd950>>\n",
        "getdesc         :   <bound method SCSResults.getdesc of <pyvo.dal.scs.SCSResults object at 0x1055bd950>>\n",
        "getrecord       :   <bound method SCSResults.getrecord of <pyvo.dal.scs.SCSResults object at 0x1055bd950>>\n",
        "getvalue        :   <bound method SCSResults.getvalue of <pyvo.dal.scs.SCSResults object at 0x1055bd950>>\n",
        "nrecs           :   4\n",
        "protocol        :   scs\n",
        "queryurl        :   http://heasarc.gsfc.nasa.gov/cgi-bin/vo/cone/coneGet.pl?table=xteslew&amp;&RA=0&DEC=0&SR=1e-05&VERB=2\n",
        "version         :   1.0\n",
        "votable         :        obsid        target_name     ra ...       pi_name       Search_Offset\n",
        "                                 deg ...                                  \n",
        "--------------- ---------------- --- ... ------------------- -------------\n",
        "00021-01-01-00A              FDF 0.0 ...        KEITH JAHODA           0.0\n",
        "00021-01-01-00Z              FDF 0.0 ...        KEITH JAHODA           0.0\n",
        "95108-01-01-00A BH_TRANSIENT_TOO 0.0 ... PIERGIORGIO CASELLA           0.0\n",
        "95108-01-01-00Z BH_TRANSIENT_TOO 0.0 ... PIERGIORGIO CASELLA           0.0"
       ]
      },
      {
       "output_type": "stream",
       "stream": "stdout",
       "text": [
        "\n"
       ]
      }
     ],
     "prompt_number": 11
    },
    {
     "cell_type": "heading",
     "level": 4,
     "metadata": {},
     "source": [
      "Let's see what the methods 'fielddesc' and 'fieldnames' give to us."
     ]
    },
    {
     "cell_type": "code",
     "collapsed": false,
     "input": [
      "print cat.fieldnames() # print the names of table columns"
     ],
     "language": "python",
     "metadata": {},
     "outputs": [
      {
       "output_type": "stream",
       "stream": "stdout",
       "text": [
        "[u'obsid', u'target_name', u'ra', u'dec', u'start_time', u'stop_time', u'pi_name', u'Search_Offset']\n"
       ]
      }
     ],
     "prompt_number": 12
    },
    {
     "cell_type": "code",
     "collapsed": false,
     "input": [
      "for f in cat.fielddesc(): # and what kind of information they store\n",
      "    print(\"%-15s : %-40s %-20s %-10s\" % (f.name,f.description,f.ucd,f.unit))"
     ],
     "language": "python",
     "metadata": {},
     "outputs": [
      {
       "output_type": "stream",
       "stream": "stdout",
       "text": [
        "obsid           : Unique ID of Observation                 ID_MAIN              None      \n",
        "target_name     : Target Designation                       None                 None      \n",
        "ra              : Right Ascension of Target                POS_EQ_RA_MAIN       deg       \n",
        "dec             : Declination of Target                    POS_EQ_DEC_MAIN      deg       \n",
        "start_time      : Start Time of Observation                time.start;obs       mjd       \n",
        "stop_time       : End Time of Observation                  None                 mjd       \n",
        "pi_name         : Principal Investigator of Observation    meta.id.PI           None      \n",
        "Search_Offset   : None                                     None                 None      \n"
       ]
      }
     ],
     "prompt_number": 13
    },
    {
     "cell_type": "code",
     "collapsed": false,
     "input": [],
     "language": "python",
     "metadata": {},
     "outputs": []
    }
   ],
   "metadata": {}
  }
 ]
}