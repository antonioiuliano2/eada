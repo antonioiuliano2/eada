{
 "metadata": {
  "name": "",
  "signature": "sha256:af12dd6aa34ec9c67e2755f2b0c8bce8a737fad2806257e0f4b62d227364dfd5"
 },
 "nbformat": 3,
 "nbformat_minor": 0,
 "worksheets": [
  {
   "cells": [
    {
     "cell_type": "heading",
     "level": 1,
     "metadata": {},
     "source": [
      "Searching for X-Ray catalogues on VO for SED studies"
     ]
    },
    {
     "cell_type": "heading",
     "level": 2,
     "metadata": {},
     "source": [
      "1) Search for \"all\" X-Ray catalogues"
     ]
    },
    {
     "cell_type": "heading",
     "level": 4,
     "metadata": {},
     "source": [
      "Using the 'PyVO' package, with the use of function 'regsearch', we will search for X-Ray catalogues useful for Spectral Energy Distribution (SED) analysis. We will filter catalogues with flux-related data and spectral/photon index information."
     ]
    },
    {
     "cell_type": "code",
     "collapsed": false,
     "input": [
      "import pyvo\n",
      "#help(pyvo.regsearch)\n",
      "import warnings; warnings.simplefilter('ignore') # suppress warnings..."
     ],
     "language": "python",
     "metadata": {},
     "outputs": [],
     "prompt_number": 1
    },
    {
     "cell_type": "heading",
     "level": 4,
     "metadata": {},
     "source": [
      "Obs: The registry we will query the catalog services is the default one configured on PyVO:"
     ]
    },
    {
     "cell_type": "code",
     "collapsed": false,
     "input": [
      "print(\"%s \\n\" % pyvo.registry.RegistryQuery().baseurl)"
     ],
     "language": "python",
     "metadata": {},
     "outputs": [
      {
       "output_type": "stream",
       "stream": "stdout",
       "text": [
        "http://vao.stsci.edu/directory/NVORegInt.asmx/ \n",
        "\n"
       ]
      }
     ],
     "prompt_number": 2
    },
    {
     "cell_type": "heading",
     "level": 4,
     "metadata": {},
     "source": [
      "To do the search we need then to define 'waveband'(=\"xray\"), 'servicetype'(=\"conesearch\"). These two are mandatory for our purpose here. Also, since the spectral/photon index information is a great information to have -- and we want two at this moment -- we will filter the results to accomplish that. So, we will define also the 'keywords'(=\"index\") argument to see if we get a nice answer."
     ]
    },
    {
     "cell_type": "code",
     "collapsed": false,
     "input": [
      "records = pyvo.regsearch(waveband='xray',servicetype='conesearch',keywords='index')"
     ],
     "language": "python",
     "metadata": {},
     "outputs": [],
     "prompt_number": 3
    },
    {
     "cell_type": "heading",
     "level": 4,
     "metadata": {},
     "source": [
      "And we can now inspect the answer to see what are the services returned"
     ]
    },
    {
     "cell_type": "code",
     "collapsed": false,
     "input": [
      "records.nrecs # number of services found"
     ],
     "language": "python",
     "metadata": {},
     "outputs": [
      {
       "metadata": {},
       "output_type": "pyout",
       "prompt_number": 4,
       "text": [
        "42"
       ]
      }
     ],
     "prompt_number": 4
    },
    {
     "cell_type": "code",
     "collapsed": false,
     "input": [
      "for r in records: print r.title # Title (name) of the services (catalogues) found"
     ],
     "language": "python",
     "metadata": {},
     "outputs": [
      {
       "output_type": "stream",
       "stream": "stdout",
       "text": [
        "HEAO 1 A2 Piccinotti Catalog\n",
        "Atlas of Radio/X-Ray Associations (ARXA)\n",
        "CGRO/BATSE 5B Gamma-Ray Burst Spectral Catalog\n",
        "Chandra Deep Field South AGN Spectral Properties Catalog\n",
        "CHAMP/SDSS Nearby Low-Luminosity AGN Catalog\n",
        "M 31 Central Region Chandra X-Ray Point Source Catalog\n",
        "Chandra Archive Of Galaxies Ultraluminous X-Ray Source Catalog\n",
        "INTEGRAL IBIS Hard X-Ray Survey of Galactic Center\n",
        "Second INTEGRAL AGN Catalog\n",
        "Soft X-ray properties of Seyfert galaxies (Pfefferkorn+, 2001)\n",
        "Soft X-ray properties of Seyfert galaxies (Pfefferkorn+, 2001)\n",
        "Spectral analysis of Lockman Hole (Mainieri+, 2002)\n",
        "AGN in XMM-Newton Hard Bright Survey (Della Ceca+, 2008)\n",
        "AGN-Host Galaxy Connection (Povic+, 2012)\n",
        "Spectra of 29 Swift/BAT optical counterparts (Parisi+, 2012)\n",
        "X-ray and radio emission of type 1 AGNs (Ballo+, 2012)\n",
        "AGN Torus model comparison of AGN in the CDFS (Buchner+, 2014)\n",
        "CDFs AGNs X-ray power-law photon index (Saez+, 2008)\n",
        "X-ray studies of stars in the Pleiades (Micela+, 1990)\n",
        "X-ray studies of stars in the Pleiades (Micela+, 1990)\n",
        "M31 Chandra X-ray point sources (Kong+, 2002)\n",
        "SED of the Fermi blazars (Li+, 2010)\n",
        "XMM-Newton survey in COSMOS field. IV. (Mainieri+, 2007)\n",
        "RIXOS source sample X-ray spectra (Mittaz+, 1999)\n",
        "X-ray+Radio sources in XBootes (El Bouchefry, 2009)\n",
        "LALA Cetus Field Chandra X-Ray Point Source Catalog\n",
        "M31 XMM-Newton Spectral Survey X-Ray Point Source Catalog\n",
        "ROSAT PSPC M31 Source Catalog\n",
        "ROSAT Radio-Loud Quasars Catalog\n",
        "ROSAT Radio-Quiet Quasars Catalog\n",
        "ROSAT Results Archive Sources for the PSPC with Filter\n",
        "ROSAT Complete Results Archive Sources for the PSPC with Filter\n",
        "XTE Target Index Catalog\n",
        "Sloan Digital Sky Survey Quasars Detected by Chandra\n",
        "Sloan Digital Sky Survey (DR5)/XMM-Newton Quasar Survey Catalog\n",
        "SSA22 Field Chandra X-Ray Point Source Catalog\n",
        "Spitzer Wide-Area IR Extra-Galactic Survey Chandra X-Ray Sources\n",
        "XMM-Newton Bright Serendipitous Survey: AGN X-Ray Spectral Properties\n",
        "XMM-Newton Large-Scale Structure Optical Identifications Catalog\n",
        "XMM-Newton 2XMMi-DR3 Selected Source Detections Catalog\n",
        "XMM-Newton 2XMMi-DR3 Selected Source Classifications Catalog\n",
        "XTE Archived Public Slew Data\n"
       ]
      }
     ],
     "prompt_number": 5
    },
    {
     "cell_type": "heading",
     "level": 4,
     "metadata": {},
     "source": [
      "You should have notice that the answer returned by the 'pyvo.regsearch' function is a container (i.e, a list) with objects relative to each catalog service found (matching our query). Let's see what are the attributes (except from 'title') of these objects so that we can have a better idea of what we have found so far..."
     ]
    },
    {
     "cell_type": "code",
     "collapsed": false,
     "input": [
      "r = records[0] # let us save a reference (\"r\") for the Piccinotti catalog for what follows"
     ],
     "language": "python",
     "metadata": {},
     "outputs": [],
     "prompt_number": 6
    },
    {
     "cell_type": "code",
     "collapsed": false,
     "input": [
      "from pprint import pprint\n",
      "from inspect import getmembers,isroutine\n",
      "attrs = getmembers(r, lambda a:not(isroutine(a)))\n",
      "print \"Attributes:\"\n",
      "pprint([ a[0] for a in attrs if not '_' in a[0] ])\n",
      "print \"\\nRoutines:\"\n",
      "print([ a[0] for a in getmembers(r, lambda a:isroutine(a)) if not '_' in a[0] ])"
     ],
     "language": "python",
     "metadata": {},
     "outputs": [
      {
       "output_type": "stream",
       "stream": "stdout",
       "text": [
        "Attributes:\n",
        "['accessurl',\n",
        " 'capability',\n",
        " 'contentlevel',\n",
        " 'identifier',\n",
        " 'ivoid',\n",
        " 'publisher',\n",
        " 'rec',\n",
        " 'shortname',\n",
        " 'standardid',\n",
        " 'subject',\n",
        " 'tags',\n",
        " 'title',\n",
        " 'type',\n",
        " 'waveband']\n",
        "\n",
        "Routines:\n",
        "['cachedataset', 'fielddesc', 'get', 'getdataset', 'getdataurl', 'items', 'iteritems', 'iterkeys', 'itervalues', 'keys', 'search', 'values']\n"
       ]
      }
     ],
     "prompt_number": 7
    },
    {
     "cell_type": "heading",
     "level": 4,
     "metadata": {},
     "source": [
      "Some attributes look suggestive, like 'capability', 'contentlevel', 'subject'... But, let's see what they really provide."
     ]
    },
    {
     "cell_type": "code",
     "collapsed": false,
     "input": [
      "for a in attrs:\n",
      "    if not '_' in a[0]: \n",
      "        print(\"%-15s :     %s\" % (a[0],a[1]))"
     ],
     "language": "python",
     "metadata": {},
     "outputs": [
      {
       "output_type": "stream",
       "stream": "stdout",
       "text": [
        "accessurl       :     http://heasarc.gsfc.nasa.gov/cgi-bin/vo/cone/coneGet.pl?table=a2pic&amp;\n",
        "capability      :     ConeSearch\n",
        "contentlevel    :     ('Research',)\n",
        "identifier      :     ivo://nasa.heasarc/a2pic#1\n",
        "ivoid           :     ivo://nasa.heasarc/a2pic#1\n",
        "publisher       :     NASA/GSFC HEASARC\n",
        "rec             :     ('Catalog', 'A2PIC [1]', 'HEAO 1 A2 Piccinotti Catalog', \"The HEAO 1 A-2 experiment's operations began on day 224 of 1977 (12 August 1977) and ended on day 739 of 1977 (9 January 1979). The A-2 experiment performed two independent, low-background, high-sensitivity surveys of the entire sky 6 months apart, the first scan during days 248 to 437 of 1977 (5 September 1977 - 13 March 1978) and the second scan during days 73 to 254 of 1978 (14 March 1978 - 11 September 1978). The authors analysed the A-2 data in order to obtain a complete flux-limited sample of extragalactic X-ray sources. The region between galactic latitudes of -20 and +20 degrees was excluded to minimize contamination from galactic sources. A circle of 6 degrees radius around the Large Magellanic Cloud sources was also excluded to prevent confusion problems. Therefore, there remained 65.5% of the sky (8.23 steradians) covered by this survey. The lowest statistical significance for the existence of the sources included in this catalog is 5 sigma, as required by the maximum likelihood methods used by the authors to determine the log N - log S parameters. Taking into account this statistical significance requirement, the authors estimated the completeness level of the first and second scans to be 1.25 and 1.8 R15 ct/s, respectively. 1 R15 ct/s is approximately 2.17 x 10^-11 erg/cm^2/s in the 2-10 keV energy band for a power-law spectyrum with a photon index of 1.65. This catalog contains data for 68 nongalactic sources (61 extragalactic and 7 unidentified sources) which were listed in Table 1 of the published catalog. The identified sources fall into several categories, including narrow emission line galaxies, broad emission line galaxies, BL Lacertae objects, and clusters of galaxies.\", 'NASA/GSFC HEASARC', '#X-ray#', 'ivo://nasa.heasarc/a2pic#1', '2013-06-25T00:00:00', '#Extragalactic Source#', '#Catalog#', '#Research#', 1.0, '', 'ivo://nasa.heasarc/a2pic', 'ConeSearch', 'ivo://ivoa.net/std/ConeSearch', '2', 'ParamHTTP', '', 'std?', 'http://heasarc.gsfc.nasa.gov/cgi-bin/vo/cone/coneGet.pl?table=a2pic&amp;', 180.0, 99999, 'ivo://nasa.heasarc/ASD', 'http://heasarc.gsfc.nasa.gov/W3Browse/heao1/a2pic.html')\n",
        "shortname       :     A2PIC [1]\n",
        "standardid      :     ivo://ivoa.net/std/ConeSearch\n",
        "subject         :     ('Extragalactic Source',)\n",
        "tags            :     Catalog\n",
        "title           :     HEAO 1 A2 Piccinotti Catalog\n",
        "type            :     ('Catalog',)\n",
        "waveband        :     ('X-ray',)\n"
       ]
      }
     ],
     "prompt_number": 8
    },
    {
     "cell_type": "heading",
     "level": 4,
     "metadata": {},
     "source": [
      "OK, so we have some good informations about the service... In particular, the description found in the 'rec' attribute (the 4th field), which present the main features/purposes of the catalog. We can access the description through record's method 'get':"
     ]
    },
    {
     "cell_type": "code",
     "collapsed": false,
     "input": [
      "print r.get('description')"
     ],
     "language": "python",
     "metadata": {},
     "outputs": [
      {
       "output_type": "stream",
       "stream": "stdout",
       "text": [
        "The HEAO 1 A-2 experiment's operations began on day 224 of 1977 (12 August 1977) and ended on day 739 of 1977 (9 January 1979). The A-2 experiment performed two independent, low-background, high-sensitivity surveys of the entire sky 6 months apart, the first scan during days 248 to 437 of 1977 (5 September 1977 - 13 March 1978) and the second scan during days 73 to 254 of 1978 (14 March 1978 - 11 September 1978). The authors analysed the A-2 data in order to obtain a complete flux-limited sample of extragalactic X-ray sources. The region between galactic latitudes of -20 and +20 degrees was excluded to minimize contamination from galactic sources. A circle of 6 degrees radius around the Large Magellanic Cloud sources was also excluded to prevent confusion problems. Therefore, there remained 65.5% of the sky (8.23 steradians) covered by this survey. The lowest statistical significance for the existence of the sources included in this catalog is 5 sigma, as required by the maximum likelihood methods used by the authors to determine the log N - log S parameters. Taking into account this statistical significance requirement, the authors estimated the completeness level of the first and second scans to be 1.25 and 1.8 R15 ct/s, respectively. 1 R15 ct/s is approximately 2.17 x 10^-11 erg/cm^2/s in the 2-10 keV energy band for a power-law spectyrum with a photon index of 1.65. This catalog contains data for 68 nongalactic sources (61 extragalactic and 7 unidentified sources) which were listed in Table 1 of the published catalog. The identified sources fall into several categories, including narrow emission line galaxies, broad emission line galaxies, BL Lacertae objects, and clusters of galaxies.\n"
       ]
      }
     ],
     "prompt_number": 9
    },
    {
     "cell_type": "heading",
     "level": 4,
     "metadata": {},
     "source": [
      "Nice. So, until now we could get some high level information that gives us the scope of the catalog. I want now to go to a lower level -- the catalog itself -- to see what information the metadata can give us to see if the catalog can be used on our purpose.\n",
      "Obs: before going to the next step, I want you to notice the (photon) \"index\" information (which we want) in this description; we should come back to this point later."
     ]
    },
    {
     "cell_type": "heading",
     "level": 2,
     "metadata": {},
     "source": [
      "2) Ivestigating a catalog's metadata"
     ]
    },
    {
     "cell_type": "heading",
     "level": 4,
     "metadata": {},
     "source": [
      "To reach the catalog's metadata we will download a null version of the table. As \"null\" I mean a table without data (i.e, sources). The aim here is to further analyse if the catalog/table has the king of information we are looking for: flux-related data and the spectral/photon index."
     ]
    },
    {
     "cell_type": "code",
     "collapsed": false,
     "input": [
      "r_service = r.to_service() # get an object to query the particular (\"r\") service\n",
      "print r_service.baseurl # check if the URLs match; should be the same printed out by the 'accessurl' attribute above"
     ],
     "language": "python",
     "metadata": {},
     "outputs": [
      {
       "output_type": "stream",
       "stream": "stdout",
       "text": [
        "http://heasarc.gsfc.nasa.gov/cgi-bin/vo/cone/coneGet.pl?table=a2pic&amp;\n"
       ]
      }
     ],
     "prompt_number": 10
    },
    {
     "cell_type": "code",
     "collapsed": false,
     "input": [
      "#help(r_service.search)"
     ],
     "language": "python",
     "metadata": {},
     "outputs": [],
     "prompt_number": 11
    },
    {
     "cell_type": "code",
     "collapsed": false,
     "input": [
      "cat = r_service.search( pos=(0,0), radius=0.00001 ) # search for a \"null\" point in the sky"
     ],
     "language": "python",
     "metadata": {},
     "outputs": [],
     "prompt_number": 12
    },
    {
     "cell_type": "heading",
     "level": 4,
     "metadata": {},
     "source": [
      "Again, let's see what are the attributes of the catalog (\"cat\") object. For convenience we will define a function to give us a higher level to query this kind of information."
     ]
    },
    {
     "cell_type": "code",
     "collapsed": false,
     "input": [
      "def printPublicMembers(obj):\n",
      "    from inspect import getmembers\n",
      "    members = getmembers(obj)\n",
      "    for m in members:\n",
      "        if not '_' in m[0]:\n",
      "            print(\"%-15s :   %s\" % (m[0],str(m[1])))\n",
      "printPublicMembers(cat)"
     ],
     "language": "python",
     "metadata": {},
     "outputs": [
      {
       "output_type": "stream",
       "stream": "stdout",
       "text": [
        "cursor          :   <bound method SCSResults.cursor of <pyvo.dal.scs.SCSResults object at 0x2c48210>>\n",
        "fielddesc       :   <bound method SCSResults.fielddesc of <pyvo.dal.scs.SCSResults object at 0x2c48210>>\n",
        "fieldnames      :   <bound method SCSResults.fieldnames of <pyvo.dal.scs.SCSResults object at 0x2c48210>>\n",
        "getcolumn       :   <bound method SCSResults.getcolumn of <pyvo.dal.scs.SCSResults object at 0x2c48210>>\n",
        "getdesc         :   <bound method SCSResults.getdesc of <pyvo.dal.scs.SCSResults object at 0x2c48210>>\n",
        "getrecord       :   <bound method SCSResults.getrecord of <pyvo.dal.scs.SCSResults object at 0x2c48210>>\n",
        "getvalue        :   <bound method SCSResults.getvalue of <pyvo.dal.scs.SCSResults object at 0x2c48210>>\n",
        "nrecs           :   0\n",
        "protocol        :   scs\n",
        "queryurl        :   http://heasarc.gsfc.nasa.gov/cgi-bin/vo/cone/coneGet.pl?table=a2pic&amp;&RA=0&DEC=0&SR=1e-05&VERB=2\n",
        "version         :   1.0\n",
        "votable         :   catalog_designation name  ra dec count_rate count_rate_error class Search_Offset\n",
        "------------------- ---- --- --- ---------- ---------------- ----- -------------"
       ]
      },
      {
       "output_type": "stream",
       "stream": "stdout",
       "text": [
        "\n"
       ]
      }
     ],
     "prompt_number": 13
    },
    {
     "cell_type": "heading",
     "level": 4,
     "metadata": {},
     "source": [
      "Let's see what the methods 'fielddesc' and 'fieldnames' give to us."
     ]
    },
    {
     "cell_type": "code",
     "collapsed": false,
     "input": [
      "print cat.fieldnames() # print the names of table columns"
     ],
     "language": "python",
     "metadata": {},
     "outputs": [
      {
       "output_type": "stream",
       "stream": "stdout",
       "text": [
        "[u'catalog_designation', u'name', u'ra', u'dec', u'count_rate', u'count_rate_error', u'class', u'Search_Offset']\n"
       ]
      }
     ],
     "prompt_number": 14
    },
    {
     "cell_type": "code",
     "collapsed": false,
     "input": [
      "for f in cat.fielddesc(): # and what kind of information they store\n",
      "    print(\"%-20s : %-40s %-35s %-10s\" % (f.name,f.description,f.ucd,f.unit))"
     ],
     "language": "python",
     "metadata": {},
     "outputs": [
      {
       "output_type": "stream",
       "stream": "stdout",
       "text": [
        "catalog_designation  : HEAO A2 Catalog Source Name              None                                None      \n",
        "name                 : Optical Source Identification            ID_MAIN                             None      \n",
        "ra                   : Right Ascension                          POS_EQ_RA_MAIN                      deg       \n",
        "dec                  : Declination                              POS_EQ_DEC_MAIN                     deg       \n",
        "count_rate           : R15 (counts/s), 1st 6-month Pass         phot.count;em.X-ray                 ct / s    \n",
        "count_rate_error     : Error on First Count Rate                stat.error;phot.count;em.X-ray      ct / s    \n",
        "class                : Browse Object Classification             src.class                           None      \n",
        "Search_Offset        : None                                     None                                None      \n"
       ]
      }
     ],
     "prompt_number": 15
    },
    {
     "cell_type": "heading",
     "level": 4,
     "metadata": {},
     "source": [
      "That is the kind of information we are looking for: photon counts, count rates."
     ]
    },
    {
     "cell_type": "heading",
     "level": 3,
     "metadata": {},
     "source": [
      "2.1) Collecting all catalogues UCD and Unit information"
     ]
    },
    {
     "cell_type": "code",
     "collapsed": false,
     "input": [
      "def getUCD(tab):\n",
      "    \"\"\"Returns a list with all (valid) UCDs from a table\"\"\"\n",
      "    from astropy.io.votable import ucd\n",
      "    l1 = []\n",
      "    for f in tab.fielddesc():\n",
      "        if not f.ucd: continue\n",
      "        l2 = []\n",
      "        for u in ucd.parse_ucd(f.ucd):\n",
      "            l2.append(str(u[1]))\n",
      "        l1.extend(l2)\n",
      "    return l1[:]\n",
      "\n",
      "def getUnit(tab):\n",
      "    \"\"\"Returns a list of units from a table\"\"\"\n",
      "    l = []\n",
      "    for f in tab.fielddesc():\n",
      "        if not f.unit: continue\n",
      "        l.append(str(f.unit).replace(' ',''))\n",
      "    return l[:]\n",
      "\n",
      "# Let's define a function that does the search, exactly what we have already done\n",
      "def retrieveTable(record):\n",
      "    \"\"\"Retrieve an empty table referenced by the record\"\"\"\n",
      "    serv = record.to_service()\n",
      "    tab = serv.search( pos=(0,0), radius=0.00001 )\n",
      "    return tab\n",
      "\n",
      "# Let's loop over all records/catalogues...\n",
      "Catalogues = {}\n",
      "for r in records:\n",
      "    print(\"*-> %s\" % r.title)\n",
      "    cat = retrieveTable(r)\n",
      "#    if not cat:\n",
      "#        print(\"NOT   %s     %s\" % (r.accessurl,r.publisher))\n",
      "#    else:\n",
      "#        print(\"YES   %s     %s\" % (r.accessurl,r.publisher))\n",
      "    if cat != None:\n",
      "        Catalogues[r] = cat\n",
      "print \"Done.\""
     ],
     "language": "python",
     "metadata": {},
     "outputs": [
      {
       "output_type": "stream",
       "stream": "stdout",
       "text": [
        "*-> HEAO 1 A2 Piccinotti Catalog\n",
        "*-> Atlas of Radio/X-Ray Associations (ARXA)"
       ]
      },
      {
       "output_type": "stream",
       "stream": "stdout",
       "text": [
        "\n",
        "*-> CGRO/BATSE 5B Gamma-Ray Burst Spectral Catalog"
       ]
      },
      {
       "output_type": "stream",
       "stream": "stdout",
       "text": [
        "\n",
        "*-> Chandra Deep Field South AGN Spectral Properties Catalog"
       ]
      },
      {
       "output_type": "stream",
       "stream": "stdout",
       "text": [
        "\n",
        "*-> CHAMP/SDSS Nearby Low-Luminosity AGN Catalog"
       ]
      },
      {
       "output_type": "stream",
       "stream": "stdout",
       "text": [
        "\n",
        "*-> M 31 Central Region Chandra X-Ray Point Source Catalog"
       ]
      },
      {
       "output_type": "stream",
       "stream": "stdout",
       "text": [
        "\n",
        "*-> Chandra Archive Of Galaxies Ultraluminous X-Ray Source Catalog"
       ]
      },
      {
       "output_type": "stream",
       "stream": "stdout",
       "text": [
        "\n",
        "*-> INTEGRAL IBIS Hard X-Ray Survey of Galactic Center"
       ]
      },
      {
       "output_type": "stream",
       "stream": "stdout",
       "text": [
        "\n",
        "*-> Second INTEGRAL AGN Catalog"
       ]
      },
      {
       "output_type": "stream",
       "stream": "stdout",
       "text": [
        "\n",
        "*-> Soft X-ray properties of Seyfert galaxies (Pfefferkorn+, 2001)"
       ]
      },
      {
       "output_type": "stream",
       "stream": "stdout",
       "text": [
        "\n",
        "*-> Soft X-ray properties of Seyfert galaxies (Pfefferkorn+, 2001)"
       ]
      },
      {
       "output_type": "stream",
       "stream": "stdout",
       "text": [
        "\n",
        "*-> Spectral analysis of Lockman Hole (Mainieri+, 2002)"
       ]
      },
      {
       "output_type": "stream",
       "stream": "stdout",
       "text": [
        "\n",
        "*-> AGN in XMM-Newton Hard Bright Survey (Della Ceca+, 2008)"
       ]
      },
      {
       "output_type": "stream",
       "stream": "stdout",
       "text": [
        "\n",
        "*-> AGN-Host Galaxy Connection (Povic+, 2012)"
       ]
      },
      {
       "output_type": "stream",
       "stream": "stdout",
       "text": [
        "\n",
        "*-> Spectra of 29 Swift/BAT optical counterparts (Parisi+, 2012)"
       ]
      },
      {
       "output_type": "stream",
       "stream": "stdout",
       "text": [
        "\n",
        "*-> X-ray and radio emission of type 1 AGNs (Ballo+, 2012)"
       ]
      },
      {
       "output_type": "stream",
       "stream": "stdout",
       "text": [
        "\n",
        "*-> AGN Torus model comparison of AGN in the CDFS (Buchner+, 2014)"
       ]
      },
      {
       "output_type": "stream",
       "stream": "stdout",
       "text": [
        "\n",
        "*-> CDFs AGNs X-ray power-law photon index (Saez+, 2008)"
       ]
      },
      {
       "output_type": "stream",
       "stream": "stdout",
       "text": [
        "\n",
        "*-> X-ray studies of stars in the Pleiades (Micela+, 1990)"
       ]
      },
      {
       "output_type": "stream",
       "stream": "stdout",
       "text": [
        "\n",
        "*-> X-ray studies of stars in the Pleiades (Micela+, 1990)"
       ]
      },
      {
       "output_type": "stream",
       "stream": "stdout",
       "text": [
        "\n",
        "*-> M31 Chandra X-ray point sources (Kong+, 2002)"
       ]
      },
      {
       "output_type": "stream",
       "stream": "stdout",
       "text": [
        "\n",
        "*-> SED of the Fermi blazars (Li+, 2010)"
       ]
      },
      {
       "output_type": "stream",
       "stream": "stdout",
       "text": [
        "\n",
        "*-> XMM-Newton survey in COSMOS field. IV. (Mainieri+, 2007)"
       ]
      },
      {
       "output_type": "stream",
       "stream": "stdout",
       "text": [
        "\n",
        "*-> RIXOS source sample X-ray spectra (Mittaz+, 1999)"
       ]
      },
      {
       "output_type": "stream",
       "stream": "stdout",
       "text": [
        "\n",
        "*-> X-ray+Radio sources in XBootes (El Bouchefry, 2009)"
       ]
      },
      {
       "output_type": "stream",
       "stream": "stdout",
       "text": [
        "\n",
        "*-> LALA Cetus Field Chandra X-Ray Point Source Catalog"
       ]
      },
      {
       "output_type": "stream",
       "stream": "stdout",
       "text": [
        "\n",
        "*-> M31 XMM-Newton Spectral Survey X-Ray Point Source Catalog"
       ]
      },
      {
       "output_type": "stream",
       "stream": "stdout",
       "text": [
        "\n",
        "*-> ROSAT PSPC M31 Source Catalog"
       ]
      },
      {
       "output_type": "stream",
       "stream": "stdout",
       "text": [
        "\n",
        "*-> ROSAT Radio-Loud Quasars Catalog"
       ]
      },
      {
       "output_type": "stream",
       "stream": "stdout",
       "text": [
        "\n",
        "*-> ROSAT Radio-Quiet Quasars Catalog"
       ]
      },
      {
       "output_type": "stream",
       "stream": "stdout",
       "text": [
        "\n",
        "*-> ROSAT Results Archive Sources for the PSPC with Filter"
       ]
      },
      {
       "output_type": "stream",
       "stream": "stdout",
       "text": [
        "\n",
        "*-> ROSAT Complete Results Archive Sources for the PSPC with Filter"
       ]
      },
      {
       "output_type": "stream",
       "stream": "stdout",
       "text": [
        "\n",
        "*-> XTE Target Index Catalog"
       ]
      },
      {
       "output_type": "stream",
       "stream": "stdout",
       "text": [
        "\n",
        "*-> Sloan Digital Sky Survey Quasars Detected by Chandra"
       ]
      },
      {
       "output_type": "stream",
       "stream": "stdout",
       "text": [
        "\n",
        "*-> Sloan Digital Sky Survey (DR5)/XMM-Newton Quasar Survey Catalog"
       ]
      },
      {
       "output_type": "stream",
       "stream": "stdout",
       "text": [
        "\n",
        "*-> SSA22 Field Chandra X-Ray Point Source Catalog"
       ]
      },
      {
       "output_type": "stream",
       "stream": "stdout",
       "text": [
        "\n",
        "*-> Spitzer Wide-Area IR Extra-Galactic Survey Chandra X-Ray Sources"
       ]
      },
      {
       "output_type": "stream",
       "stream": "stdout",
       "text": [
        "\n",
        "*-> XMM-Newton Bright Serendipitous Survey: AGN X-Ray Spectral Properties"
       ]
      },
      {
       "output_type": "stream",
       "stream": "stdout",
       "text": [
        "\n",
        "*-> XMM-Newton Large-Scale Structure Optical Identifications Catalog"
       ]
      },
      {
       "output_type": "stream",
       "stream": "stdout",
       "text": [
        "\n",
        "*-> XMM-Newton 2XMMi-DR3 Selected Source Detections Catalog"
       ]
      },
      {
       "output_type": "stream",
       "stream": "stdout",
       "text": [
        "\n",
        "*-> XMM-Newton 2XMMi-DR3 Selected Source Classifications Catalog"
       ]
      },
      {
       "output_type": "stream",
       "stream": "stdout",
       "text": [
        "\n",
        "*-> XTE Archived Public Slew Data"
       ]
      },
      {
       "output_type": "stream",
       "stream": "stdout",
       "text": [
        "\n",
        "Done."
       ]
      },
      {
       "output_type": "stream",
       "stream": "stdout",
       "text": [
        "\n"
       ]
      }
     ],
     "prompt_number": 16
    },
    {
     "cell_type": "heading",
     "level": 4,
     "metadata": {},
     "source": [
      "Let us print the UCDs found on all catalogues:"
     ]
    },
    {
     "cell_type": "code",
     "collapsed": false,
     "input": [
      "UCDs = set()\n",
      "for cat in Catalogues.itervalues():\n",
      "    if cat is None: continue\n",
      "    l = getUCD(cat)\n",
      "    UCDs.update(set(l))\n",
      "UCDl = list(UCDs)\n",
      "UCDl.sort()\n",
      "for a,b,c in map(None,UCDl[::3],UCDl[1::3],UCDl[2::3]):\n",
      "    print \"{:<30}{:<30}{:<}\".format(a,b,c)"
     ],
     "language": "python",
     "metadata": {},
     "outputs": [
      {
       "output_type": "stream",
       "stream": "stdout",
       "text": [
        "DATA_LINK                     ID_MAIN                       POS_EQ_DEC_MAIN\n",
        "POS_EQ_RA_MAIN                arith.ratio                   em.IR.J\n",
        "em.IR.K                       em.UV                         em.X-ray\n",
        "em.X-ray.hard                 em.X-ray.medium               em.X-ray.soft\n",
        "em.gamma.hard                 em.opt                        em.opt.B\n",
        "em.opt.I                      em.opt.R                      em.opt.V\n",
        "em.radio.750-1500MHz          instr.background              instr.offset\n",
        "instr.setup                   meta.code                     meta.code.class\n",
        "meta.code.error               meta.code.qual                meta.file\n",
        "meta.fits                     meta.id                       meta.id.PI\n",
        "meta.id.assoc                 meta.main                     meta.modelled\n",
        "meta.note                     meta.number                   meta.ref\n",
        "meta.ref.url                  obs                           obs.exposure\n",
        "obs.field                     obs.sequence                  phot\n",
        "phot.color                    phot.count                    phot.flux\n",
        "phot.flux.density             phot.mag                      phys.angSize\n",
        "phys.columnDensity            phys.luminosity               phys.magAbs\n",
        "phys.mass                     pos                           pos.angDistance\n",
        "pos.eq.dec                    pos.eq.ra                     spect\n",
        "spect.index                   spect.line.width              src\n",
        "src.class                     src.class.starGalaxy          src.redshift\n",
        "src.spType                    stat.error                    stat.fit.dof\n",
        "stat.fit.param                stat.max                      stat.min\n",
        "stat.param                    stat.snr                      time.duration\n",
        "time.end                      time.epoch                    time.interval\n",
        "time.start                    None                          None\n"
       ]
      }
     ],
     "prompt_number": 17
    },
    {
     "cell_type": "heading",
     "level": 4,
     "metadata": {},
     "source": [
      "And now let us print the units found:"
     ]
    },
    {
     "cell_type": "code",
     "collapsed": false,
     "input": [
      "UNTs = set()\n",
      "for cat in Catalogues.itervalues():\n",
      "    if cat is None: continue\n",
      "    l = getUnit(cat)\n",
      "    UNTs.update(set(l))\n",
      "UNTl = list(UNTs)\n",
      "UNTl.sort()\n",
      "for a,b,c in map(None,UNTl[::3],UNTl[1::3],UNTl[2::3]):\n",
      "    print \"{:<30}{:<30}{:<}\".format(a,b,c)"
     ],
     "language": "python",
     "metadata": {},
     "outputs": [
      {
       "output_type": "stream",
       "stream": "stdout",
       "text": [
        "\"Y:M:D\"                       \"d:m:s\"                       \"h:m:s\"\n",
        "%                             0.01ct/s                      0.1/keV/m2/s\n",
        "1e+20/cm2                     1e+22/cm2                     1e+30W\n",
        "1e-17W/m2                     [-]                           [10+35W]\n",
        "[10-7W]                       [Msun]                        [W/Hz]\n",
        "[cm-2]                        aW/m2                         arcm\n",
        "arcs                          cm^-2                         ct\n",
        "ct/ks                         ct/s                          deg\n",
        "erg/s                         erg/s/cm^2                    fW/m2\n",
        "keV                           km/s                          ks\n",
        "log                           mCrab                         mJy\n",
        "mW/m2                         mag                           mjd\n",
        "nJy                           photon/s/cm^2/keV             s\n",
        "uJy                           None                          None\n"
       ]
      }
     ],
     "prompt_number": 18
    },
    {
     "cell_type": "heading",
     "level": 4,
     "metadata": {},
     "source": [
      "Well, it seems to me that the interesting UCDs are:"
     ]
    },
    {
     "cell_type": "code",
     "collapsed": false,
     "input": [
      "UCD_goal=['em.X-ray','phot.flux','phot.flux.density','phot.count','phys.luminosity']"
     ],
     "language": "python",
     "metadata": {},
     "outputs": [],
     "prompt_number": 19
    },
    {
     "cell_type": "heading",
     "level": 4,
     "metadata": {},
     "source": [
      "And the units are:"
     ]
    },
    {
     "cell_type": "code",
     "collapsed": false,
     "input": [
      "UNT_goal=['ct/s','erg/s','erg/s/cm2','erg/s/cm^2','mW/m2','1e-17W/m2','ct/ks','mJy','ct','[10-7W]']"
     ],
     "language": "python",
     "metadata": {},
     "outputs": [],
     "prompt_number": 20
    },
    {
     "cell_type": "heading",
     "level": 4,
     "metadata": {},
     "source": [
      "And then we should be able to filter the catalogues that provides (1st) these UCDs and Units."
     ]
    },
    {
     "cell_type": "heading",
     "level": 4,
     "metadata": {},
     "source": [
      "Let's define two little functions to help us on checking the ucds and units:"
     ]
    },
    {
     "cell_type": "code",
     "collapsed": false,
     "input": [
      "def checkUCD(tab,UCDs=[]):\n",
      "    \"\"\"Returns a True if tab has one of the given UCDs; False otherwise\"\"\"\n",
      "    if tab is None: return None\n",
      "    l = getUCD(tab)\n",
      "    ok = any( filter(lambda u:u in UCDs, set(l)) )\n",
      "    return ok\n",
      "\n",
      "def checkUnit(tab,Units=[]):\n",
      "    \"\"\"Returns a True if tb has one of the given Units; False otherwise\"\"\"\n",
      "    if tab is None: return None\n",
      "    l = getUnit(tab)\n",
      "    ok = any( filter(lambda u:u in Units, set(l)) )\n",
      "    return ok"
     ],
     "language": "python",
     "metadata": {},
     "outputs": [],
     "prompt_number": 21
    },
    {
     "cell_type": "heading",
     "level": 4,
     "metadata": {},
     "source": [
      "And select the catalogues based on UCD_goal and UNT_goal."
     ]
    },
    {
     "cell_type": "code",
     "collapsed": false,
     "input": [
      "SelectCatalogues = {}\n",
      "for r,t in Catalogues.iteritems():\n",
      "    reason = \"\"\n",
      "    ok1 = checkUCD(t,UCD_goal)\n",
      "    if not ok1:\n",
      "        reason += \"UCD \"\n",
      "    ok2 = checkUnit(t,UNT_goal)\n",
      "    if not ok2:\n",
      "        reason += \"unit \"\n",
      "    if ok1 and ok2:\n",
      "        print(\"   + Catalog %s selected\" % r.title)\n",
      "        SelectCatalogues[r] = t\n",
      "    else:\n",
      "        print(\"   - Catalog %-80s;     reason: %s\" % (r.title+\" NOT selected\",reason))\n",
      "print(\"%d Catalogues selected:\" % len(SelectCatalogues))\n"
     ],
     "language": "python",
     "metadata": {},
     "outputs": [
      {
       "output_type": "stream",
       "stream": "stdout",
       "text": [
        "   + Catalog M31 XMM-Newton Spectral Survey X-Ray Point Source Catalog selected\n",
        "   - Catalog XMM-Newton Large-Scale Structure Optical Identifications Catalog NOT selected   ;     reason: unit \n",
        "   - Catalog ROSAT Radio-Loud Quasars Catalog NOT selected                                   ;     reason: UCD unit \n",
        "   + Catalog XMM-Newton 2XMMi-DR3 Selected Source Detections Catalog selected\n",
        "   + Catalog Spectral analysis of Lockman Hole (Mainieri+, 2002) selected\n",
        "   + Catalog Spitzer Wide-Area IR Extra-Galactic Survey Chandra X-Ray Sources selected\n",
        "   - Catalog XTE Target Index Catalog NOT selected                                           ;     reason: UCD unit \n",
        "   + Catalog XMM-Newton survey in COSMOS field. IV. (Mainieri+, 2007) selected\n",
        "   - Catalog Atlas of Radio/X-Ray Associations (ARXA) NOT selected                           ;     reason: unit \n",
        "   - Catalog XMM-Newton 2XMMi-DR3 Selected Source Classifications Catalog NOT selected       ;     reason: unit \n",
        "   + Catalog Soft X-ray properties of Seyfert galaxies (Pfefferkorn+, 2001) selected\n",
        "   + Catalog RIXOS source sample X-ray spectra (Mittaz+, 1999) selected\n",
        "   - Catalog INTEGRAL IBIS Hard X-Ray Survey of Galactic Center NOT selected                 ;     reason: unit \n",
        "   - Catalog Spectra of 29 Swift/BAT optical counterparts (Parisi+, 2012) NOT selected       ;     reason: UCD unit \n",
        "   + Catalog X-ray studies of stars in the Pleiades (Micela+, 1990) selected\n",
        "   + Catalog Sloan Digital Sky Survey Quasars Detected by Chandra selected\n",
        "   + Catalog Chandra Deep Field South AGN Spectral Properties Catalog selected\n",
        "   + Catalog ROSAT Complete Results Archive Sources for the PSPC with Filter selected\n",
        "   + Catalog XMM-Newton Bright Serendipitous Survey: AGN X-Ray Spectral Properties selected\n",
        "   + Catalog AGN Torus model comparison of AGN in the CDFS (Buchner+, 2014) selected\n",
        "   + Catalog LALA Cetus Field Chandra X-Ray Point Source Catalog selected\n",
        "   + Catalog CHAMP/SDSS Nearby Low-Luminosity AGN Catalog selected\n",
        "   + Catalog CDFs AGNs X-ray power-law photon index (Saez+, 2008) selected\n",
        "   + Catalog X-ray studies of stars in the Pleiades (Micela+, 1990) selected\n",
        "   + Catalog AGN in XMM-Newton Hard Bright Survey (Della Ceca+, 2008) selected\n",
        "   + Catalog SSA22 Field Chandra X-Ray Point Source Catalog selected\n",
        "   - Catalog Chandra Archive Of Galaxies Ultraluminous X-Ray Source Catalog NOT selected     ;     reason: UCD \n",
        "   + Catalog M31 Chandra X-ray point sources (Kong+, 2002) selected\n",
        "   + Catalog X-ray and radio emission of type 1 AGNs (Ballo+, 2012) selected\n",
        "   + Catalog M 31 Central Region Chandra X-Ray Point Source Catalog selected\n",
        "   + Catalog Sloan Digital Sky Survey (DR5)/XMM-Newton Quasar Survey Catalog selected\n",
        "   - Catalog XTE Archived Public Slew Data NOT selected                                      ;     reason: UCD unit \n",
        "   + Catalog SED of the Fermi blazars (Li+, 2010) selected\n",
        "   + Catalog ROSAT Results Archive Sources for the PSPC with Filter selected\n",
        "   + Catalog HEAO 1 A2 Piccinotti Catalog selected\n",
        "   + Catalog Second INTEGRAL AGN Catalog selected\n",
        "   - Catalog ROSAT PSPC M31 Source Catalog NOT selected                                      ;     reason: UCD \n",
        "   + Catalog CGRO/BATSE 5B Gamma-Ray Burst Spectral Catalog selected\n",
        "   + Catalog X-ray+Radio sources in XBootes (El Bouchefry, 2009) selected\n",
        "   + Catalog AGN-Host Galaxy Connection (Povic+, 2012) selected\n",
        "   - Catalog ROSAT Radio-Quiet Quasars Catalog NOT selected                                  ;     reason: UCD unit \n",
        "   + Catalog Soft X-ray properties of Seyfert galaxies (Pfefferkorn+, 2001) selected\n",
        "31 Catalogues selected:\n"
       ]
      }
     ],
     "prompt_number": 22
    },
    {
     "cell_type": "heading",
     "level": 4,
     "metadata": {},
     "source": [
      "And their description follows:"
     ]
    },
    {
     "cell_type": "code",
     "collapsed": false,
     "input": [
      "for r in SelectCatalogues.iterkeys():\n",
      "    print(\"* %s\" % r.title)\n",
      "    print(\"     %s\\n\" % r.get('description'))"
     ],
     "language": "python",
     "metadata": {},
     "outputs": [
      {
       "output_type": "stream",
       "stream": "stdout",
       "text": [
        "* XMM-Newton 2XMMi-DR3 Selected Source Detections Catalog\n",
        "     The authors have carried out a classification of 4,330 X-ray sources in the 2XMMi-DR3 catalog. The sources were selected under the requirement of being a point source with multiple XMM-Newton observations and at least one detection with a signal-to-noise ratio larger than 20. For about one-third of the sources, the authors are able to obtain reliable source types from the literature. They mostly correspond to various types of stars (611), active galactic nuclei (AGNs, 753), and compact object systems (138) containing white dwarfs, neutron stars, and stellar-mass black holes. The authors find that about 99% of stars can be separated from other source types based on their low X-ray-to-IR flux ratios and frequent X-ray flares. AGNs have remarkably similar X-ray spectra, with the power-law photon index centered around 1.91 +/- 0.31, and their 0.2-4.5 keV flux long-term variation factors have a median of 1.48, with 98.5% being less than 10. In contrast, 70% of compact object systems can be very soft or hard, highly variable in X-rays, and/or have very large X-ray-to-IR flux ratios, separating them from AGNs. Using these results, the authors derive a source type classification scheme to classify the other sources and find 644 candidate stars, 1,376 candidate AGNs, and 202 candidate compact object systems, whose false identification probabilities are estimated to be about 1%, 3%, and 18%, respectively. There are still 320 sources associated with nearby galaxies and 151 in the Galactic plane, which the authors expect to be mostly compact object systems or background AGNs. There are also 100 candidate ultraluminous X-ray sources. They are found to be much less variable than other accreting compact objects. This table contains the list of 19,637 detections of the 4,330 unique X-ray sources which comprise the authors' sample. The list of 4,330 unique X-ray sources and their classifications is also available as the HEASARC XMMSSCLWBS table.\n",
        "\n",
        "* SED of the Fermi blazars (Li+, 2010)\n",
        "     We complied the optical, X-ray, and {gamma}-ray data for 54 Fermi blazars and studied the relationship between the broadband spectral index {alpha}_ox_ and {alpha}_x{gamma}_, as well as the relationship between the intrinsic composite spectral indices {alpha}_xox_ and {alpha}_{gamma}x{gamma}_ for this sample. The relationship between {alpha}_xox_ and {alpha}_{gamma}x{gamma}_ reveals that flat spectrum radio quasars and low-energy peaked BL Lacertae follow a continuous trend, which is consistent with previous results, whereas high-energy peaked BL Lacertae follow a separate distinct trend. Even so, a unified scheme is also revealed from {alpha}_xox_-{alpha}_{gamma}x{gamma}_ diagram when all three subclasses of blazars are considered.\n",
        "\n",
        "* Sloan Digital Sky Survey Quasars Detected by Chandra\n",
        "     The authors have studied the spectral energy distributions and evolution of a large sample of optically selected quasars from the Sloan Digital Sky Survey (SDSS) that were observed in 323 Chandra images analyzed by the Chandra Multiwavelength Project (ChaMP). Their highest-confidence matched sample (which this HEASARC table comprises) includes 1135 X-ray detected quasars in the redshift range 0.2 &lt; z &lt; 5.4, representing some 36 Msec of effective exposure. In their paper, the authors provide catalogs of QSO properties, and describe their novel method of calculating X-ray flux upper limits and effective sky coverage. Spectroscopic redshifts are available for about 1/3 of the detected sample; elsewhere, redshifts are estimated photometrically. The authors have detected 56 QSOs with redshift z &gt; 3, substantially expanding the known sample. They find no evidence for evolution out to z ~ 5 for either the X-ray photon index Gamma or for the ratio of optical/UV to X-ray flux Alpha_ox. About 10% of detected QSOs show best-fit intrinsic absorbing columns greater than 10&lt;sup&gt;22&lt;/sup&gt; cm&lt;sup&gt;-2&lt;/sup&gt;, but the fraction might reach ~1/3 if most nondetections are absorbed. The authors confirm a significant correlation between Alpha_ox and optical luminosity, but it flattens or disappears for fainter (M_B &gt;~ -23) active galactic nucleus (AGN) alone. They report significant hardening of Gamma both toward higher X-ray luminosity, and for relatively X-ray loud quasars. These trends may represent a relative increase in nonthermal X-ray emission, and their findings thereby strengthen analogies between Galactic black hole binaries and AGN. For uniformly selected subsamples of narrow-line Seyfert 1s and narrow absorption line QSOs, they find no evidence for unusual distributions of either Alpha_ox or Gamma. Much more information on the SDSS is available at the project's web site at &lt;a href=\"http://www.sdss.org/\"&gt;http://www.sdss.org/&lt;/a&gt;.\n",
        "\n",
        "* LALA Cetus Field Chandra X-Ray Point Source Catalog\n",
        "     The 174 ks Chandra Advanced CCD Imaging Spectrometer (ACIS) exposure of the Large Area Lyman Alpha Survey (LALA) Cetus field is the second of the two deep Chandra images on LALA fields. In their paper, the authors present the Chandra X-ray sources detected in the Cetus field, along with an analysis of X-ray source counts, the stacked X-ray spectrum, and the optical identifications. A total of 188 X-ray sources were detected: 174 in the 0.5-7.0 keV band, 154 in the 0.5-2.0 keV band, and 113 in the 2.0-7.0 keV band. The X-ray source counts were derived and compared with the 172 ks exposure LALA Bootes field (available as the LALABOOCXO table in Browse). Interestingly, the authors find consistent hard-band X-ray source density, but a (36 +/- 12)% higher soft-band X-ray source density in the Cetus field. The weighted stacked spectrum of the detected X-ray sources can be fitted by a power law with photon index Gamma = 1.55. Based on the weighted stacked spectrum, the authors find that the resolved fraction of the X-ray background drops from (72 +/- 1)% at 0.5-1.0 keV to (63 +/- 4)% at 6.0-8.0 keV. The unresolved spectrum can be fitted by a power law over the range 0.5-7 keV, with a photon index Gamma = 1.22. Optical counterparts are also presented for 154 of the X-ray sources, down to a limiting magnitude of r' = 25.9 (Vega), using a deep r'-band image obtained with the MMT.\n",
        "\n",
        "* AGN-Host Galaxy Connection (Povic+, 2012)\n",
        "     Table presents the X-ray properties of all 1121 objects, including fluxes in six selected energy bands, and public available optical data for X-ray counterparts. X-ray flux in X/O flux ratio is the sum of fluxes in (0.5-2keV) and (2-4.5keV) bands, while the optical flux corresponds to R band. The represented hardness ratio was set using the same X-ray bands. Photometric redshifts and K-corrections were measured using the photometric information in five optical (Furusawa et al., 2008, Cat. J/ApJS/176/1), three NIR (Hewett et al., 2006MNRAS.367..454H; Hodgkin et al., 2009MNRAS.394..675H), and four MIR IRAC (SWIRE survey) bands. Morphological classification was obtained using the galSVM code (Huertas-Company et al., 2008A&amp;A...478..971H, 2009A&amp;A...497..743H), one of the new methods useful especially when dealing with high-redshift sources and low-resolution data. With galSVM we obtained the mean surface brightness, asymmetry, concentration index, Gini, Smoothness, M20 moment of light, and two probabilities p1 and p2 that the galaxy belongs to early- (E, S0, S0/Sa) or late-type, respectively. Stellarity and elongation parameters were obtained with SExtractor. All objects with stellarity parameter greater or equal to 0.9 were considered as compact in this work. We included in our analysis for early-type objects only those sources with p1 probabilities greater or equal to 0.75, and for late-type objects all sources with probabilities p2 greater than 0.5.\n",
        "\n",
        "* Soft X-ray properties of Seyfert galaxies (Pfefferkorn+, 2001)\n",
        "     We have detected 91 out of 99 Seyfert 1 and 47 out of 98 Seyfert 2 galaxies of the Rafanelli sample in the ROSAT X-ray band in pointed and/or All-Sky Survey observations. Spectral information from the survey data could be obtained for 59 Seyfert 1 galaxies and only for one Seyfert 2 galaxy. The tables quote the name of the Seyfert galaxy in column 1 and the ROSAT name in column 2. Columns 3 and 4 contain the ROSAT position. We mostly give the centroid source position from the pointed observation with the higher exposure times. The columns 5 and 6 list the count rates, columns 7 and 8 the corresponding exposure times, columns 9 and 10 the fluxes and columns 11 and 12 the luminosities of the sources detected in ROSAT pointing and survey observations, respectively. The survey count rates were taken from the RASS II catalogue and the pointing count rates were computed from the light curves of the sources. The labels \"(p)\" and \"(h)\" in column 5 indicate that the source data are taken from a PSPC or HRI observation. In the columns 9 and 10 we apply the labels \"(f)\" and \"(c)\" to mark the data produced by spectral fit or by count rates. This specification applies also for columns 11 and 12. The Galactic column density is given in column 13 (Dickey &amp; Lockman, 1990ARA&amp;A..28..215D), while the column density obtained from the spectral fit is given in column 14. The other spectral fit parameters, namely the monochromatic flux at 1keV and the photon index are also given in columns 15 and 16, respectively. The value \"-2.3\" of the photon index was used, if no reliable spectral fit could be obtained. When spectral information was available from the survey as well as from the pointed data, we quote the results from the pointed observations. Columns 17 and 18 show the quality of the X-ray identifications both in the pointing and the survey observations, the identifications labeled either with 1 or 2, 1 and 2 indicating high and lower degree of reliability, respectively. In the last column we have listed the classification of the Seyfert type (Sy1.0, Sy1.2, Sy1.5, Sy1.8, Sy1.9, Sy2.0) taken from the \"Catalogue of Seyfert Galaxies\" (Lipovetski et al., 1987, Cat. &lt;VII/173&gt;). We have modified the Rafanelli et al. conventions (S1 = Sy1.0 + Sy1.2 + Sy1.5 and S2 = Sy1.8 + Sy1.9 + Sy2.0) to S1 = Sy1.0 + Sy1.2 + Sy1.5 + Sy1.8 + Sy1.9 and S2 = S2.0. The classifications marked by a (N) indicate Narrow Line Seyfert 1 galaxies (NLS1) (e.g. Osterbrock &amp; Pogge, 1985ApJ...297..166O; Boller, Brandt &amp; Fink 1996A&amp;A...305...53B; Grupe 1996, Properties of bright soft X-ray selected ROSAT AGN, Dissertation submitted Georg-August University, Gvttingen, Germany ). For each source of the Rafanelli sample we have searched for X-ray detections within the ROSAT All-Sky Survey (RASS II catalogue; see Voges, Aschenbach, Boller et al., 1999, Cat. &lt;IX/10&gt; for references) and public PSPC (Position Sensitive Proportional Counter) and HRI (High Resolution Imager) pointed observations. The sources have been identified on X-ray contour maps overlaid to optical images taken from the Palomar Digitized Sky Survey (DSS). We have generated background subtracted contour maps for each selected ROSAT observation. Overlays with a dark background indicate pointed observations (HRI for HRI-data, without label for PSPC-data), whereas the grey background indicate ROSAT All-Sky survey data (PSPC).\n",
        "\n",
        "* RIXOS source sample X-ray spectra (Mittaz+, 1999)\n",
        "     We present results of an extensive study of the X-ray spectral properties of sources detected in the RIXOS survey, which is a large, nearly complete sample of objects detected serendipitously in ROSAT PSPC fields down to a flux limit of 3x10^-14^erg/cm2/s (0.5-2keV). We show that for X-ray surveys containing sources with low count rate, such as RIXOS, spectral slopes estimated using simple hardness ratios in the ROSAT band can be biased. Instead, we analyse three-colour X-ray data using statistical techniques appropriate to the Poisson regime which remove the effects of this bias. We also show that the use of three-colour data enables some discrimination between thermal and non-thermal spectra. We have then applied this technique to the RIXOS survey to study the spectral properties of the sample. For the AGN we find an average energy index of 1.05+/-0.05, with no evidence for spectral evolution with redshift. Individual AGN are shown to have a range of properties, including soft X-ray excesses and intrinsic absorption. Narrow-emission-line galaxies (NLLGs) also seem to fit to a power-law spectrum, which may indicate a non-thermal origin for their X-ray emission. We infer that most of the clusters in the sample have a bremsstrahlung temperature &gt;3keV, although some show evidence for a cooling flow. The stars deviate strongly from a power-law model but fit to a thermal model. Finally, we have analysed the whole RIXOS sample (extending the flux cut-off to the sensitivity threshold of each individual observation) containing 1762 sources to study the relationship between spectral slope and flux. We find that the mean spectral slope of the sources hardens at lower fluxes, in agreement with results from other samples. However, a study of the individual sources demonstrates that the majority have relatively soft spectra even at faint flux levels, and the hardening of the mean is caused by the appearance of a population of very hard sources at the lowest fluxes. This has implications for the nature of the soft X-ray background.\n",
        "\n",
        "* X-ray+Radio sources in XBootes (El Bouchefry, 2009)\n",
        "     The radio data are from the 2002 version of the FIRST VLA catalogue (Becker et al., 1995, See Cat. VIII/71), and it is derived from 1993 through 2002 observations. The X-ray data (Kenter et al. 2005, Cat. J/ApJS/161/9; Murray et al. 2005ApJS..161....1M) used in this paper are from the Chandra XBootes surveys. The XBootes catalogue contains ~3213 X-ray point sources and is publicly available through the National Optical Astronomy Observatory (NOAO) Deep Wide Field Survey (NDWFS) homepage (http://www.noao.edu/noao/noaodeep/XBootesPublic/index.html) The NDWFS is a deep multiband imaging (Bw, R, I, J, H, K) designed to study the formation and evolution of large-scale structures (Jannuzi et al., 1999, BAAS, 31, 1392; Brown et al., 2003ApJ...597..225B).\n",
        "\n",
        "* Spectral analysis of Lockman Hole (Mainieri+, 2002)\n",
        "     We present the results of the X-ray spectral analysis of the first deep X-ray survey with the XMM-Newton observatory during Performance Verification. The X-ray data of the Lockman Hole field and the derived cumulative source counts were reported by Hasinger et al. (2001A&amp;A...365L..45H). We restrict the analysis to the sample of 98 sources with more than 70 net counts (flux limit in the [0.5-7]keV band of 1.6x10^-15^erg/cm^2^/s) of which 61 have redshift identification. We find no correlation between the spectral index and the intrinsic absorption column density NH and, for both the Type-1 and Type-2 AGN populations, we obtain &lt;Gamma&gt;~=2.\n",
        "\n",
        "* XMM-Newton survey in COSMOS field. IV. (Mainieri+, 2007)\n",
        "     We present a detailed spectral analysis of pointlike X-ray sources in the XMM-Newton COSMOS field. Our sample of 135 sources only includes those that have more than 100 net counts in the 0.3-10keV energy band and have been identified through optical spectroscopy. The majority of the sources are well described by a simple power-law model with either no absorption (76%) or a significant intrinsic, absorbing column (20%). The remaining ~4% of the sources require a more complex modeling by incorporating additional components to the power law. For sources with more than 180 net counts (bright sample), we allowed both the photon spectral index Gamma and the equivalent hydrogen column NH to be free parameters. For fainter sources, we fix Gamma to the average value and allow NH to vary. The mean spectral index of the 82 sources in the bright sample is &lt;Gamma&gt;=2.06+/-0.08, with an intrinsic dispersion of ~0.24. Each of these sources has fractional errors on the value of Gamma below 20%. As expected, the distribution of intrinsic absorbing column densities is markedly different between AGNs with or without broad optical emission lines. We find within our sample four type 2 QSO candidates (L_X_&gt;10^44^erg/s, NH&gt;10^22^cm^-2^), with a spectral energy distribution well reproduced by a composite Seyfert 2 spectrum, that demonstrates the strength of the wide-field COSMOS XMM-Newton survey to detect these rare and underrepresented sources. In addition, we have identified a Compton-thick (NH&gt;1.5x10^24^cm^-2^) AGN at z=0.1248. Its X-ray spectrum is well fitted by a pure reflection model and a significant Fe K{alpha} line at rest-frame energy of 6.4keV.\n",
        "\n",
        "* Chandra Deep Field South AGN Spectral Properties Catalog\n",
        "     This table contains the results of a detailed X-ray spectral analysis of the sources in the 1 Ms catalog of the Chandra Deep Field South (CDFS, Giacconi et al. 2002, CDS Cat. J/ApJS/139/369, available in Browse as the CHANDFS1MS table), taking advantage of optical spectroscopy and photometric redshifts for 321 extragalactic sources out of the total sample of 347 sources. As a default spectral model, the authors adopt a power law with a slope Gamma with an intrinsic redshifted absorption N_H, a fixed Galactic absorption and an unresolved Fe emission line. For 82 X-ray bright sources, they are able to perform the X-ray spectral analysis leaving both Gamma and N_H free. The weighted mean value for the slope of the power law is 1.75 +/- 0.02, and the distribution of best fit values shows an intrinsic dispersion of 0.30. The authors do not find hints of a correlation between the spectral index Gamma and the intrinsic absorption column density N_H. They then investigate the absorption distribution for the whole sample, deriving the N_H values in faint sources by fixing Gamma to be 1.8. The authors find that the fraction of absorbed sources (with N_H &gt; 10^22 cm^-2) in the sample is constant (at the level of about 75%) or moderately increasing with redshift. Finally, they compare the optical classification to the X-ray spectral properties, confirming that the correspondence of unabsorbed (absorbed) X-ray sources to optical type I (type II) AGN is accurate for at least 80% of the sources with spectral identification (1/3 of the total X-ray sample).\n",
        "\n",
        "* ROSAT Results Archive Sources for the PSPC with Filter\n",
        "     This table is derived from the Second ROSAT Source Catalog of Pointed Observations with the ROSAT PSPC (Roentgen Satellite Position-Sensitive Proportional Counter) Observed Using the Boron Filter, or the 2RXF Catalog. 2XRF contains arcsecond positions and count rates for 2,526 detected sources from 258 ROSAT PSPC Filter observations covering 0.15% of the sky, including 704 high-confidence detections and 20 obvious sources which were not detected by SASS. The complete version of the list of detections (the HEASARC's &lt;a href=\"rospspcftot.html\"&gt;ROSPSPCFTOT table&lt;/a&gt;) contains 2,526 entries, whereas the short 'high-confidence' version contained in this present table has 704 detection. The ROSPSPCF table excludes sources that meet the following parameter criteria: false_det = 'f' or deferred = 'D' or not_checked = 'n'. See the documentation below for descriptions of these parameters. The catalog consists of all primary source parameters from the automated detection algorithm employed by the SASS. In addition each observation has been quality checked, both by automatic algorithms and by detailed visual inspection. The results of this quality checking are contained as a set of logical-value flags for a set of principal source parameters. If a source parameter is suspect, the associated flag is set to a corresponding alphabetical value; parameters with no obvious problems maintain the default, '.', value. The Second ROSAT Pointed PSPC Filter Source Catalog includes missing sources, i.e. obvious sources which were not detected by the SASS source detection software but which could be easily detected by visual inspection. Missed sources are marked by negative values of their source identification number, i.e. the parameter 'MPLSX_ID' has a negative value for these sources. The only tabulated quantities for these visually identified missed sources are source positions; other quantities (like count rates, hardness ratios, etc.) are not available. These data have been screened by ROSAT data centers in the US, Germany, and the UK as a step in the production of the ROSAT Results Archive. The RRA contains extracted source and associated products with an indication of reliability for the primary parameters. More information about the ROSAT mission and the SASS can be obtained from the ROSAT User Handbook, available at either &lt;a href=\"http://www.mpe.mpg.de/xray/wave/rosat/doc/ruh/index.php\"&gt;http://www.mpe.mpg.de/xray/wave/rosat/doc/ruh/index.php&lt;/a&gt; or &lt;a href=\"http://heasarc.gsfc.nasa.gov/docs/rosat/rosdocs.html\"&gt;http://heasarc.gsfc.nasa.gov/docs/rosat/rosdocs.html&lt;/a&gt;.\n",
        "\n",
        "* AGN Torus model comparison of AGN in the CDFS (Buchner+, 2014)\n",
        "     We present the Bayesian parameter estimation results derived using the torus+pexmon+scattering model. All parameters are shown with their posterior uncertainty, which is summarised using the 1-sigma equivalent quantiles. The prior used on the Photon index was a normal distribution with mean 1.95 and standard deviation 0.15, so if no information was gained this value remains. The KL column measures the information gain measured from the N_H_ posterior in bans. As a reference, the narrowing of a Gaussian from prior to posterior by a factor of 2 corresponds to 0.13ban, and thus values higher than that correspond to significant discriminatory information in the data. Annotations: S when fscat&gt;3%, s when fscat&gt;0.5% with &gt;=90% probability R when R&gt;0.3 with &gt;=90% probability, i.e. strong additional pexmon reflection Compton-thick (CT) if N_H&gt;10^24^cm^-2^, Compton-thin (O) if 10^22^cm^-2^&lt;N_H&lt;10^24^cm^-2^, Unobscured (U, N_H&lt;10^22^cm^-2^, each with &gt;=50% probability.\n",
        "\n",
        "* CHAMP/SDSS Nearby Low-Luminosity AGN Catalog\n",
        "     The combination of the Sloan Digital Sky Survey (SDSS) and the Chandra Multiwavelength Project (ChaMP; Green et al. 2004, ApJS, 150, 43) currently offers the largest and most homogeneously selected sample of nearby galaxies for investigating the relations between X-ray nuclear emission, nebular line emission, black hole masses, and the properties of the associated stellar populations. The authors provide X-ray spectral fits and valid uncertainties for all the galaxies with counts ranging from 2 to 1325 (mean 76, median 19). They present in their paper novel constraints that both X-ray luminosity L&lt;sub&gt;X&lt;/sub&gt; and X-ray spectral energy distribution bring to the galaxy evolutionary sequence HII -&gt; Seyfert/Transition Object -&gt; LINER -&gt; Passive suggested by optical data. In particular, the authors show that both L&lt;sub&gt;X&lt;/sub&gt; and Gamma, the slope of the power law that best fits the 0.5 - 8 keV spectra, are consistent with a clear decline in the accretion power along the sequence, corresponding to a softening of their spectra. This implies that, at z ~ 0, or at low-luminosity active galactic nucleus (AGN) levels, there is an anticorrelation between Gamma and L/L&lt;sub&gt;Edd&lt;/sub&gt;, opposite to the trend which is exhibited by high-z AGN (quasars). The turning point in the Gamma - L/L&lt;sub&gt;Edd&lt;/sub&gt; LLAGN + quasars relation occurs near Gamma ~ 1.5 and L/L&lt;sub&gt;Edd&lt;/sub&gt; ~ 0.01. Interestingly, this is identical to what stellar mass X-ray binaries exhibit, indicating that the authors have probably found the first empirical evidence for an intrinsic switch in the accretion mode, from advection-dominated flows to standard (disk/corona) accretion modes in supermassive black hole accretors, similar to what has been seen and proposed to happen in stellar mass black hole systems. The anticorrelation the authors find between Gamma and L/L&lt;sub&gt;Edd&lt;/sub&gt; may instead indicate that stronger accretion correlates with greater absorption. Therefore, the trend for softer spectra toward more luminous, high-redshift, and strongly accreting (L/L&lt;sub&gt;Edd&lt;/sub&gt; &gt;~ 0.01) AGNs/quasars could simply be the result of strong selection biases reflected in the dearth of type 2 quasar detections. The cross-match of all ChaMP sky regions imaged by Chandra/ACIS with the SDSS DR4 spectroscopic footprint results in a parent sample of 15,955 galaxies on or near a chip and a subset of 199 sources that are X-ray detected. Among those, only 107 sources have an off-axis angle (OAA) Theta &lt;0.2 degrees and avoid ccd=8 due to high serial readout noise; these 107 objects comprise the main sample that the authors employ for this study and that are listed in this table. The authors performed direct spectral fits to the X-ray counts distribution using the full instrument calibration, known redshift, and Galactic 21-cm column nH&lt;sub&gt;Gal&lt;/sub&gt;. Source spectra were extracted from circular regions with radii corresponding to energy encircled fractions of ~90%, while the background region encompasses a 20 arcsec annulus, centered on the source, with separation 4 arcsecs, from the source region. Any nearby sources were excised, from both the source and the background regions. The spectral fitting was done via yaxx ('Yet Another X-ray eXtractor': Aldcroft 2006, BAAS, 38, 376), an automated script that employs the CIAO Sherpa tool. Each spectrum was fitted in the range 0.5 - 8 keV by two different models: (1) a single power law plus absorption fixed at the Galactic 21-cm value (model 'PL'), and (2) a fixed power law of photon index Gamma = 1.9 plus intrinsic absorption of column nH (model 'PLfix'). For the nine objects with more than 200 counts, the authors employed a third model in which both the slope of the power law and the intrinsic absorption were free to vary (model 'PL_abs').\n",
        "\n",
        "* X-ray studies of stars in the Pleiades (Micela+, 1990)\n",
        "     Coronal X-ray emission of the Pleiades stars is investigated, and maximum likelihood, integral X-ray luminosity functions are computed for Pleiades members in selected color-index ranges. A detailed search is conducted for long-term variability in the X-ray emission of those stars observed more than once. An overall comparison of the survey results with those of previous surveys confirms the ubiquity of X-ray emission in the Pleiades cluster stars and its higher rate of emission with respect to older stars. It is found that the X-ray emission from dA and early dF stars cannot be proven to be dissimilar to that of Hyades and field stars of the same spectral type. The Pleiades cluster members show a real rise of the X-ray luminosity from dA stars to early dF stars. X-ray emission for the young, solar-like Pleiades stars is about two orders of magnitude more intense than for the nearby solar-like stars.\n",
        "\n",
        "* AGN in XMM-Newton Hard Bright Survey (Della Ceca+, 2008)\n",
        "     The XMM-Newton Hard Bright Serendipitous Survey (HBSS) is part of a bigger survey project known as XMM Bright Serendipitous Survey (XBS). This latter consists of two flux-limited serendipitous samples of X-ray selected sources at high galactic latitude (|b|&gt;20deg): the XMM BSS sample (389 sources) and the XMM HBSS sample (67 sources, with 56 sources in common with the BSS sample) having an EPIC MOS2 count rate limit, corrected for vignetting, of 10^-2^cts/s (2x10^-3^cts/s) in the 0.5-4.5keV (4.5-7.5keV) energy band; the flux limit is ~7x10^-14^cgs in both energy selection bands. At the time of this writing the spectroscopic identification rate is 87% for the BSS sample and 97% for the HBSS sample. The details on the XMM-Newton fields selection strategy and the source selection criteria of the XMM BSS and HBSS samples are discussed in Della Ceca et al. (2004, Cat. &lt;J/A+A/428/383&gt;), while a description of the optical data and analysis, of the optical classification scheme, and of the optical properties of the extragalactic sources identified so far, is presented in Caccianiga et al. (2008A&amp;A...477..735C). The optical and X-ray properties of the galactic population are discussed in Lopez-Santiago et al. (2007A&amp;A...463..165L).The current classification breakdown of the HBSS sample is as follows: 62 AGN, 1 cluster of galaxies (XBSJ 141830.5+251052), and 2 X-ray emitting stars (XBSJ 014100.6-675328 and XBSJ 123600.7-395217). Two X-ray sources (XBSJ080411.3+650906 and XBSJ 110050.6-344331) are still unidentified at the time of this writing. In table1 we report the basic X-ray spectral properties, (e.g., photon index, intrinsic absorbing column density N_H_, intrinsic 2-10keV luminosity) of the HBSS AGN sample obtained from a complete X-ray spectral analysis of the XMM-Newton data.\n",
        "\n",
        "* CDFs AGNs X-ray power-law photon index (Saez+, 2008)\n",
        "     Our sources were selected from the CDFs, currently the two deepest X-ray surveys. The on-axis sensitivity limits for the CDF-N are ~2.5x10^-17^erg/cm^2^/s (0.5-2.0keV) and ~1.4x10^-16^erg/cm^2^/s (2-8keV).\n",
        "\n",
        "* M31 Chandra X-ray point sources (Kong+, 2002)\n",
        "     We report on Chandra observations of the central region of M31. By combining eight Chandra ACIS-I observations taken between 1999 and 2001, we have identified 204 X-ray sources within the central ~17'x17' region of M31, with a detection limit of ~2x10^35^erg/s. Of these 204 sources, 22 are identified with globular clusters, two with supernova remnants, nine with planetary nebulae, and nine with supersoft sources. By comparing individual images, about 50% of the sources are variable on timescales of months. We also found 13 transients, with light curves showing a variety of shapes. We also extracted the energy spectra of the 20 brightest sources; they can be well fitted by a single power law with a mean photon index of 1.8. The spectral shapes of 12 sources are shown to be variable, suggesting that they went through state changes.\n",
        "\n",
        "* HEAO 1 A2 Piccinotti Catalog\n",
        "     The HEAO 1 A-2 experiment's operations began on day 224 of 1977 (12 August 1977) and ended on day 739 of 1977 (9 January 1979). The A-2 experiment performed two independent, low-background, high-sensitivity surveys of the entire sky 6 months apart, the first scan during days 248 to 437 of 1977 (5 September 1977 - 13 March 1978) and the second scan during days 73 to 254 of 1978 (14 March 1978 - 11 September 1978). The authors analysed the A-2 data in order to obtain a complete flux-limited sample of extragalactic X-ray sources. The region between galactic latitudes of -20 and +20 degrees was excluded to minimize contamination from galactic sources. A circle of 6 degrees radius around the Large Magellanic Cloud sources was also excluded to prevent confusion problems. Therefore, there remained 65.5% of the sky (8.23 steradians) covered by this survey. The lowest statistical significance for the existence of the sources included in this catalog is 5 sigma, as required by the maximum likelihood methods used by the authors to determine the log N - log S parameters. Taking into account this statistical significance requirement, the authors estimated the completeness level of the first and second scans to be 1.25 and 1.8 R15 ct/s, respectively. 1 R15 ct/s is approximately 2.17 x 10^-11 erg/cm^2/s in the 2-10 keV energy band for a power-law spectyrum with a photon index of 1.65. This catalog contains data for 68 nongalactic sources (61 extragalactic and 7 unidentified sources) which were listed in Table 1 of the published catalog. The identified sources fall into several categories, including narrow emission line galaxies, broad emission line galaxies, BL Lacertae objects, and clusters of galaxies.\n",
        "\n",
        "* X-ray and radio emission of type 1 AGNs (Ballo+, 2012)\n",
        "     Basic information and derived properties are presented for our sample of X-ray selected type 1 AGN (as well as for the X-ray undetected type 1 AGN in the \"control sample\"): coordinates, redshift, X-ray and radio fluxes, optical magnitudes, from the SDSS, 2XMMi, and FIRST catalogues; continuum luminosities at 3000A and in the X-ray band, black hole masses, bolometric luminosities, Eddington ratios; for the sources falling in the FIRST field, optical fluxes at 2500A and 4400 A, X-ray-to-optical index, radio classification, ratio between radio and UV, optical, or X-ray fluxes.\n",
        "\n",
        "* M31 XMM-Newton Spectral Survey X-Ray Point Source Catalog\n",
        "     This table contains the results of a complete spectral survey of the X-ray point sources detected in five XMM-Newton observations along the major axis of M 31 but avoiding the central bulge, aimed at establishing the population characteristics of X-ray sources in this galaxy. One observation of each disc field of M 31 was taken using the EPIC pn and MOS cameras on XMM-Newton in January and June 2002. The authors obtained background-subtracted spectra and lightcurves for each of the 335 X-ray point sources detected across the five observations from 2002. They also correlate their source list with those of earlier X-ray surveys and radio, optical and infra-red catalogs. Sources with more than 50 source counts are individually spectrally fit in order to create the most accurate luminosity functions of M 31 to date. Based on the spectral fitting of these sources with a power law model, the authors observe a broad range of best-fit photon index. From this distribution of best-fit index, they identify 16 strong high mass X-ray binary system candidates in M 31. They show the first cumulative luminosity functions created using the best-fit spectral model to each source with more than 50 source counts in the disc of M 31. The cumulative luminosity functions show a distinct flattening in the X-ray luminosity L_X interval 37.0 &lt;~ log L_X erg s&lt;sup&gt;-1&lt;/sup&gt; &lt;~ 37.5. Such a feature may also be present in the X-ray populations of several other galaxies, but at a much lower statistical significance. The authors investigate the number of AGN present in their source list and find that, above L_X ~1.4 x 10&lt;sup&gt;36&lt;/sup&gt; erg s&lt;sup&gt;-1&lt;/sup&gt;, the observed population is statistically dominated by the point source population of M 31.\n",
        "\n",
        "* Sloan Digital Sky Survey (DR5)/XMM-Newton Quasar Survey Catalog\n",
        "     This table contains the 5th Data Release Sloan Digital Sky Survey (DR5 SDSS)/XMM-Newton Quasar Survey Catalog. This catalog contains 792 SDSS DR5 quasars with optical spectra that have been observed serendipitously in the X-rays with XMM-Newton. These quasars cover a redshift range of z = 0.11 - 5.41 and a magnitude range of i = 15.3 - 20.7. Substantial numbers of radio-loud (70) and broad absorption line (51) quasars exist within this sample. Significant X-ray detections at &gt;=2 sigma account for 87% of the sample (685 quasars), and 473 quasars are detected at &gt;=6 sigma, sufficient to allow X-ray spectral fits. For detected sources, ~60% have X-ray fluxes between F(2-10 keV) = (1-10) x 10&lt;sup&gt;-14&lt;/sup&gt; erg cm&lt;sup&gt;-2&lt;/sup&gt; s&lt;sup&gt;-1&lt;/sup&gt;. The authors fit a single power law, a fixed power law with intrinsic absorption left free to vary, and an absorbed power-law model to all quasars with X-ray signal-to-noise ratio &gt;= 6, resulting in a weighted mean photon index Gamma = 1.91 +/- 0.08, with an intrinsic dispersion sigma(Gamma) = 0.38. For the 55 sources (11.6%) that prefer intrinsic absorption, the authors find a weighted mean N_H = 1.5 +/- 0.3 x 10&lt;sup&gt;21&lt;/sup&gt; cm&lt;sup&gt;-2&lt;/sup&gt;. They find that Gamma correlates significantly with optical color, Delta(g-i), the optical-to-X-ray spectral index (alpha_ox), and the X-ray luminosity. While the first two correlations can be explained as artifacts of undetected intrinsic absorption, the correlation between Gamma and X-ray luminosity appears to be a real physical correlation, indicating a pivot in the X-ray slope.\n",
        "\n",
        "* X-ray studies of stars in the Pleiades (Micela+, 1990)\n",
        "     Coronal X-ray emission of the Pleiades stars is investigated, and maximum likelihood, integral X-ray luminosity functions are computed for Pleiades members in selected color-index ranges. A detailed search is conducted for long-term variability in the X-ray emission of those stars observed more than once. An overall comparison of the survey results with those of previous surveys confirms the ubiquity of X-ray emission in the Pleiades cluster stars and its higher rate of emission with respect to older stars. It is found that the X-ray emission from dA and early dF stars cannot be proven to be dissimilar to that of Hyades and field stars of the same spectral type. The Pleiades cluster members show a real rise of the X-ray luminosity from dA stars to early dF stars. X-ray emission for the young, solar-like Pleiades stars is about two orders of magnitude more intense than for the nearby solar-like stars.\n",
        "\n",
        "* Spitzer Wide-Area IR Extra-Galactic Survey Chandra X-Ray Sources\n",
        "     This table contains results from deep combined observations with Spitzer and Chandra of the Spitzer Wide-Area Infrared Extragalactic Survey (SWIRE) in the ELAIS N1 region. This survey was used to investigate the nature of the faint X-ray and IR sources in common, to identify active galactic nucleus (AGN)/starburst diagnostics, and to study the sources of the X-ray and cosmic infrared backgrounds (XRB and CIRB). In the 17' x 17' area of the Chandra ACIS-I image there were approximately 3400 SWIRE near-IR sources with 4-sigma detections in at least two Infrared Array Camera (IRAC) bands and 988 sources detected at 24 micron (um) with the Multiband Imaging Photometer (MIPS) brighter than a 24-um flux S_24 ~ 0.1 mJy. Of these, 102 IRAC and 59 MIPS sources have Chandra counterparts, out of a total of 122 X-ray sources present in the area with 0.5 - 8 keV flux &gt; 10-15 erg cm^-2 s^-1. The SWIRE ELAIS N1 field was imaged by the IRAC multiband camera on Spitzer in 2004 January and with MIPS in early 2004 February. The observations were centered at the position (16h 00m, +59d 01'). The X-ray observations were taken as part of the ELAIS Deep X-ray Survey (EDXS) and are described in detail in Manners et al. (2003, MNRAS, 343, 293). For this analysis, the Chandra Advanced CCD Imaging Spectrometer (ACIS) observation of 75 ks centered on (16h 10m 20.11s, +54d 33' 22.3\") (J2000.0) in the ELAIS N1 region. The aim point was focused on the ACIS-I chips, which consist of four CCDs arranged in a 2 x 2 array covering an area of 16.9' x 16.9' (286 square arcmin). Bad pixels and columns were removed, and data were filtered to eliminate high background times (due to strong solar flares), leaving 71.5 ks of good data after filtering. Counts-to-photon calibration assumed a standard power-law model spectrum with photon index Gamma = 1.7. Sources were detected to flux levels of 2.3 x 10^-15 erg s^-1 cm^-2 in the 0.5 - 8 keV band, 9.4 x 10^-16 erg s^-1 cm^-2 in the 0.5 - 2 keV band, and 5.2 x 10^-15 erg s^-1 cm^-2 in the 2 - 8 keV band. Sources are detectable to these flux limits over 90% of the nominal survey area. For this analysis, the authors used sources detected in the full band of ACIS-I only, of which there are 122 in the N1 region. Of the 102 sources in common between Chandra and SWIRE, 83 have significant detections in the separate soft X-ray band (0.5 - 2 keV) and 64 are detected in the hard (2 - 8 keV) band. A simple near-neighbor search was performed to cross-correlate the Spitzer and Chandra source catalogs within the Chandra ACIS-I chip image, using a d = 5\" search radius (roughly the quadratic sum of the astrometric errors). All together, the authors found reliably associated counterparts for 102 of the 122 Chandra sources (84% in total). The vast majority of these were detected with the IRAC channels 1 and 2 (3.6 and 4.5 um): 100 of the 122 Chandra sources in each case. As many as 59 Chandra objects are reliably associated with MIPS 24 um sources (all of them having IRAC counterparts), and just 1 had a MIPS 70 um counterpart. Of the 102 Spitzer-identified Chandra sources, three turned out to correspond to Galactic stars on the basis of their position on color-magnitude plots and optical morphology and were excluded from the subsequent analysis (and this table).\n",
        "\n",
        "* SSA22 Field Chandra X-Ray Point Source Catalog\n",
        "     This table contains the main X-ray point-source catalog for a deep ~400-ks Chandra ACIS-I (Advanced CCD Imaging Spectrometer) exposure of the SSA22 field. The observations were centred on a z = 3.09 protocluster, which is populated by Lyman break galaxies (LBGs), Lyman-alpha emitters (LAEs) and extended Lyman-alpha-emitting blobs (LABs). The survey reached ultimate (3 count) sensitivity limits of ~5.7 x 10&lt;sup&gt;-17&lt;/sup&gt; and ~3.0 x 10&lt;sup&gt;-16&lt;/sup&gt; erg cm&lt;sup&gt;-2&lt;/sup&gt; s&lt;sup&gt;-1&lt;/sup&gt; for the 0.5-2 and 2-8 keV bands, respectively (corresponding to L(2-10 keV) ~ 5.7 x 10&lt;sup&gt;42&lt;/sup&gt; erg s&lt;sup&gt;-1&lt;/sup&gt; and L(10-30 keV) ~ 2.0 x 10&lt;sup&gt;43&lt;/sup&gt; erg s&lt;sup&gt;-1&lt;/sup&gt; at z = 3.09, respectively, for an assumed photon index of Gamma = 1.4). These limits make SSA22 the fourth deepest extragalactic Chandra survey yet conducted, and the only one focused on a known high-redshift structure. In total, the authors detect 297 X-ray point sources and identify one obvious bright extended X-ray source (not included in the current table) over a ~330 arcmin&lt;sup&gt;2&lt;/sup&gt; region. In addition to the X-ray data, the authors provide all available optical spectroscopic redshifts and near-infrared and mid-infrared photometry available for their sources. The basic X-ray and infrared properties of their Chandra sources indicate a variety of source types, although absorbed active galactic nuclei (AGN) appear to dominate. In total, they have identified 12 X-ray sources (either via optical spectroscopic redshifts or LAE selection) at z = 3.06 - 3.12 that are likely to be associated with the SSA22 protocluster. These sources have X-ray and multiwavelength properties that suggest they are powered by AGN with 0.5 - 8 keV luminosities in the range of ~ 10&lt;sup&gt;43&lt;/sup&gt; - 10&lt;sup&gt;45&lt;/sup&gt; erg s&lt;sup&gt;-1&lt;/sup&gt;. The authors have analysed the AGN fraction of sources in the protocluster as a function of local LAE source density and find suggestive evidence for a correlation between AGN fraction and local LAE source density (at the ~96 per cent confidence level), implying that supermassive black hole growth at z ~3 is strongest in the highest density regions.\n",
        "\n",
        "* Second INTEGRAL AGN Catalog\n",
        "     The INTEGRAL mission provides a large data set for studying the hard X-ray properties of AGN and allows testing the unified scheme for AGN. This table contains some of the results from the analysis of INTEGRAL IBIS/ISGRI, JEM-X, and OMC data for 199 AGN (and 3 clusters of galaxies) that have been reported to be detected by INTEGRAL at energies above 20 keV. The data analysed therein allowed a significant spectral extraction on 148 objects and optical variability study of 57 AGN. The slopes of the hard X-ray spectra of Seyfert 1 and Seyfert 2 galaxies were found to be consistent within the uncertainties, whereas lower luminosities were measured for the more absorbed/type 2 AGN. The intermediate Seyfert 1.5 objects exhibit hard X-ray spectra consistent with those of Seyfert 1 galaxies. When applying a Compton reflection model, the underlying continua appear still the same in Seyfert 1 and 2 with photon index 2, and the reflection strength is about R = 1, when assuming different inclination angles. A significant correlation is found between the hard X-ray and optical luminosity and the mass of the central black hole, in the sense that the more luminous objects appear to be more massive. There is also a general trend for the absorbed sources and type 2 AGN to have lower Eddington ratios. The black hole mass appears to form a fundamental plane together with the optical and X-ray luminosity of the form L_V being proportional to L_X&lt;sup&gt;0.6&lt;/sup&gt; M_BH&lt;sup&gt;0.2&lt;/sup&gt;, similar to that found between radio luminosity L_R, L_X, and M_BH. The unified model for Seyfert galaxies seems to hold, showing in hard X-rays that the central engine is the same in Seyfert 1 and 2 but seen under different inclination angles and absorption. A catalog of 199 IBIS/ISGRI detected AGN is presented. For those 148 objects significantly detected in the data set analysed here, spectral parameters, fluxes, and luminosities are given. In addition, the photometric table of OMC measurements in the V-band (given for 57 of the AGN) is also included herein. For objects with more complex spectra, notice, the results of a fit to a cut-off power law model were presented in Table 3 of the reference paper, but are not included in this HEASARC table. The JEM-X spectra of the 23 AGN detected by the X-ray monitor were fit with the IBIS/ISGRI data, and the results of this were presented in Table 4 of the reference paper, but are also not included in this HEASARC table.\n",
        "\n",
        "* XMM-Newton Bright Serendipitous Survey: AGN X-Ray Spectral Properties\n",
        "     X-ray surveys are a key instrument in the study of active galactic nuclei (AGN). Thanks to their penetrating ability, X-rays are able to map the innermost regions close to the central super massive black hole (SMBH) as well as to detect and characterize its emission up to high redshift. This table contains results from a detailed X-ray spectral analysis of the AGN belonging to the XMM-Newton Bright Serendipitous Survey (XBS, the HEASARC Browse XMMBSS table, CDS Cat. IX/41). The XBS is composed of two flux-limited samples selected in the complementary 0.5 to 4.5 and 4.5 to 7.5 keV energy bands and comprising more than 300 AGN up to redshift ~2.4. The authors have performed an X-ray analysis following two different approaches: by analyzing individually each AGN X-ray spectrum and by constructing average spectra for different AGN types. From the individual analysis, the authors find that there seems to be an anticorrelation between the spectral index and the sources' hard X-ray luminosity, such that the average photon index for the higher luminosity sources (&gt;10&lt;sup&gt;44&lt;/sup&gt; erg s&lt;sup&gt;-1&lt;/sup&gt;) is significantly (&gt;2 sigma) flatter than the average for the lower luminosity sources. They also find that the intrinsic column density distribution agrees with AGN unified schemes, although a number of exceptions are found (3% of the whole sample), which are much more common among optically classified type 2 AGN. The authors also find that the so-called \"soft-excess\", apart from the intrinsic absorption, constitutes the principal deviation from a power-law shape in AGN X-ray spectra and it clearly displays different characteristics, and likely a different origin, for unabsorbed and absorbed AGN. Regarding the shape of the average spectra, they find that it is best reproduced by a combination of an unabsorbed (absorbed) power law, a narrow Fe K-alpha emission line and a small (large) amount of reflection for unabsorbed (absorbed) sources.\n",
        "\n",
        "* Soft X-ray properties of Seyfert galaxies (Pfefferkorn+, 2001)\n",
        "     We have detected 91 out of 99 Seyfert 1 and 47 out of 98 Seyfert 2 galaxies of the Rafanelli sample in the ROSAT X-ray band in pointed and/or All-Sky Survey observations. Spectral information from the survey data could be obtained for 59 Seyfert 1 galaxies and only for one Seyfert 2 galaxy. The tables quote the name of the Seyfert galaxy in column 1 and the ROSAT name in column 2. Columns 3 and 4 contain the ROSAT position. We mostly give the centroid source position from the pointed observation with the higher exposure times. The columns 5 and 6 list the count rates, columns 7 and 8 the corresponding exposure times, columns 9 and 10 the fluxes and columns 11 and 12 the luminosities of the sources detected in ROSAT pointing and survey observations, respectively. The survey count rates were taken from the RASS II catalogue and the pointing count rates were computed from the light curves of the sources. The labels \"(p)\" and \"(h)\" in column 5 indicate that the source data are taken from a PSPC or HRI observation. In the columns 9 and 10 we apply the labels \"(f)\" and \"(c)\" to mark the data produced by spectral fit or by count rates. This specification applies also for columns 11 and 12. The Galactic column density is given in column 13 (Dickey &amp; Lockman, 1990ARA&amp;A..28..215D), while the column density obtained from the spectral fit is given in column 14. The other spectral fit parameters, namely the monochromatic flux at 1keV and the photon index are also given in columns 15 and 16, respectively. The value \"-2.3\" of the photon index was used, if no reliable spectral fit could be obtained. When spectral information was available from the survey as well as from the pointed data, we quote the results from the pointed observations. Columns 17 and 18 show the quality of the X-ray identifications both in the pointing and the survey observations, the identifications labeled either with 1 or 2, 1 and 2 indicating high and lower degree of reliability, respectively. In the last column we have listed the classification of the Seyfert type (Sy1.0, Sy1.2, Sy1.5, Sy1.8, Sy1.9, Sy2.0) taken from the \"Catalogue of Seyfert Galaxies\" (Lipovetski et al., 1987, Cat. &lt;VII/173&gt;). We have modified the Rafanelli et al. conventions (S1 = Sy1.0 + Sy1.2 + Sy1.5 and S2 = Sy1.8 + Sy1.9 + Sy2.0) to S1 = Sy1.0 + Sy1.2 + Sy1.5 + Sy1.8 + Sy1.9 and S2 = S2.0. The classifications marked by a (N) indicate Narrow Line Seyfert 1 galaxies (NLS1) (e.g. Osterbrock &amp; Pogge, 1985ApJ...297..166O; Boller, Brandt &amp; Fink 1996A&amp;A...305...53B; Grupe 1996, Properties of bright soft X-ray selected ROSAT AGN, Dissertation submitted Georg-August University, Gvttingen, Germany ). For each source of the Rafanelli sample we have searched for X-ray detections within the ROSAT All-Sky Survey (RASS II catalogue; see Voges, Aschenbach, Boller et al., 1999, Cat. &lt;IX/10&gt; for references) and public PSPC (Position Sensitive Proportional Counter) and HRI (High Resolution Imager) pointed observations. The sources have been identified on X-ray contour maps overlaid to optical images taken from the Palomar Digitized Sky Survey (DSS). We have generated background subtracted contour maps for each selected ROSAT observation. Overlays with a dark background indicate pointed observations (HRI for HRI-data, without label for PSPC-data), whereas the grey background indicate ROSAT All-Sky survey data (PSPC).\n",
        "\n",
        "* CGRO/BATSE 5B Gamma-Ray Burst Spectral Catalog\n",
        "     The CGRO/BATSE 5B Gamma-Ray Burst Spectral Catalog contains the results of systematic spectral analyses of gamma-ray bursts (GRBs) detected with the Burst and Transient Source Experiment (BATSE) on board the Compton Gamma-Ray Observatory (CGRO) during its entire nine years of operation. This catalog contains two types of spectra extracted from 2,145 GRBs, and fitted with five different spectral models resulting in a compendium of over 19,000 spectra. The models were selected based on their empirical importance to the spectral shape of many GRBs, and the analysis performed was devised to be as thorough and objective as possible. In their paper, the authors describe in detail their procedures and criteria for the analyses, and present the bulk results in the form of parameter distributions. This catalog should be considered an official product from the BATSE Science Team, and the data files containing the complete results are soon to be available from the HEASARC. This table lists all of the spectroscopy results of gamma-ray bursts observed by a subset of the 8 BATSE Large Area Detectors. BATSE consisted, in part, of an array of 8 sodium iodide Large Area Detectors (LADs) which covered the energy range from ~20 keV - 2 MeV. The LAD detectors were placed at each of the eight corners of the CGRO spacecraft with an outward orientation such that the entire sky not occulted by the Eartt was observed. The spectrum files (&amp;quot;scat&amp;quot; files) available as FITS-format data products associated with this catalog provide parameter values and goodness-of-fit measures for different types of spectral fits and models. These fits are performed using 14-channel data, usually 2-second resolution CONT data. There are currently two spectrum categories: &lt;pre&gt; * Peak flux ('pflx') - a single spectrum over a 2.05-second time range at the peak flux of the burst * Fluence ('flnc') - a single spectrum over the entire burst duration &lt;/pre&gt; The quoted fluxes and fluences are for the 20 keV - 2 MeV energy range, notice. The scat files have two extensions. The first extension gives detector-specific information, including photon fluxes and fluences for each detector, which are provided for each energy channel. The second extension provides derived quantities such as flux, fluence and model parameters for the joint fit of all included detectors. The scat files and their energy-resolved quantities contained in these two extensions will be available soon in the HEASARC data archive. Quantities derived from these spectral fits are available in the present table, as described below and in the Goldstein et al. (2013) reference paper. The spectra are fit with a number of models, with the signal-to-noise ratio of the spectrum often determining whether a more complex model is statistically favored. The current set is: &lt;pre&gt; * Power law ('plaw'), * Comptonized (exponentially attenuated power law; 'comp') * Band ('band') * Smoothly broken power law ('sbpl') * Log_10 Gaussian ('glog') &lt;/pre&gt; The full details of these models are presented in Section 4 of the reference paper. The type of spectrum and spectral model are coded into the parameter names (and the associated file names) using the acronyms given above. Thus for example, the parameters with names beginning with 'flnc_glog' contain the results from fits to the fluence spectra using Log&lt;sub&gt;10&lt;/sub&gt; Gaussian models. The corresponding spectrum file for the burst with trigger number 105 with the results from a fit to the fluence spectrum using a Log&lt;sub&gt;10&lt;/sub&gt; Gaussian model is named scat_0105_flnc_glog_v00.fit. Please note that this table lists the raw results of each spectral fit to each GRB. In cases where the spectral fit failed, the values reported are those that initialized the spectral fit. If the uncertainty on the spectral parameters is reported as zero (no uncertainty), then the fit failed. In a few cases throughout this table, the uncertainties for certain spectral parameters may be reported as '9999.99' which indicates that the uncertainty on that parameter is completely unconstrained. An example of this is when the spectral data from a burst is fitted with a BAND function but is unable to constrain the high-energy index. In this case, the best fit centroid value of the high-energy index parameter is reported, and the '9999.99' value is reported for the uncertainty.\n",
        "\n",
        "* M 31 Central Region Chandra X-Ray Point Source Catalog\n",
        "     This table countains the M 31 Central Region Catalog of Chandra X-Ray Point Sources. It is based on Chandra observations of the central region of M 31. By combining eight Chandra ACIS-I observations which were taken between 1999 and 2001, the authors have identified 204 X-ray sources within the central ~17'x17' region of M 31, with a detection limit of ~2x10^35 erg/s. Of these 204 X-ray sources, 22 are identified with globular clusters, two with supernova remnants, nine with planetary nebulae, and nine with supersoft sources. By comparing individual images, about 50% of the sources were found to be variable on timescales of months. The authors also found 13 transients, with light curves showing a variety of shapes. They also extracted the energy spectra of the 20 brightest sources; they can be well fitted by a single power law with a mean photon index of 1.8. The spectral shapes of 12 sources were variable, suggesting that they went through state changes. All sources in the catalog have S/N &gt; 2.5 and only five have S/N &lt; 3.0. The detection limit for the sources varies across the image due to the variation of exposure time, background, and instrumental PSF, and is highest near the edges, where the PSF broadens rapidly and the exposure time is lowest. Over the inner 4' of the field, the detection limit is 2.1 x 10^-4 ct/s, which is equivalent to an X-ray luminosity of about 2 x 10^35 erg/s. Additional information about optical identifications and cross-correlated ROSAT X-ray sources not provided in this HEASARC table is available in the published paper (Tables 4 and 5) and/or the CDS at &lt;a href=\"ftp://cdsarc.u-strasbg.fr/pub/cats/J/ApJ/577/738/\"&gt;ftp://cdsarc.u-strasbg.fr/pub/cats/J/ApJ/577/738/&lt;/a&gt; (table4.dat &amp; table5.dat).\n",
        "\n",
        "* ROSAT Complete Results Archive Sources for the PSPC with Filter\n",
        "     This table is derived from the Second ROSAT Source Catalog of Pointed Observations with the ROSAT PSPC (Roentgen Satellite Position-Sensitive Proportional Counter) Observed Using the Boron Filter, or the 2RXF Catalog. 2XRF contains arcsecond positions and count rates for 2,526 detected sources from 258 ROSAT PSPC Filter observations covering 0.15% of the sky, including 704 high-confidence detections and 20 obvious sources which were not detected by SASS. This table contains the complete version of the list of detections (2,526 entries), whereas the short 'high-confidence' version (the HEASARC's &lt;a href=\"rospspcf.html\"&gt;ROSPSPCF table&lt;/a&gt;) contains 704 detections. The ROSPSPCFTOT table includes many questionable sources that meet the following parameter criteria: false_det = 'f' or deferred = 'D' or not_checked = 'n'. See the documentation below for descriptions of these parameters. The catalog consists of all primary source parameters from the automated detection algorithm employed by the SASS. In addition each observation has been quality checked, both by automatic algorithms and by detailed visual inspection. The results of this quality checking are contained as a set of logical-value flags for a set of principal source parameters. If a source parameter is suspect, the associated flag is set to a corresponding alphabetical value; parameters with no obvious problems maintain the default, '.', value. The Second ROSAT Pointed PSPC Filter Source Catalog includes missing sources, i.e. obvious sources which were not detected by the SASS source detection software but which could be easily detected by visual inspection. Missed sources are marked by negative values of their source identification number, i.e. the parameter 'MPLSX_ID' has a negative value for these sources. The only tabulated quantities for these visually identified missed sources are source positions; other quantities (like count rates, hardness ratios, etc.) are not available. These data have been screened by ROSAT data centers in the US, Germany, and the UK as a step in the production of the ROSAT Results Archive. The RRA contains extracted source and associated products with an indication of reliability for the primary parameters. More information about the ROSAT mission and the SASS can be obtained from the ROSAT User Handbook, available at either &lt;a href=\"http://www.mpe.mpg.de/xray/wave/rosat/doc/ruh/index.php\"&gt;http://www.mpe.mpg.de/xray/wave/rosat/doc/ruh/index.php&lt;/a&gt; or &lt;a href=\"http://heasarc.gsfc.nasa.gov/docs/rosat/rosdocs.html\"&gt;http://heasarc.gsfc.nasa.gov/docs/rosat/rosdocs.html&lt;/a&gt;.\n",
        "\n"
       ]
      }
     ],
     "prompt_number": 23
    },
    {
     "cell_type": "code",
     "collapsed": false,
     "input": [],
     "language": "python",
     "metadata": {},
     "outputs": [],
     "prompt_number": 23
    }
   ],
   "metadata": {}
  }
 ]
}