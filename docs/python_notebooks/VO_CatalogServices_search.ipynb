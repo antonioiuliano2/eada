{
 "metadata": {
  "name": "",
  "signature": "sha256:fa4b911f12481154b4f75ffff2ca2b8f569f2302c807d92d133726457ae53155"
 },
 "nbformat": 3,
 "nbformat_minor": 0,
 "worksheets": [
  {
   "cells": [
    {
     "cell_type": "heading",
     "level": 1,
     "metadata": {},
     "source": [
      "Searching for x-ray catalogues on VO for SED studies"
     ]
    },
    {
     "cell_type": "heading",
     "level": 2,
     "metadata": {},
     "source": [
      "1) Search for \"all\" X-Ray catalogues"
     ]
    },
    {
     "cell_type": "heading",
     "level": 4,
     "metadata": {},
     "source": [
      "Using the 'PyVO' package, with the use of function 'regsearch', we will search for X-Ray catalogues useful for Spectral Energy Distribution (SED) analysis. We will filter catalogues with flux-related data and spectral/photon index information."
     ]
    },
    {
     "cell_type": "code",
     "collapsed": false,
     "input": [
      "import pyvo\n",
      "#help(pyvo.regsearch)"
     ],
     "language": "python",
     "metadata": {},
     "outputs": [],
     "prompt_number": 31
    },
    {
     "cell_type": "heading",
     "level": 4,
     "metadata": {},
     "source": [
      "Obs: The registry we will query the catalog services is the default one configured on PyVO:"
     ]
    },
    {
     "cell_type": "code",
     "collapsed": false,
     "input": [
      "print(\"%s \\n\" % pyvo.registry.RegistryQuery().baseurl)"
     ],
     "language": "python",
     "metadata": {},
     "outputs": [
      {
       "output_type": "stream",
       "stream": "stdout",
       "text": [
        "http://vao.stsci.edu/directory/NVORegInt.asmx/ \n",
        "\n"
       ]
      }
     ],
     "prompt_number": 32
    },
    {
     "cell_type": "heading",
     "level": 4,
     "metadata": {},
     "source": [
      "To do the search we need then to define 'waveband'(=\"xray\"), 'servicetype'(=\"conesearch\"). These two are mandatory for our purpose here. Also, since the spectral/photon index information is a great information to have -- and we want two at this moment -- we will filter the results to accomplish that. So, we will define also the 'keywords'(=\"index\") argument to see if we get a nice answer."
     ]
    },
    {
     "cell_type": "code",
     "collapsed": false,
     "input": [
      "records = pyvo.regsearch(waveband='xray',servicetype='conesearch',keywords='index')"
     ],
     "language": "python",
     "metadata": {},
     "outputs": [],
     "prompt_number": 33
    },
    {
     "cell_type": "heading",
     "level": 4,
     "metadata": {},
     "source": [
      "And we can now inspect the answer to see what are the services returned"
     ]
    },
    {
     "cell_type": "code",
     "collapsed": false,
     "input": [
      "records.nrecs # number of services found"
     ],
     "language": "python",
     "metadata": {},
     "outputs": [
      {
       "metadata": {},
       "output_type": "pyout",
       "prompt_number": 34,
       "text": [
        "42"
       ]
      }
     ],
     "prompt_number": 34
    },
    {
     "cell_type": "code",
     "collapsed": false,
     "input": [
      "for r in records: print r.title # Title (name) of the services (catalogues) found"
     ],
     "language": "python",
     "metadata": {},
     "outputs": [
      {
       "output_type": "stream",
       "stream": "stdout",
       "text": [
        "HEAO 1 A2 Piccinotti Catalog\n",
        "Atlas of Radio/X-Ray Associations (ARXA)\n",
        "CGRO/BATSE 5B Gamma-Ray Burst Spectral Catalog\n",
        "Chandra Deep Field South AGN Spectral Properties Catalog\n",
        "CHAMP/SDSS Nearby Low-Luminosity AGN Catalog\n",
        "M 31 Central Region Chandra X-Ray Point Source Catalog\n",
        "Chandra Archive Of Galaxies Ultraluminous X-Ray Source Catalog\n",
        "INTEGRAL IBIS Hard X-Ray Survey of Galactic Center\n",
        "Second INTEGRAL AGN Catalog\n",
        "Soft X-ray properties of Seyfert galaxies (Pfefferkorn+, 2001)\n",
        "Soft X-ray properties of Seyfert galaxies (Pfefferkorn+, 2001)\n",
        "Spectral analysis of Lockman Hole (Mainieri+, 2002)\n",
        "AGN in XMM-Newton Hard Bright Survey (Della Ceca+, 2008)\n",
        "AGN-Host Galaxy Connection (Povic+, 2012)\n",
        "Spectra of 29 Swift/BAT optical counterparts (Parisi+, 2012)\n",
        "X-ray and radio emission of type 1 AGNs (Ballo+, 2012)\n",
        "AGN Torus model comparison of AGN in the CDFS (Buchner+, 2014)\n",
        "CDFs AGNs X-ray power-law photon index (Saez+, 2008)\n",
        "X-ray studies of stars in the Pleiades (Micela+, 1990)\n",
        "X-ray studies of stars in the Pleiades (Micela+, 1990)\n",
        "M31 Chandra X-ray point sources (Kong+, 2002)\n",
        "SED of the Fermi blazars (Li+, 2010)\n",
        "XMM-Newton survey in COSMOS field. IV. (Mainieri+, 2007)\n",
        "RIXOS source sample X-ray spectra (Mittaz+, 1999)\n",
        "X-ray+Radio sources in XBootes (El Bouchefry, 2009)\n",
        "LALA Cetus Field Chandra X-Ray Point Source Catalog\n",
        "M31 XMM-Newton Spectral Survey X-Ray Point Source Catalog\n",
        "ROSAT PSPC M31 Source Catalog\n",
        "ROSAT Radio-Loud Quasars Catalog\n",
        "ROSAT Radio-Quiet Quasars Catalog\n",
        "ROSAT Results Archive Sources for the PSPC with Filter\n",
        "ROSAT Complete Results Archive Sources for the PSPC with Filter\n",
        "XTE Target Index Catalog\n",
        "Sloan Digital Sky Survey Quasars Detected by Chandra\n",
        "Sloan Digital Sky Survey (DR5)/XMM-Newton Quasar Survey Catalog\n",
        "SSA22 Field Chandra X-Ray Point Source Catalog\n",
        "Spitzer Wide-Area IR Extra-Galactic Survey Chandra X-Ray Sources\n",
        "XMM-Newton Bright Serendipitous Survey: AGN X-Ray Spectral Properties\n",
        "XMM-Newton Large-Scale Structure Optical Identifications Catalog\n",
        "XMM-Newton 2XMMi-DR3 Selected Source Detections Catalog\n",
        "XMM-Newton 2XMMi-DR3 Selected Source Classifications Catalog\n",
        "XTE Archived Public Slew Data\n"
       ]
      }
     ],
     "prompt_number": 35
    },
    {
     "cell_type": "heading",
     "level": 4,
     "metadata": {},
     "source": [
      "You should have notice that the answer returned by the 'pyvo.regsearch' function is a container (i.e, a list) with objects relative to each catalog service found (matching our query). Let's see what are the attributes (except from 'title') of these objects so that we can have a better idea of what we have found so far..."
     ]
    },
    {
     "cell_type": "code",
     "collapsed": false,
     "input": [
      "r = records[0] # let us save a reference (\"r\") for the Piccinotti catalog for what follows"
     ],
     "language": "python",
     "metadata": {},
     "outputs": [],
     "prompt_number": 36
    },
    {
     "cell_type": "code",
     "collapsed": false,
     "input": [
      "from pprint import pprint\n",
      "from inspect import getmembers,isroutine\n",
      "attrs = getmembers(r, lambda a:not(isroutine(a)))\n",
      "print \"Attributes:\"\n",
      "pprint([ a[0] for a in attrs if not '_' in a[0] ])\n",
      "print \"\\nRoutines:\"\n",
      "print([ a[0] for a in getmembers(r, lambda a:isroutine(a)) if not '_' in a[0] ])"
     ],
     "language": "python",
     "metadata": {},
     "outputs": [
      {
       "output_type": "stream",
       "stream": "stdout",
       "text": [
        "Attributes:\n",
        "['accessurl',\n",
        " 'capability',\n",
        " 'contentlevel',\n",
        " 'identifier',\n",
        " 'ivoid',\n",
        " 'publisher',\n",
        " 'rec',\n",
        " 'shortname',\n",
        " 'standardid',\n",
        " 'subject',\n",
        " 'tags',\n",
        " 'title',\n",
        " 'type',\n",
        " 'waveband']\n",
        "\n",
        "Routines:\n",
        "['cachedataset', 'fielddesc', 'get', 'getdataset', 'getdataurl', 'items', 'iteritems', 'iterkeys', 'itervalues', 'keys', 'search', 'values']\n"
       ]
      }
     ],
     "prompt_number": 37
    },
    {
     "cell_type": "heading",
     "level": 4,
     "metadata": {},
     "source": [
      "Some attributes look suggestive, like 'capability', 'contentlevel', 'subject'... But, let's see what they really provide."
     ]
    },
    {
     "cell_type": "code",
     "collapsed": false,
     "input": [
      "for a in attrs:\n",
      "    if not '_' in a[0]: \n",
      "        print(\"%-15s :     %s\" % (a[0],a[1]))"
     ],
     "language": "python",
     "metadata": {},
     "outputs": [
      {
       "output_type": "stream",
       "stream": "stdout",
       "text": [
        "accessurl       :     http://heasarc.gsfc.nasa.gov/cgi-bin/vo/cone/coneGet.pl?table=a2pic&amp;\n",
        "capability      :     ConeSearch\n",
        "contentlevel    :     ('Research',)\n",
        "identifier      :     ivo://nasa.heasarc/a2pic#1\n",
        "ivoid           :     ivo://nasa.heasarc/a2pic#1\n",
        "publisher       :     NASA/GSFC HEASARC\n",
        "rec             :     ('Catalog', 'A2PIC [1]', 'HEAO 1 A2 Piccinotti Catalog', \"The HEAO 1 A-2 experiment's operations began on day 224 of 1977 (12 August 1977) and ended on day 739 of 1977 (9 January 1979). The A-2 experiment performed two independent, low-background, high-sensitivity surveys of the entire sky 6 months apart, the first scan during days 248 to 437 of 1977 (5 September 1977 - 13 March 1978) and the second scan during days 73 to 254 of 1978 (14 March 1978 - 11 September 1978). The authors analysed the A-2 data in order to obtain a complete flux-limited sample of extragalactic X-ray sources. The region between galactic latitudes of -20 and +20 degrees was excluded to minimize contamination from galactic sources. A circle of 6 degrees radius around the Large Magellanic Cloud sources was also excluded to prevent confusion problems. Therefore, there remained 65.5% of the sky (8.23 steradians) covered by this survey. The lowest statistical significance for the existence of the sources included in this catalog is 5 sigma, as required by the maximum likelihood methods used by the authors to determine the log N - log S parameters. Taking into account this statistical significance requirement, the authors estimated the completeness level of the first and second scans to be 1.25 and 1.8 R15 ct/s, respectively. 1 R15 ct/s is approximately 2.17 x 10^-11 erg/cm^2/s in the 2-10 keV energy band for a power-law spectyrum with a photon index of 1.65. This catalog contains data for 68 nongalactic sources (61 extragalactic and 7 unidentified sources) which were listed in Table 1 of the published catalog. The identified sources fall into several categories, including narrow emission line galaxies, broad emission line galaxies, BL Lacertae objects, and clusters of galaxies.\", 'NASA/GSFC HEASARC', '#X-ray#', 'ivo://nasa.heasarc/a2pic#1', '2013-06-25T00:00:00', '#Extragalactic Source#', '#Catalog#', '#Research#', 1.0, '', 'ivo://nasa.heasarc/a2pic', 'ConeSearch', 'ivo://ivoa.net/std/ConeSearch', '2', 'ParamHTTP', '', 'std?', 'http://heasarc.gsfc.nasa.gov/cgi-bin/vo/cone/coneGet.pl?table=a2pic&amp;', 180.0, 99999, 'ivo://nasa.heasarc/ASD', 'http://heasarc.gsfc.nasa.gov/W3Browse/heao1/a2pic.html')\n",
        "shortname       :     A2PIC [1]\n",
        "standardid      :     ivo://ivoa.net/std/ConeSearch\n",
        "subject         :     ('Extragalactic Source',)\n",
        "tags            :     Catalog\n",
        "title           :     HEAO 1 A2 Piccinotti Catalog\n",
        "type            :     ('Catalog',)\n",
        "waveband        :     ('X-ray',)\n"
       ]
      }
     ],
     "prompt_number": 38
    },
    {
     "cell_type": "heading",
     "level": 4,
     "metadata": {},
     "source": [
      "OK, so we have some good informations about the service... In particular, the description found in the 'rec' attribute (the 4th field), which present the main features/purposes of the catalog. We can access the description through record's method 'get':"
     ]
    },
    {
     "cell_type": "code",
     "collapsed": false,
     "input": [
      "print r.get('description')"
     ],
     "language": "python",
     "metadata": {},
     "outputs": [
      {
       "output_type": "stream",
       "stream": "stdout",
       "text": [
        "The HEAO 1 A-2 experiment's operations began on day 224 of 1977 (12 August 1977) and ended on day 739 of 1977 (9 January 1979). The A-2 experiment performed two independent, low-background, high-sensitivity surveys of the entire sky 6 months apart, the first scan during days 248 to 437 of 1977 (5 September 1977 - 13 March 1978) and the second scan during days 73 to 254 of 1978 (14 March 1978 - 11 September 1978). The authors analysed the A-2 data in order to obtain a complete flux-limited sample of extragalactic X-ray sources. The region between galactic latitudes of -20 and +20 degrees was excluded to minimize contamination from galactic sources. A circle of 6 degrees radius around the Large Magellanic Cloud sources was also excluded to prevent confusion problems. Therefore, there remained 65.5% of the sky (8.23 steradians) covered by this survey. The lowest statistical significance for the existence of the sources included in this catalog is 5 sigma, as required by the maximum likelihood methods used by the authors to determine the log N - log S parameters. Taking into account this statistical significance requirement, the authors estimated the completeness level of the first and second scans to be 1.25 and 1.8 R15 ct/s, respectively. 1 R15 ct/s is approximately 2.17 x 10^-11 erg/cm^2/s in the 2-10 keV energy band for a power-law spectyrum with a photon index of 1.65. This catalog contains data for 68 nongalactic sources (61 extragalactic and 7 unidentified sources) which were listed in Table 1 of the published catalog. The identified sources fall into several categories, including narrow emission line galaxies, broad emission line galaxies, BL Lacertae objects, and clusters of galaxies.\n"
       ]
      }
     ],
     "prompt_number": 39
    },
    {
     "cell_type": "heading",
     "level": 4,
     "metadata": {},
     "source": [
      "Nice. So, until now we could get some high level information that gives us the scope of the catalog. I want now to go to a lower level -- the catalog itself -- to see what information the metadata can give us to see if the catalog can be used on our purpose.\n",
      "Obs: before going to the next step, I want you to notice the (photon) \"index\" information (which we want) in this description; we should come back to this point later."
     ]
    },
    {
     "cell_type": "heading",
     "level": 2,
     "metadata": {},
     "source": [
      "2) Ivestigating a catalog's metadata"
     ]
    },
    {
     "cell_type": "heading",
     "level": 4,
     "metadata": {},
     "source": [
      "To reach the catalog's metadata we will download a null version of the table. As \"null\" I mean a table without data (i.e, sources). The aim here is to further analyse if the catalog/table has the king of information we are looking for: flux-related data and the spectral/photon index."
     ]
    },
    {
     "cell_type": "code",
     "collapsed": false,
     "input": [
      "r_service = r.to_service() # get an object to query the particular (\"r\") service\n",
      "print r_service.baseurl # check if the URLs match; should be the same printed out by the 'accessurl' attribute above"
     ],
     "language": "python",
     "metadata": {},
     "outputs": [
      {
       "output_type": "stream",
       "stream": "stdout",
       "text": [
        "http://heasarc.gsfc.nasa.gov/cgi-bin/vo/cone/coneGet.pl?table=a2pic&amp;\n"
       ]
      }
     ],
     "prompt_number": 40
    },
    {
     "cell_type": "code",
     "collapsed": false,
     "input": [
      "#help(r_service.search)"
     ],
     "language": "python",
     "metadata": {},
     "outputs": [],
     "prompt_number": 41
    },
    {
     "cell_type": "code",
     "collapsed": false,
     "input": [
      "cat = r_service.search( pos=(0,0), radius=0.00001 ) # search for a \"null\" point in the sky"
     ],
     "language": "python",
     "metadata": {},
     "outputs": [],
     "prompt_number": 42
    },
    {
     "cell_type": "heading",
     "level": 4,
     "metadata": {},
     "source": [
      "Again, let's see what are the attributes of the catalog (\"cat\") object. For convenience we will define a function to give us a higher level to query this kind of information."
     ]
    },
    {
     "cell_type": "code",
     "collapsed": false,
     "input": [
      "def printPublicMembers(obj):\n",
      "    from inspect import getmembers\n",
      "    members = getmembers(obj)\n",
      "    for m in members:\n",
      "        if not '_' in m[0]:\n",
      "            print(\"%-15s :   %s\" % (m[0],str(m[1])))\n",
      "printPublicMembers(cat)"
     ],
     "language": "python",
     "metadata": {},
     "outputs": [
      {
       "output_type": "stream",
       "stream": "stdout",
       "text": [
        "cursor          :   <bound method SCSResults.cursor of <pyvo.dal.scs.SCSResults object at 0x48aac90>>\n",
        "fielddesc       :   <bound method SCSResults.fielddesc of <pyvo.dal.scs.SCSResults object at 0x48aac90>>\n",
        "fieldnames      :   <bound method SCSResults.fieldnames of <pyvo.dal.scs.SCSResults object at 0x48aac90>>\n",
        "getcolumn       :   <bound method SCSResults.getcolumn of <pyvo.dal.scs.SCSResults object at 0x48aac90>>\n",
        "getdesc         :   <bound method SCSResults.getdesc of <pyvo.dal.scs.SCSResults object at 0x48aac90>>\n",
        "getrecord       :   <bound method SCSResults.getrecord of <pyvo.dal.scs.SCSResults object at 0x48aac90>>\n",
        "getvalue        :   <bound method SCSResults.getvalue of <pyvo.dal.scs.SCSResults object at 0x48aac90>>\n",
        "nrecs           :   0\n",
        "protocol        :   scs\n",
        "queryurl        :   http://heasarc.gsfc.nasa.gov/cgi-bin/vo/cone/coneGet.pl?table=a2pic&amp;&RA=0&DEC=0&SR=1e-05&VERB=2\n",
        "version         :   1.0\n",
        "votable         :   catalog_designation name  ra dec count_rate count_rate_error class Search_Offset\n",
        "------------------- ---- --- --- ---------- ---------------- ----- -------------\n"
       ]
      }
     ],
     "prompt_number": 43
    },
    {
     "cell_type": "heading",
     "level": 4,
     "metadata": {},
     "source": [
      "Let's see what the methods 'fielddesc' and 'fieldnames' give to us."
     ]
    },
    {
     "cell_type": "code",
     "collapsed": false,
     "input": [
      "print cat.fieldnames() # print the names of table columns"
     ],
     "language": "python",
     "metadata": {},
     "outputs": [
      {
       "output_type": "stream",
       "stream": "stdout",
       "text": [
        "[u'catalog_designation', u'name', u'ra', u'dec', u'count_rate', u'count_rate_error', u'class', u'Search_Offset']\n"
       ]
      }
     ],
     "prompt_number": 44
    },
    {
     "cell_type": "code",
     "collapsed": false,
     "input": [
      "for f in cat.fielddesc(): # and what kind of information they store\n",
      "    print(\"%-20s : %-40s %-35s %-10s\" % (f.name,f.description,f.ucd,f.unit))"
     ],
     "language": "python",
     "metadata": {},
     "outputs": [
      {
       "output_type": "stream",
       "stream": "stdout",
       "text": [
        "catalog_designation  : HEAO A2 Catalog Source Name              None                                None      \n",
        "name                 : Optical Source Identification            ID_MAIN                             None      \n",
        "ra                   : Right Ascension                          POS_EQ_RA_MAIN                      deg       \n",
        "dec                  : Declination                              POS_EQ_DEC_MAIN                     deg       \n",
        "count_rate           : R15 (counts/s), 1st 6-month Pass         phot.count;em.X-ray                 ct / s    \n",
        "count_rate_error     : Error on First Count Rate                stat.error;phot.count;em.X-ray      ct / s    \n",
        "class                : Browse Object Classification             src.class                           None      \n",
        "Search_Offset        : None                                     None                                None      \n"
       ]
      }
     ],
     "prompt_number": 45
    },
    {
     "cell_type": "heading",
     "level": 4,
     "metadata": {},
     "source": [
      "That is the kind of information we are looking for: photon counts, count rates."
     ]
    },
    {
     "cell_type": "heading",
     "level": 3,
     "metadata": {},
     "source": [
      "2.1) Collecting all catalogues UCD and Unit information"
     ]
    },
    {
     "cell_type": "code",
     "collapsed": false,
     "input": [
      "import warnings; warnings.simplefilter('ignore') # suppress warnings...\n",
      "def getUCD(tab):\n",
      "    \"\"\"Returns a list with all (valid) UCDs from a table\"\"\"\n",
      "    from astropy.io.votable import ucd\n",
      "    l1 = []\n",
      "    for f in tab.fielddesc():\n",
      "        if not f.ucd: continue\n",
      "        l2 = []\n",
      "        for u in ucd.parse_ucd(f.ucd):\n",
      "            l2.append(str(u[1]))\n",
      "        l1.extend(l2)\n",
      "    return l1[:]\n",
      "\n",
      "def getUnit(tab):\n",
      "    \"\"\"Returns a list of units from a table\"\"\"\n",
      "    l = []\n",
      "    for f in tab.fielddesc():\n",
      "        if not f.unit: continue\n",
      "        l.append(str(f.unit).replace(' ',''))\n",
      "    return l[:]\n",
      "\n",
      "# Let's define a function that does the search, exactly what we have already done\n",
      "def retrieveTable(record):\n",
      "    \"\"\"Retrieve an empty table referenced by the record\"\"\"\n",
      "    serv = record.to_service()\n",
      "    tab = serv.search( pos=(0,0), radius=0.00001 )\n",
      "    return tab\n",
      "\n",
      "# Let's loop over all records/catalogues...\n",
      "Catalogues = {}\n",
      "for r in records:\n",
      "    cat = retrieveTable(r)\n",
      "    Catalogues[r] = cat\n",
      "print \"Done.\""
     ],
     "language": "python",
     "metadata": {},
     "outputs": [
      {
       "output_type": "stream",
       "stream": "stdout",
       "text": [
        "Done.\n"
       ]
      }
     ],
     "prompt_number": 136
    },
    {
     "cell_type": "heading",
     "level": 4,
     "metadata": {},
     "source": [
      "Let us print the UCDs found on all catalogues:"
     ]
    },
    {
     "cell_type": "code",
     "collapsed": false,
     "input": [
      "UCDs = set()\n",
      "for cat in Catalogues.itervalues():\n",
      "    if not cat: continue\n",
      "    l = getUCD(cat)\n",
      "    UCDs.update(set(l))\n",
      "UCDl = list(UCDs)\n",
      "UCDl.sort()\n",
      "for a,b,c in map(None,UCDl[::3],UCDl[1::3],UCDl[2::3]):\n",
      "    print \"{:<30}{:<30}{:<}\".format(a,b,c)"
     ],
     "language": "python",
     "metadata": {},
     "outputs": [
      {
       "output_type": "stream",
       "stream": "stdout",
       "text": [
        "DATA_LINK                     ID_MAIN                       POS_EQ_DEC_MAIN\n",
        "POS_EQ_RA_MAIN                arith.ratio                   em.IR.K\n",
        "em.UV                         em.X-ray                      em.X-ray.hard\n",
        "em.X-ray.medium               em.gamma.hard                 em.opt.B\n",
        "em.opt.I                      em.opt.R                      em.opt.V\n",
        "em.radio.750-1500MHz          instr.background              instr.offset\n",
        "instr.setup                   meta.code                     meta.code.class\n",
        "meta.code.error               meta.file                     meta.fits\n",
        "meta.id                       meta.id.PI                    meta.main\n",
        "meta.modelled                 meta.note                     meta.number\n",
        "meta.ref                      meta.ref.url                  obs\n",
        "obs.exposure                  obs.field                     phot.color\n",
        "phot.count                    phot.flux                     phot.flux.density\n",
        "phot.mag                      phys.angSize                  phys.columnDensity\n",
        "phys.luminosity               phys.magAbs                   phys.mass\n",
        "pos.angDistance               pos.eq.dec                    pos.eq.ra\n",
        "spect.index                   spect.line.width              src\n",
        "src.class                     src.class.starGalaxy          src.redshift\n",
        "src.spType                    stat.error                    stat.fit.dof\n",
        "stat.fit.param                stat.max                      stat.param\n",
        "time.duration                 time.end                      time.epoch\n",
        "time.start                    None                          None\n"
       ]
      }
     ],
     "prompt_number": 139
    },
    {
     "cell_type": "heading",
     "level": 4,
     "metadata": {},
     "source": [
      "And now let us print the units found:"
     ]
    },
    {
     "cell_type": "code",
     "collapsed": false,
     "input": [
      "UNTs = set()\n",
      "for cat in Catalogues.itervalues():\n",
      "    if not cat: continue\n",
      "    l = getUnit(cat)\n",
      "    UNTs.update(set(l))\n",
      "UNTl = list(UNTs)\n",
      "UNTl.sort()\n",
      "for a,b,c in map(None,UNTl[::3],UNTl[1::3],UNTl[2::3]):\n",
      "    print \"{:<30}{:<30}{:<}\".format(a,b,c)"
     ],
     "language": "python",
     "metadata": {},
     "outputs": [
      {
       "output_type": "stream",
       "stream": "stdout",
       "text": [
        "\"Y:M:D\"                       \"d:m:s\"                       \"h:m:s\"\n",
        "%                             0.01ct/s                      0.1/keV/m2/s\n",
        "1e+20/cm2                     1e+22/cm2                     1e+30W\n",
        "1e-17W/m2                     [-]                           [10+35W]\n",
        "[10-7W]                       [Msun]                        [W/Hz]\n",
        "[cm-2]                        aW/m2                         arcm\n",
        "ct                            ct/ks                         ct/s\n",
        "deg                           fW/m2                         km/s\n",
        "ks                            mJy                           mW/m2\n",
        "mag                           mjd                           nJy\n",
        "s                             uJy                           None\n"
       ]
      }
     ],
     "prompt_number": 140
    },
    {
     "cell_type": "heading",
     "level": 4,
     "metadata": {},
     "source": [
      "Well, it seems to me that the interesting UCDs are:"
     ]
    },
    {
     "cell_type": "code",
     "collapsed": false,
     "input": [
      "UCD_goal=['em.X-ray','phot.flux','phot.flux.density','phot.count','phys.luminosity']"
     ],
     "language": "python",
     "metadata": {},
     "outputs": [],
     "prompt_number": 133
    },
    {
     "cell_type": "heading",
     "level": 4,
     "metadata": {},
     "source": [
      "And the units are:"
     ]
    },
    {
     "cell_type": "code",
     "collapsed": false,
     "input": [
      "UNT_goal=['ct/s','erg/s','erg/s/cm2','mW/m2','1e-17W/m2','ct/ks','mJy','ct','[10-7W]']"
     ],
     "language": "python",
     "metadata": {},
     "outputs": [],
     "prompt_number": 163
    },
    {
     "cell_type": "heading",
     "level": 4,
     "metadata": {},
     "source": [
      "And then we should be able to filter the catalogues that provides (1st) these UCDs and Units."
     ]
    },
    {
     "cell_type": "heading",
     "level": 4,
     "metadata": {},
     "source": [
      "Let's define two little functions to help us on checking the ucds and units:"
     ]
    },
    {
     "cell_type": "code",
     "collapsed": false,
     "input": [
      "def checkUCD(tab,UCDs=[]):\n",
      "    \"\"\"Returns a True if tab has one of the given UCDs; False otherwise\"\"\"\n",
      "    if not tab: return False\n",
      "    l = getUCD(tab)\n",
      "    ok = any( filter(lambda u:u in UCDs, set(l)) )\n",
      "    return ok\n",
      "\n",
      "def checkUnit(tab,Units=[]):\n",
      "    \"\"\"Returns a True if tb has one of the given Units; False otherwise\"\"\"\n",
      "    if not tab: return False\n",
      "    l = getUnit(tab)\n",
      "    ok = any( filter(lambda u:u in Units, set(l)) )\n",
      "    return ok"
     ],
     "language": "python",
     "metadata": {},
     "outputs": [],
     "prompt_number": 150
    },
    {
     "cell_type": "heading",
     "level": 4,
     "metadata": {},
     "source": [
      "And select the catalogues based on UCD_goal and UNT_goal."
     ]
    },
    {
     "cell_type": "code",
     "collapsed": false,
     "input": [
      "SelectCatalogues = {}\n",
      "for r,t in Catalogues.iteritems():\n",
      "    ok1 = checkUCD(t,UCD_goal)\n",
      "    ok2 = checkUnit(t,UNT_goal)\n",
      "    if ok1 and ok2:\n",
      "        SelectCatalogues[r] = t\n",
      "print(\"%d Catalogues selected:\" % len(SelectCatalogues))\n",
      "for k in SelectCatalogues.iterkeys():\n",
      "    print(\" * %s\" % k.title)"
     ],
     "language": "python",
     "metadata": {},
     "outputs": [
      {
       "output_type": "stream",
       "stream": "stdout",
       "text": [
        "15 Catalogues selected:\n",
        " * AGN-Host Galaxy Connection (Povic+, 2012)\n",
        " * X-ray+Radio sources in XBootes (El Bouchefry, 2009)\n",
        " * X-ray and radio emission of type 1 AGNs (Ballo+, 2012)\n",
        " * Spectral analysis of Lockman Hole (Mainieri+, 2002)\n",
        " * AGN Torus model comparison of AGN in the CDFS (Buchner+, 2014)\n",
        " * AGN in XMM-Newton Hard Bright Survey (Della Ceca+, 2008)\n",
        " * X-ray studies of stars in the Pleiades (Micela+, 1990)\n",
        " * Soft X-ray properties of Seyfert galaxies (Pfefferkorn+, 2001)\n",
        " * RIXOS source sample X-ray spectra (Mittaz+, 1999)\n",
        " * SED of the Fermi blazars (Li+, 2010)\n",
        " * X-ray studies of stars in the Pleiades (Micela+, 1990)\n",
        " * CDFs AGNs X-ray power-law photon index (Saez+, 2008)\n",
        " * XMM-Newton survey in COSMOS field. IV. (Mainieri+, 2007)\n",
        " * Soft X-ray properties of Seyfert galaxies (Pfefferkorn+, 2001)\n",
        " * M31 Chandra X-ray point sources (Kong+, 2002)\n"
       ]
      }
     ],
     "prompt_number": 168
    },
    {
     "cell_type": "heading",
     "level": 4,
     "metadata": {},
     "source": [
      "And their description follows:"
     ]
    },
    {
     "cell_type": "code",
     "collapsed": false,
     "input": [
      "for r in SelectCatalogues.iterkeys():\n",
      "    print(\"* %s\" % r.title)\n",
      "    print(\"     %s\\n\" % r.get('description'))"
     ],
     "language": "python",
     "metadata": {},
     "outputs": [
      {
       "output_type": "stream",
       "stream": "stdout",
       "text": [
        "* AGN-Host Galaxy Connection (Povic+, 2012)\n",
        "     Table presents the X-ray properties of all 1121 objects, including fluxes in six selected energy bands, and public available optical data for X-ray counterparts. X-ray flux in X/O flux ratio is the sum of fluxes in (0.5-2keV) and (2-4.5keV) bands, while the optical flux corresponds to R band. The represented hardness ratio was set using the same X-ray bands. Photometric redshifts and K-corrections were measured using the photometric information in five optical (Furusawa et al., 2008, Cat. J/ApJS/176/1), three NIR (Hewett et al., 2006MNRAS.367..454H; Hodgkin et al., 2009MNRAS.394..675H), and four MIR IRAC (SWIRE survey) bands. Morphological classification was obtained using the galSVM code (Huertas-Company et al., 2008A&amp;A...478..971H, 2009A&amp;A...497..743H), one of the new methods useful especially when dealing with high-redshift sources and low-resolution data. With galSVM we obtained the mean surface brightness, asymmetry, concentration index, Gini, Smoothness, M20 moment of light, and two probabilities p1 and p2 that the galaxy belongs to early- (E, S0, S0/Sa) or late-type, respectively. Stellarity and elongation parameters were obtained with SExtractor. All objects with stellarity parameter greater or equal to 0.9 were considered as compact in this work. We included in our analysis for early-type objects only those sources with p1 probabilities greater or equal to 0.75, and for late-type objects all sources with probabilities p2 greater than 0.5.\n",
        "\n",
        "* X-ray+Radio sources in XBootes (El Bouchefry, 2009)\n",
        "     The radio data are from the 2002 version of the FIRST VLA catalogue (Becker et al., 1995, See Cat. VIII/71), and it is derived from 1993 through 2002 observations. The X-ray data (Kenter et al. 2005, Cat. J/ApJS/161/9; Murray et al. 2005ApJS..161....1M) used in this paper are from the Chandra XBootes surveys. The XBootes catalogue contains ~3213 X-ray point sources and is publicly available through the National Optical Astronomy Observatory (NOAO) Deep Wide Field Survey (NDWFS) homepage (http://www.noao.edu/noao/noaodeep/XBootesPublic/index.html) The NDWFS is a deep multiband imaging (Bw, R, I, J, H, K) designed to study the formation and evolution of large-scale structures (Jannuzi et al., 1999, BAAS, 31, 1392; Brown et al., 2003ApJ...597..225B).\n",
        "\n",
        "* X-ray and radio emission of type 1 AGNs (Ballo+, 2012)\n",
        "     Basic information and derived properties are presented for our sample of X-ray selected type 1 AGN (as well as for the X-ray undetected type 1 AGN in the \"control sample\"): coordinates, redshift, X-ray and radio fluxes, optical magnitudes, from the SDSS, 2XMMi, and FIRST catalogues; continuum luminosities at 3000A and in the X-ray band, black hole masses, bolometric luminosities, Eddington ratios; for the sources falling in the FIRST field, optical fluxes at 2500A and 4400 A, X-ray-to-optical index, radio classification, ratio between radio and UV, optical, or X-ray fluxes.\n",
        "\n",
        "* Spectral analysis of Lockman Hole (Mainieri+, 2002)\n",
        "     We present the results of the X-ray spectral analysis of the first deep X-ray survey with the XMM-Newton observatory during Performance Verification. The X-ray data of the Lockman Hole field and the derived cumulative source counts were reported by Hasinger et al. (2001A&amp;A...365L..45H). We restrict the analysis to the sample of 98 sources with more than 70 net counts (flux limit in the [0.5-7]keV band of 1.6x10^-15^erg/cm^2^/s) of which 61 have redshift identification. We find no correlation between the spectral index and the intrinsic absorption column density NH and, for both the Type-1 and Type-2 AGN populations, we obtain &lt;Gamma&gt;~=2.\n",
        "\n",
        "* AGN Torus model comparison of AGN in the CDFS (Buchner+, 2014)\n",
        "     We present the Bayesian parameter estimation results derived using the torus+pexmon+scattering model. All parameters are shown with their posterior uncertainty, which is summarised using the 1-sigma equivalent quantiles. The prior used on the Photon index was a normal distribution with mean 1.95 and standard deviation 0.15, so if no information was gained this value remains. The KL column measures the information gain measured from the N_H_ posterior in bans. As a reference, the narrowing of a Gaussian from prior to posterior by a factor of 2 corresponds to 0.13ban, and thus values higher than that correspond to significant discriminatory information in the data. Annotations: S when fscat&gt;3%, s when fscat&gt;0.5% with &gt;=90% probability R when R&gt;0.3 with &gt;=90% probability, i.e. strong additional pexmon reflection Compton-thick (CT) if N_H&gt;10^24^cm^-2^, Compton-thin (O) if 10^22^cm^-2^&lt;N_H&lt;10^24^cm^-2^, Unobscured (U, N_H&lt;10^22^cm^-2^, each with &gt;=50% probability.\n",
        "\n",
        "* AGN in XMM-Newton Hard Bright Survey (Della Ceca+, 2008)\n",
        "     The XMM-Newton Hard Bright Serendipitous Survey (HBSS) is part of a bigger survey project known as XMM Bright Serendipitous Survey (XBS). This latter consists of two flux-limited serendipitous samples of X-ray selected sources at high galactic latitude (|b|&gt;20deg): the XMM BSS sample (389 sources) and the XMM HBSS sample (67 sources, with 56 sources in common with the BSS sample) having an EPIC MOS2 count rate limit, corrected for vignetting, of 10^-2^cts/s (2x10^-3^cts/s) in the 0.5-4.5keV (4.5-7.5keV) energy band; the flux limit is ~7x10^-14^cgs in both energy selection bands. At the time of this writing the spectroscopic identification rate is 87% for the BSS sample and 97% for the HBSS sample. The details on the XMM-Newton fields selection strategy and the source selection criteria of the XMM BSS and HBSS samples are discussed in Della Ceca et al. (2004, Cat. &lt;J/A+A/428/383&gt;), while a description of the optical data and analysis, of the optical classification scheme, and of the optical properties of the extragalactic sources identified so far, is presented in Caccianiga et al. (2008A&amp;A...477..735C). The optical and X-ray properties of the galactic population are discussed in Lopez-Santiago et al. (2007A&amp;A...463..165L).The current classification breakdown of the HBSS sample is as follows: 62 AGN, 1 cluster of galaxies (XBSJ 141830.5+251052), and 2 X-ray emitting stars (XBSJ 014100.6-675328 and XBSJ 123600.7-395217). Two X-ray sources (XBSJ080411.3+650906 and XBSJ 110050.6-344331) are still unidentified at the time of this writing. In table1 we report the basic X-ray spectral properties, (e.g., photon index, intrinsic absorbing column density N_H_, intrinsic 2-10keV luminosity) of the HBSS AGN sample obtained from a complete X-ray spectral analysis of the XMM-Newton data.\n",
        "\n",
        "* X-ray studies of stars in the Pleiades (Micela+, 1990)\n",
        "     Coronal X-ray emission of the Pleiades stars is investigated, and maximum likelihood, integral X-ray luminosity functions are computed for Pleiades members in selected color-index ranges. A detailed search is conducted for long-term variability in the X-ray emission of those stars observed more than once. An overall comparison of the survey results with those of previous surveys confirms the ubiquity of X-ray emission in the Pleiades cluster stars and its higher rate of emission with respect to older stars. It is found that the X-ray emission from dA and early dF stars cannot be proven to be dissimilar to that of Hyades and field stars of the same spectral type. The Pleiades cluster members show a real rise of the X-ray luminosity from dA stars to early dF stars. X-ray emission for the young, solar-like Pleiades stars is about two orders of magnitude more intense than for the nearby solar-like stars.\n",
        "\n",
        "* Soft X-ray properties of Seyfert galaxies (Pfefferkorn+, 2001)\n",
        "     We have detected 91 out of 99 Seyfert 1 and 47 out of 98 Seyfert 2 galaxies of the Rafanelli sample in the ROSAT X-ray band in pointed and/or All-Sky Survey observations. Spectral information from the survey data could be obtained for 59 Seyfert 1 galaxies and only for one Seyfert 2 galaxy. The tables quote the name of the Seyfert galaxy in column 1 and the ROSAT name in column 2. Columns 3 and 4 contain the ROSAT position. We mostly give the centroid source position from the pointed observation with the higher exposure times. The columns 5 and 6 list the count rates, columns 7 and 8 the corresponding exposure times, columns 9 and 10 the fluxes and columns 11 and 12 the luminosities of the sources detected in ROSAT pointing and survey observations, respectively. The survey count rates were taken from the RASS II catalogue and the pointing count rates were computed from the light curves of the sources. The labels \"(p)\" and \"(h)\" in column 5 indicate that the source data are taken from a PSPC or HRI observation. In the columns 9 and 10 we apply the labels \"(f)\" and \"(c)\" to mark the data produced by spectral fit or by count rates. This specification applies also for columns 11 and 12. The Galactic column density is given in column 13 (Dickey &amp; Lockman, 1990ARA&amp;A..28..215D), while the column density obtained from the spectral fit is given in column 14. The other spectral fit parameters, namely the monochromatic flux at 1keV and the photon index are also given in columns 15 and 16, respectively. The value \"-2.3\" of the photon index was used, if no reliable spectral fit could be obtained. When spectral information was available from the survey as well as from the pointed data, we quote the results from the pointed observations. Columns 17 and 18 show the quality of the X-ray identifications both in the pointing and the survey observations, the identifications labeled either with 1 or 2, 1 and 2 indicating high and lower degree of reliability, respectively. In the last column we have listed the classification of the Seyfert type (Sy1.0, Sy1.2, Sy1.5, Sy1.8, Sy1.9, Sy2.0) taken from the \"Catalogue of Seyfert Galaxies\" (Lipovetski et al., 1987, Cat. &lt;VII/173&gt;). We have modified the Rafanelli et al. conventions (S1 = Sy1.0 + Sy1.2 + Sy1.5 and S2 = Sy1.8 + Sy1.9 + Sy2.0) to S1 = Sy1.0 + Sy1.2 + Sy1.5 + Sy1.8 + Sy1.9 and S2 = S2.0. The classifications marked by a (N) indicate Narrow Line Seyfert 1 galaxies (NLS1) (e.g. Osterbrock &amp; Pogge, 1985ApJ...297..166O; Boller, Brandt &amp; Fink 1996A&amp;A...305...53B; Grupe 1996, Properties of bright soft X-ray selected ROSAT AGN, Dissertation submitted Georg-August University, Gvttingen, Germany ). For each source of the Rafanelli sample we have searched for X-ray detections within the ROSAT All-Sky Survey (RASS II catalogue; see Voges, Aschenbach, Boller et al., 1999, Cat. &lt;IX/10&gt; for references) and public PSPC (Position Sensitive Proportional Counter) and HRI (High Resolution Imager) pointed observations. The sources have been identified on X-ray contour maps overlaid to optical images taken from the Palomar Digitized Sky Survey (DSS). We have generated background subtracted contour maps for each selected ROSAT observation. Overlays with a dark background indicate pointed observations (HRI for HRI-data, without label for PSPC-data), whereas the grey background indicate ROSAT All-Sky survey data (PSPC).\n",
        "\n",
        "* RIXOS source sample X-ray spectra (Mittaz+, 1999)\n",
        "     We present results of an extensive study of the X-ray spectral properties of sources detected in the RIXOS survey, which is a large, nearly complete sample of objects detected serendipitously in ROSAT PSPC fields down to a flux limit of 3x10^-14^erg/cm2/s (0.5-2keV). We show that for X-ray surveys containing sources with low count rate, such as RIXOS, spectral slopes estimated using simple hardness ratios in the ROSAT band can be biased. Instead, we analyse three-colour X-ray data using statistical techniques appropriate to the Poisson regime which remove the effects of this bias. We also show that the use of three-colour data enables some discrimination between thermal and non-thermal spectra. We have then applied this technique to the RIXOS survey to study the spectral properties of the sample. For the AGN we find an average energy index of 1.05+/-0.05, with no evidence for spectral evolution with redshift. Individual AGN are shown to have a range of properties, including soft X-ray excesses and intrinsic absorption. Narrow-emission-line galaxies (NLLGs) also seem to fit to a power-law spectrum, which may indicate a non-thermal origin for their X-ray emission. We infer that most of the clusters in the sample have a bremsstrahlung temperature &gt;3keV, although some show evidence for a cooling flow. The stars deviate strongly from a power-law model but fit to a thermal model. Finally, we have analysed the whole RIXOS sample (extending the flux cut-off to the sensitivity threshold of each individual observation) containing 1762 sources to study the relationship between spectral slope and flux. We find that the mean spectral slope of the sources hardens at lower fluxes, in agreement with results from other samples. However, a study of the individual sources demonstrates that the majority have relatively soft spectra even at faint flux levels, and the hardening of the mean is caused by the appearance of a population of very hard sources at the lowest fluxes. This has implications for the nature of the soft X-ray background.\n",
        "\n",
        "* SED of the Fermi blazars (Li+, 2010)\n",
        "     We complied the optical, X-ray, and {gamma}-ray data for 54 Fermi blazars and studied the relationship between the broadband spectral index {alpha}_ox_ and {alpha}_x{gamma}_, as well as the relationship between the intrinsic composite spectral indices {alpha}_xox_ and {alpha}_{gamma}x{gamma}_ for this sample. The relationship between {alpha}_xox_ and {alpha}_{gamma}x{gamma}_ reveals that flat spectrum radio quasars and low-energy peaked BL Lacertae follow a continuous trend, which is consistent with previous results, whereas high-energy peaked BL Lacertae follow a separate distinct trend. Even so, a unified scheme is also revealed from {alpha}_xox_-{alpha}_{gamma}x{gamma}_ diagram when all three subclasses of blazars are considered.\n",
        "\n",
        "* X-ray studies of stars in the Pleiades (Micela+, 1990)\n",
        "     Coronal X-ray emission of the Pleiades stars is investigated, and maximum likelihood, integral X-ray luminosity functions are computed for Pleiades members in selected color-index ranges. A detailed search is conducted for long-term variability in the X-ray emission of those stars observed more than once. An overall comparison of the survey results with those of previous surveys confirms the ubiquity of X-ray emission in the Pleiades cluster stars and its higher rate of emission with respect to older stars. It is found that the X-ray emission from dA and early dF stars cannot be proven to be dissimilar to that of Hyades and field stars of the same spectral type. The Pleiades cluster members show a real rise of the X-ray luminosity from dA stars to early dF stars. X-ray emission for the young, solar-like Pleiades stars is about two orders of magnitude more intense than for the nearby solar-like stars.\n",
        "\n",
        "* CDFs AGNs X-ray power-law photon index (Saez+, 2008)\n",
        "     Our sources were selected from the CDFs, currently the two deepest X-ray surveys. The on-axis sensitivity limits for the CDF-N are ~2.5x10^-17^erg/cm^2^/s (0.5-2.0keV) and ~1.4x10^-16^erg/cm^2^/s (2-8keV).\n",
        "\n",
        "* XMM-Newton survey in COSMOS field. IV. (Mainieri+, 2007)\n",
        "     We present a detailed spectral analysis of pointlike X-ray sources in the XMM-Newton COSMOS field. Our sample of 135 sources only includes those that have more than 100 net counts in the 0.3-10keV energy band and have been identified through optical spectroscopy. The majority of the sources are well described by a simple power-law model with either no absorption (76%) or a significant intrinsic, absorbing column (20%). The remaining ~4% of the sources require a more complex modeling by incorporating additional components to the power law. For sources with more than 180 net counts (bright sample), we allowed both the photon spectral index Gamma and the equivalent hydrogen column NH to be free parameters. For fainter sources, we fix Gamma to the average value and allow NH to vary. The mean spectral index of the 82 sources in the bright sample is &lt;Gamma&gt;=2.06+/-0.08, with an intrinsic dispersion of ~0.24. Each of these sources has fractional errors on the value of Gamma below 20%. As expected, the distribution of intrinsic absorbing column densities is markedly different between AGNs with or without broad optical emission lines. We find within our sample four type 2 QSO candidates (L_X_&gt;10^44^erg/s, NH&gt;10^22^cm^-2^), with a spectral energy distribution well reproduced by a composite Seyfert 2 spectrum, that demonstrates the strength of the wide-field COSMOS XMM-Newton survey to detect these rare and underrepresented sources. In addition, we have identified a Compton-thick (NH&gt;1.5x10^24^cm^-2^) AGN at z=0.1248. Its X-ray spectrum is well fitted by a pure reflection model and a significant Fe K{alpha} line at rest-frame energy of 6.4keV.\n",
        "\n",
        "* Soft X-ray properties of Seyfert galaxies (Pfefferkorn+, 2001)\n",
        "     We have detected 91 out of 99 Seyfert 1 and 47 out of 98 Seyfert 2 galaxies of the Rafanelli sample in the ROSAT X-ray band in pointed and/or All-Sky Survey observations. Spectral information from the survey data could be obtained for 59 Seyfert 1 galaxies and only for one Seyfert 2 galaxy. The tables quote the name of the Seyfert galaxy in column 1 and the ROSAT name in column 2. Columns 3 and 4 contain the ROSAT position. We mostly give the centroid source position from the pointed observation with the higher exposure times. The columns 5 and 6 list the count rates, columns 7 and 8 the corresponding exposure times, columns 9 and 10 the fluxes and columns 11 and 12 the luminosities of the sources detected in ROSAT pointing and survey observations, respectively. The survey count rates were taken from the RASS II catalogue and the pointing count rates were computed from the light curves of the sources. The labels \"(p)\" and \"(h)\" in column 5 indicate that the source data are taken from a PSPC or HRI observation. In the columns 9 and 10 we apply the labels \"(f)\" and \"(c)\" to mark the data produced by spectral fit or by count rates. This specification applies also for columns 11 and 12. The Galactic column density is given in column 13 (Dickey &amp; Lockman, 1990ARA&amp;A..28..215D), while the column density obtained from the spectral fit is given in column 14. The other spectral fit parameters, namely the monochromatic flux at 1keV and the photon index are also given in columns 15 and 16, respectively. The value \"-2.3\" of the photon index was used, if no reliable spectral fit could be obtained. When spectral information was available from the survey as well as from the pointed data, we quote the results from the pointed observations. Columns 17 and 18 show the quality of the X-ray identifications both in the pointing and the survey observations, the identifications labeled either with 1 or 2, 1 and 2 indicating high and lower degree of reliability, respectively. In the last column we have listed the classification of the Seyfert type (Sy1.0, Sy1.2, Sy1.5, Sy1.8, Sy1.9, Sy2.0) taken from the \"Catalogue of Seyfert Galaxies\" (Lipovetski et al., 1987, Cat. &lt;VII/173&gt;). We have modified the Rafanelli et al. conventions (S1 = Sy1.0 + Sy1.2 + Sy1.5 and S2 = Sy1.8 + Sy1.9 + Sy2.0) to S1 = Sy1.0 + Sy1.2 + Sy1.5 + Sy1.8 + Sy1.9 and S2 = S2.0. The classifications marked by a (N) indicate Narrow Line Seyfert 1 galaxies (NLS1) (e.g. Osterbrock &amp; Pogge, 1985ApJ...297..166O; Boller, Brandt &amp; Fink 1996A&amp;A...305...53B; Grupe 1996, Properties of bright soft X-ray selected ROSAT AGN, Dissertation submitted Georg-August University, Gvttingen, Germany ). For each source of the Rafanelli sample we have searched for X-ray detections within the ROSAT All-Sky Survey (RASS II catalogue; see Voges, Aschenbach, Boller et al., 1999, Cat. &lt;IX/10&gt; for references) and public PSPC (Position Sensitive Proportional Counter) and HRI (High Resolution Imager) pointed observations. The sources have been identified on X-ray contour maps overlaid to optical images taken from the Palomar Digitized Sky Survey (DSS). We have generated background subtracted contour maps for each selected ROSAT observation. Overlays with a dark background indicate pointed observations (HRI for HRI-data, without label for PSPC-data), whereas the grey background indicate ROSAT All-Sky survey data (PSPC).\n",
        "\n",
        "* M31 Chandra X-ray point sources (Kong+, 2002)\n",
        "     We report on Chandra observations of the central region of M31. By combining eight Chandra ACIS-I observations taken between 1999 and 2001, we have identified 204 X-ray sources within the central ~17'x17' region of M31, with a detection limit of ~2x10^35^erg/s. Of these 204 sources, 22 are identified with globular clusters, two with supernova remnants, nine with planetary nebulae, and nine with supersoft sources. By comparing individual images, about 50% of the sources are variable on timescales of months. We also found 13 transients, with light curves showing a variety of shapes. We also extracted the energy spectra of the 20 brightest sources; they can be well fitted by a single power law with a mean photon index of 1.8. The spectral shapes of 12 sources are shown to be variable, suggesting that they went through state changes.\n",
        "\n"
       ]
      }
     ],
     "prompt_number": 170
    },
    {
     "cell_type": "code",
     "collapsed": false,
     "input": [],
     "language": "python",
     "metadata": {},
     "outputs": []
    }
   ],
   "metadata": {}
  }
 ]
}