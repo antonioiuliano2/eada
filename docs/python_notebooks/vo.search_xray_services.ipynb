{
 "metadata": {
  "name": "",
  "signature": "sha256:baa7458589275f3ca2b3017c8e64deb309a6fd5db0759aa05a23a05b66e61222"
 },
 "nbformat": 3,
 "nbformat_minor": 0,
 "worksheets": [
  {
   "cells": [
    {
     "cell_type": "heading",
     "level": 1,
     "metadata": {},
     "source": [
      "Searching for X-Ray catalogues on VO for SED studies"
     ]
    },
    {
     "cell_type": "heading",
     "level": 2,
     "metadata": {},
     "source": [
      "1) Search for \"all\" X-Ray catalogues"
     ]
    },
    {
     "cell_type": "heading",
     "level": 4,
     "metadata": {},
     "source": [
      "Using the 'PyVO' package, with the use of function 'regsearch', we will search for X-Ray catalogues useful for Spectral Energy Distribution (SED) analysis. We will filter catalogues with flux-related data and spectral/photon index information."
     ]
    },
    {
     "cell_type": "code",
     "collapsed": false,
     "input": [
      "import pyvo\n",
      "#help(pyvo.regsearch)\n",
      "import warnings; warnings.simplefilter('ignore') # suppress warnings..."
     ],
     "language": "python",
     "metadata": {},
     "outputs": [],
     "prompt_number": 1
    },
    {
     "cell_type": "heading",
     "level": 4,
     "metadata": {},
     "source": [
      "Obs: The registry we will query the catalog services is the default one configured on PyVO:"
     ]
    },
    {
     "cell_type": "code",
     "collapsed": false,
     "input": [
      "print(\"%s \\n\" % pyvo.registry.RegistryQuery().baseurl)"
     ],
     "language": "python",
     "metadata": {},
     "outputs": [
      {
       "output_type": "stream",
       "stream": "stdout",
       "text": [
        "http://vao.stsci.edu/directory/NVORegInt.asmx/ \n",
        "\n"
       ]
      }
     ],
     "prompt_number": 2
    },
    {
     "cell_type": "heading",
     "level": 4,
     "metadata": {},
     "source": [
      "To do the search we need then to define 'waveband'(=\"xray\"), 'servicetype'(=\"conesearch\"). These two are mandatory for our purpose here. Also, since the spectral/photon index information is a great information to have -- and we want two at this moment -- we will filter the results to accomplish that. So, we will define also the 'keywords'(=\"index\") argument to see if we get a nice answer."
     ]
    },
    {
     "cell_type": "code",
     "collapsed": false,
     "input": [
      "records = pyvo.regsearch(waveband='xray',servicetype='conesearch',keywords='index')"
     ],
     "language": "python",
     "metadata": {},
     "outputs": [],
     "prompt_number": 3
    },
    {
     "cell_type": "heading",
     "level": 4,
     "metadata": {},
     "source": [
      "And we can now inspect the answer to see what are the services returned"
     ]
    },
    {
     "cell_type": "code",
     "collapsed": false,
     "input": [
      "records.nrecs # number of services found"
     ],
     "language": "python",
     "metadata": {},
     "outputs": [
      {
       "metadata": {},
       "output_type": "pyout",
       "prompt_number": 4,
       "text": [
        "44"
       ]
      }
     ],
     "prompt_number": 4
    },
    {
     "cell_type": "code",
     "collapsed": false,
     "input": [
      "for r in records: print(\"%s\\n     %s\" % (r.title,r.accessurl)) # Title (name) of the services (catalogues) found"
     ],
     "language": "python",
     "metadata": {},
     "outputs": [
      {
       "output_type": "stream",
       "stream": "stdout",
       "text": [
        "HEAO 1 A2 Piccinotti Catalog\n",
        "     http://heasarc.gsfc.nasa.gov/cgi-bin/vo/cone/coneGet.pl?table=a2pic&amp;\n",
        "Atlas of Radio/X-Ray Associations (ARXA)\n",
        "     http://heasarc.gsfc.nasa.gov/cgi-bin/vo/cone/coneGet.pl?table=arxa&amp;\n",
        "CGRO/BATSE 5B Gamma-Ray Burst Spectral Catalog\n",
        "     http://heasarc.gsfc.nasa.gov/cgi-bin/vo/cone/coneGet.pl?table=bat5bgrbsp&amp;\n",
        "Chandra Deep Field South AGN Spectral Properties Catalog\n",
        "     http://heasarc.gsfc.nasa.gov/cgi-bin/vo/cone/coneGet.pl?table=cdfsagncxo&amp;\n",
        "CHAMP/SDSS Nearby Low-Luminosity AGN Catalog\n",
        "     http://heasarc.gsfc.nasa.gov/cgi-bin/vo/cone/coneGet.pl?table=champsdssa&amp;\n",
        "M 31 Central Region Chandra X-Ray Point Source Catalog\n",
        "     http://heasarc.gsfc.nasa.gov/cgi-bin/vo/cone/coneGet.pl?table=m31cxoxray&amp;\n",
        "Chandra Archive Of Galaxies Ultraluminous X-Ray Source Catalog\n",
        "     http://heasarc.gsfc.nasa.gov/cgi-bin/vo/cone/coneGet.pl?table=chanulxcat&amp;\n",
        "INTEGRAL IBIS Hard X-Ray Survey of Galactic Center\n",
        "     http://heasarc.gsfc.nasa.gov/cgi-bin/vo/cone/coneGet.pl?table=intgccat&amp;\n",
        "Second INTEGRAL AGN Catalog\n",
        "     http://heasarc.gsfc.nasa.gov/cgi-bin/vo/cone/coneGet.pl?table=intagncat&amp;\n",
        "Soft X-ray properties of Seyfert galaxies (Pfefferkorn+, 2001)\n",
        "     http://vizier.u-strasbg.fr/viz-bin/votable/-A?-source=J/A+A/368/797&amp;\n",
        "Soft X-ray properties of Seyfert galaxies (Pfefferkorn+, 2001)\n",
        "     http://vizier.u-strasbg.fr/viz-bin/votable/-A?-source=J/A+A/368/797&amp;\n",
        "Spectral analysis of Lockman Hole (Mainieri+, 2002)\n",
        "     http://vizier.u-strasbg.fr/viz-bin/votable/-A?-source=J/A+A/393/425&amp;\n",
        "AGN in XMM-Newton Hard Bright Survey (Della Ceca+, 2008)\n",
        "     http://vizier.u-strasbg.fr/viz-bin/votable/-A?-source=J/A+A/487/119&amp;\n",
        "AGN-Host Galaxy Connection (Povic+, 2012)\n",
        "     http://vizier.u-strasbg.fr/viz-bin/votable/-A?-source=J/A+A/541/A118&amp;\n",
        "Spectra of 29 Swift/BAT optical counterparts (Parisi+, 2012)\n",
        "     http://vizier.u-strasbg.fr/viz-bin/votable/-A?-source=J/A+A/545/A101&amp;\n",
        "X-ray and radio emission of type 1 AGNs (Ballo+, 2012)\n",
        "     http://vizier.u-strasbg.fr/viz-bin/votable/-A?-source=J/A+A/545/A66&amp;\n",
        "AGN Torus model comparison of AGN in the CDFS (Buchner+, 2014)\n",
        "     http://vizier.u-strasbg.fr/viz-bin/votable/-A?-source=J/A+A/564/A125&amp;\n",
        "CDFs AGNs X-ray power-law photon index (Saez+, 2008)\n",
        "     http://vizier.u-strasbg.fr/viz-bin/votable/-A?-source=J/AJ/135/1505&amp;\n",
        "X-ray studies of stars in the Pleiades (Micela+, 1990)\n",
        "     http://vizier.u-strasbg.fr/viz-bin/votable/-A?-source=J/ApJ/348/557&amp;\n",
        "X-ray studies of stars in the Pleiades (Micela+, 1990)\n",
        "     http://vizier.u-strasbg.fr/viz-bin/votable/-A?-source=J/ApJ/348/557&amp;\n",
        "M31 Chandra X-ray point sources (Kong+, 2002)\n",
        "     http://vizier.u-strasbg.fr/viz-bin/votable/-A?-source=J/ApJ/577/738&amp;\n",
        "SED of the Fermi blazars (Li+, 2010)\n",
        "     http://vizier.u-strasbg.fr/viz-bin/votable/-A?-source=J/ApJ/709/1407&amp;\n",
        "X and {gamma} spectral indexes of Fermi blazars (Fan+, 2012)\n",
        "     http://vizier.u-strasbg.fr/viz-bin/votable/-A?-source=J/ApJ/761/125&amp;\n",
        "X and {gamma} spectral indexes of Fermi blazars (Fan+, 2012)\n",
        "     http://vizier.u-strasbg.fr/viz-bin/votable/-A?-source=J/ApJ/761/125&amp;\n",
        "XMM-Newton survey in COSMOS field. IV. (Mainieri+, 2007)\n",
        "     http://vizier.u-strasbg.fr/viz-bin/votable/-A?-source=J/ApJS/172/368&amp;\n",
        "RIXOS source sample X-ray spectra (Mittaz+, 1999)\n",
        "     http://vizier.u-strasbg.fr/viz-bin/votable/-A?-source=J/MNRAS/308/233&amp;\n",
        "X-ray+Radio sources in XBootes (El Bouchefry, 2009)\n",
        "     http://vizier.u-strasbg.fr/viz-bin/votable/-A?-source=J/MNRAS/396/2011&amp;\n",
        "LALA Cetus Field Chandra X-Ray Point Source Catalog\n",
        "     http://heasarc.gsfc.nasa.gov/cgi-bin/vo/cone/coneGet.pl?table=lalacetcxo&amp;\n",
        "M31 XMM-Newton Spectral Survey X-Ray Point Source Catalog\n",
        "     http://heasarc.gsfc.nasa.gov/cgi-bin/vo/cone/coneGet.pl?table=m31xmm2&amp;\n",
        "ROSAT PSPC M31 Source Catalog\n",
        "     http://heasarc.gsfc.nasa.gov/cgi-bin/vo/cone/coneGet.pl?table=m31rosxray&amp;\n",
        "ROSAT Radio-Loud Quasars Catalog\n",
        "     http://heasarc.gsfc.nasa.gov/cgi-bin/vo/cone/coneGet.pl?table=rosatrlq&amp;\n",
        "ROSAT Radio-Quiet Quasars Catalog\n",
        "     http://heasarc.gsfc.nasa.gov/cgi-bin/vo/cone/coneGet.pl?table=rosatrqq&amp;\n",
        "ROSAT Results Archive Sources for the PSPC with Filter\n",
        "     http://heasarc.gsfc.nasa.gov/cgi-bin/vo/cone/coneGet.pl?table=rospspcf&amp;\n",
        "ROSAT Complete Results Archive Sources for the PSPC with Filter\n",
        "     http://heasarc.gsfc.nasa.gov/cgi-bin/vo/cone/coneGet.pl?table=rospspcftot&amp;\n",
        "XTE Target Index Catalog\n",
        "     http://heasarc.gsfc.nasa.gov/cgi-bin/vo/cone/coneGet.pl?table=xteindex&amp;\n",
        "Sloan Digital Sky Survey Quasars Detected by Chandra\n",
        "     http://heasarc.gsfc.nasa.gov/cgi-bin/vo/cone/coneGet.pl?table=sdsscxoqso&amp;\n",
        "Sloan Digital Sky Survey (DR5)/XMM-Newton Quasar Survey Catalog\n",
        "     http://heasarc.gsfc.nasa.gov/cgi-bin/vo/cone/coneGet.pl?table=sdssxmmqso&amp;\n",
        "SSA22 Field Chandra X-Ray Point Source Catalog\n",
        "     http://heasarc.gsfc.nasa.gov/cgi-bin/vo/cone/coneGet.pl?table=ssa22cxo&amp;\n",
        "Spitzer Wide-Area IR Extra-Galactic Survey Chandra X-Ray Sources\n",
        "     http://heasarc.gsfc.nasa.gov/cgi-bin/vo/cone/coneGet.pl?table=swirecxo&amp;\n",
        "XMM-Newton Bright Serendipitous Survey: AGN X-Ray Spectral Properties\n",
        "     http://heasarc.gsfc.nasa.gov/cgi-bin/vo/cone/coneGet.pl?table=xmmbssagn&amp;\n",
        "XMM-Newton Large-Scale Structure Optical Identifications Catalog\n",
        "     http://heasarc.gsfc.nasa.gov/cgi-bin/vo/cone/coneGet.pl?table=xmmlssoid&amp;\n",
        "XMM-Newton 2XMMi-DR3 Selected Source Detections Catalog\n",
        "     http://heasarc.gsfc.nasa.gov/cgi-bin/vo/cone/coneGet.pl?table=xmmssclwbd&amp;\n",
        "XMM-Newton 2XMMi-DR3 Selected Source Classifications Catalog\n",
        "     http://heasarc.gsfc.nasa.gov/cgi-bin/vo/cone/coneGet.pl?table=xmmssclwbs&amp;\n",
        "XTE Archived Public Slew Data\n",
        "     http://heasarc.gsfc.nasa.gov/cgi-bin/vo/cone/coneGet.pl?table=xteslew&amp;\n"
       ]
      }
     ],
     "prompt_number": 5
    },
    {
     "cell_type": "heading",
     "level": 4,
     "metadata": {},
     "source": [
      "You should have notice that the answer returned by the 'pyvo.regsearch' function is a container (i.e, a list) with objects relative to each catalog service found (matching our query). Let's see what are the attributes (except from 'title') of these objects so that we can have a better idea of what we have found so far..."
     ]
    },
    {
     "cell_type": "code",
     "collapsed": false,
     "input": [
      "r = records[0] # let us save a reference (\"r\") for the Piccinotti catalog for what follows"
     ],
     "language": "python",
     "metadata": {},
     "outputs": [],
     "prompt_number": 6
    },
    {
     "cell_type": "code",
     "collapsed": false,
     "input": [
      "from pprint import pprint\n",
      "from inspect import getmembers,isroutine\n",
      "attrs = getmembers(r, lambda a:not(isroutine(a)))\n",
      "print \"Attributes:\"\n",
      "pprint([ a[0] for a in attrs if not '_' in a[0] ])\n",
      "print \"\\nRoutines:\"\n",
      "print([ a[0] for a in getmembers(r, lambda a:isroutine(a)) if not '_' in a[0] ])"
     ],
     "language": "python",
     "metadata": {},
     "outputs": [
      {
       "output_type": "stream",
       "stream": "stdout",
       "text": [
        "Attributes:\n",
        "['accessurl',\n",
        " 'capability',\n",
        " 'contentlevel',\n",
        " 'identifier',\n",
        " 'ivoid',\n",
        " 'publisher',\n",
        " 'rec',\n",
        " 'shortname',\n",
        " 'standardid',\n",
        " 'subject',\n",
        " 'tags',\n",
        " 'title',\n",
        " 'type',\n",
        " 'waveband']\n",
        "\n",
        "Routines:\n",
        "['cachedataset', 'fielddesc', 'get', 'getdataset', 'getdataurl', 'items', 'iteritems', 'iterkeys', 'itervalues', 'keys', 'search', 'values']\n"
       ]
      }
     ],
     "prompt_number": 7
    },
    {
     "cell_type": "heading",
     "level": 4,
     "metadata": {},
     "source": [
      "Some attributes look suggestive, like 'capability', 'contentlevel', 'subject'... But, let's see what they really provide."
     ]
    },
    {
     "cell_type": "code",
     "collapsed": false,
     "input": [
      "for a in attrs:\n",
      "    if not '_' in a[0]: \n",
      "        print(\"%-15s :     %s\" % (a[0],a[1]))"
     ],
     "language": "python",
     "metadata": {},
     "outputs": [
      {
       "output_type": "stream",
       "stream": "stdout",
       "text": [
        "accessurl       :     http://heasarc.gsfc.nasa.gov/cgi-bin/vo/cone/coneGet.pl?table=a2pic&amp;\n",
        "capability      :     ConeSearch\n",
        "contentlevel    :     ('Research',)\n",
        "identifier      :     ivo://nasa.heasarc/a2pic#1\n",
        "ivoid           :     ivo://nasa.heasarc/a2pic#1\n",
        "publisher       :     NASA/GSFC HEASARC\n",
        "rec             :     ('Catalog', 'A2PIC [1]', 'HEAO 1 A2 Piccinotti Catalog', \"The HEAO 1 A-2 experiment's operations began on day 224 of 1977 (12 August 1977) and ended on day 739 of 1977 (9 January 1979). The A-2 experiment performed two independent, low-background, high-sensitivity surveys of the entire sky 6 months apart, the first scan during days 248 to 437 of 1977 (5 September 1977 - 13 March 1978) and the second scan during days 73 to 254 of 1978 (14 March 1978 - 11 September 1978). The authors analysed the A-2 data in order to obtain a complete flux-limited sample of extragalactic X-ray sources. The region between galactic latitudes of -20 and +20 degrees was excluded to minimize contamination from galactic sources. A circle of 6 degrees radius around the Large Magellanic Cloud sources was also excluded to prevent confusion problems. Therefore, there remained 65.5% of the sky (8.23 steradians) covered by this survey. The lowest statistical significance for the existence of the sources included in this catalog is 5 sigma, as required by the maximum likelihood methods used by the authors to determine the log N - log S parameters. Taking into account this statistical significance requirement, the authors estimated the completeness level of the first and second scans to be 1.25 and 1.8 R15 ct/s, respectively. 1 R15 ct/s is approximately 2.17 x 10^-11 erg/cm^2/s in the 2-10 keV energy band for a power-law spectyrum with a photon index of 1.65. This catalog contains data for 68 nongalactic sources (61 extragalactic and 7 unidentified sources) which were listed in Table 1 of the published catalog. The identified sources fall into several categories, including narrow emission line galaxies, broad emission line galaxies, BL Lacertae objects, and clusters of galaxies.\", 'NASA/GSFC HEASARC', '#X-ray#', 'ivo://nasa.heasarc/a2pic#1', '2013-06-25T00:00:00', '#Extragalactic Source#', '#Catalog#', '#Research#', 1.0, '', 'ivo://nasa.heasarc/a2pic', 'ConeSearch', 'ivo://ivoa.net/std/ConeSearch', '2', 'ParamHTTP', '', 'std?', 'http://heasarc.gsfc.nasa.gov/cgi-bin/vo/cone/coneGet.pl?table=a2pic&amp;', 180.0, 99999, 'ivo://nasa.heasarc/ASD', 'http://heasarc.gsfc.nasa.gov/W3Browse/heao1/a2pic.html')\n",
        "shortname       :     A2PIC [1]\n",
        "standardid      :     ivo://ivoa.net/std/ConeSearch\n",
        "subject         :     ('Extragalactic Source',)\n",
        "tags            :     Catalog\n",
        "title           :     HEAO 1 A2 Piccinotti Catalog\n",
        "type            :     ('Catalog',)\n",
        "waveband        :     ('X-ray',)\n"
       ]
      }
     ],
     "prompt_number": 8
    },
    {
     "cell_type": "heading",
     "level": 4,
     "metadata": {},
     "source": [
      "OK, so we have some good informations about the service... In particular, the description found in the 'rec' attribute (the 4th field), which present the main features/purposes of the catalog. We can access the description through record's method 'get':"
     ]
    },
    {
     "cell_type": "code",
     "collapsed": false,
     "input": [
      "print r.get('description')"
     ],
     "language": "python",
     "metadata": {},
     "outputs": [
      {
       "output_type": "stream",
       "stream": "stdout",
       "text": [
        "The HEAO 1 A-2 experiment's operations began on day 224 of 1977 (12 August 1977) and ended on day 739 of 1977 (9 January 1979). The A-2 experiment performed two independent, low-background, high-sensitivity surveys of the entire sky 6 months apart, the first scan during days 248 to 437 of 1977 (5 September 1977 - 13 March 1978) and the second scan during days 73 to 254 of 1978 (14 March 1978 - 11 September 1978). The authors analysed the A-2 data in order to obtain a complete flux-limited sample of extragalactic X-ray sources. The region between galactic latitudes of -20 and +20 degrees was excluded to minimize contamination from galactic sources. A circle of 6 degrees radius around the Large Magellanic Cloud sources was also excluded to prevent confusion problems. Therefore, there remained 65.5% of the sky (8.23 steradians) covered by this survey. The lowest statistical significance for the existence of the sources included in this catalog is 5 sigma, as required by the maximum likelihood methods used by the authors to determine the log N - log S parameters. Taking into account this statistical significance requirement, the authors estimated the completeness level of the first and second scans to be 1.25 and 1.8 R15 ct/s, respectively. 1 R15 ct/s is approximately 2.17 x 10^-11 erg/cm^2/s in the 2-10 keV energy band for a power-law spectyrum with a photon index of 1.65. This catalog contains data for 68 nongalactic sources (61 extragalactic and 7 unidentified sources) which were listed in Table 1 of the published catalog. The identified sources fall into several categories, including narrow emission line galaxies, broad emission line galaxies, BL Lacertae objects, and clusters of galaxies.\n"
       ]
      }
     ],
     "prompt_number": 9
    },
    {
     "cell_type": "heading",
     "level": 4,
     "metadata": {},
     "source": [
      "Nice. So, until now we could get some high level information that gives us the scope of the catalog. I want now to go to a lower level -- the catalog itself -- to see what information the metadata can give us to see if the catalog can be used on our purpose.\n",
      "Obs: before going to the next step, I want you to notice the (photon) \"index\" information (which we want) in this description; we should come back to this point later."
     ]
    },
    {
     "cell_type": "heading",
     "level": 2,
     "metadata": {},
     "source": [
      "2) Ivestigating a catalog's metadata"
     ]
    },
    {
     "cell_type": "heading",
     "level": 4,
     "metadata": {},
     "source": [
      "To reach the catalog's metadata we will download a null version of the table. As \"null\" I mean a table without data (i.e, sources). The aim here is to further analyse if the catalog/table has the king of information we are looking for: flux-related data and the spectral/photon index."
     ]
    },
    {
     "cell_type": "code",
     "collapsed": false,
     "input": [
      "r_service = r.to_service() # get an object to query the particular (\"r\") service\n",
      "print r_service.baseurl # check if the URLs match; should be the same printed out by the 'accessurl' attribute above"
     ],
     "language": "python",
     "metadata": {},
     "outputs": [
      {
       "output_type": "stream",
       "stream": "stdout",
       "text": [
        "http://heasarc.gsfc.nasa.gov/cgi-bin/vo/cone/coneGet.pl?table=a2pic&amp;\n"
       ]
      }
     ],
     "prompt_number": 10
    },
    {
     "cell_type": "code",
     "collapsed": false,
     "input": [
      "#help(r_service.search)"
     ],
     "language": "python",
     "metadata": {},
     "outputs": [],
     "prompt_number": 11
    },
    {
     "cell_type": "code",
     "collapsed": false,
     "input": [
      "cat = r_service.search( pos=(0,0), radius=0.00001 ) # search for a \"null\" point in the sky"
     ],
     "language": "python",
     "metadata": {},
     "outputs": [],
     "prompt_number": 12
    },
    {
     "cell_type": "code",
     "collapsed": false,
     "input": [
      "from inspect import getmembers\n",
      "[ m[0] for m in getmembers(cat) if '__' not in m[0] ]"
     ],
     "language": "python",
     "metadata": {},
     "outputs": [
      {
       "metadata": {},
       "output_type": "pyout",
       "prompt_number": 17,
       "text": [
        "['_findinfos',\n",
        " '_findresultsresource',\n",
        " '_findresultstable',\n",
        " '_findstatus',\n",
        " '_findstatusinfo',\n",
        " '_fldnames',\n",
        " '_infos',\n",
        " '_protocol',\n",
        " '_recnames',\n",
        " '_scscols',\n",
        " '_status',\n",
        " '_url',\n",
        " '_version',\n",
        " 'cursor',\n",
        " 'fielddesc',\n",
        " 'fieldname_with_ucd',\n",
        " 'fieldname_with_utype',\n",
        " 'fieldnames',\n",
        " 'getcolumn',\n",
        " 'getdesc',\n",
        " 'getrecord',\n",
        " 'getvalue',\n",
        " 'nrecs',\n",
        " 'protocol',\n",
        " 'queryurl',\n",
        " 'version',\n",
        " 'votable']"
       ]
      }
     ],
     "prompt_number": 17
    },
    {
     "cell_type": "heading",
     "level": 4,
     "metadata": {},
     "source": [
      "Again, let's see what are the attributes of the catalog (\"cat\") object. For convenience we will define a function to give us a higher level to query this kind of information."
     ]
    },
    {
     "cell_type": "code",
     "collapsed": false,
     "input": [
      "def printPublicMembers(obj):\n",
      "    from inspect import getmembers\n",
      "    members = getmembers(obj)\n",
      "    for m in members:\n",
      "        if not '_' in m[0]:\n",
      "            print(\"%-15s :   %s\" % (m[0],str(m[1])))\n",
      "printPublicMembers(cat)"
     ],
     "language": "python",
     "metadata": {},
     "outputs": [
      {
       "output_type": "stream",
       "stream": "stdout",
       "text": [
        "cursor          :   <bound method SCSResults.cursor of <pyvo.dal.scs.SCSResults object at 0x3ff3510>>\n",
        "fielddesc       :   <bound method SCSResults.fielddesc of <pyvo.dal.scs.SCSResults object at 0x3ff3510>>\n",
        "fieldnames      :   <bound method SCSResults.fieldnames of <pyvo.dal.scs.SCSResults object at 0x3ff3510>>\n",
        "getcolumn       :   <bound method SCSResults.getcolumn of <pyvo.dal.scs.SCSResults object at 0x3ff3510>>\n",
        "getdesc         :   <bound method SCSResults.getdesc of <pyvo.dal.scs.SCSResults object at 0x3ff3510>>\n",
        "getrecord       :   <bound method SCSResults.getrecord of <pyvo.dal.scs.SCSResults object at 0x3ff3510>>\n",
        "getvalue        :   <bound method SCSResults.getvalue of <pyvo.dal.scs.SCSResults object at 0x3ff3510>>\n",
        "nrecs           :   0\n",
        "protocol        :   scs\n",
        "queryurl        :   http://heasarc.gsfc.nasa.gov/cgi-bin/vo/cone/coneGet.pl?table=a2pic&amp;&RA=0&DEC=0&SR=1e-05&VERB=2\n",
        "version         :   1.0\n",
        "votable         :   catalog_designation name  ra dec count_rate count_rate_error class Search_Offset\n",
        "------------------- ---- --- --- ---------- ---------------- ----- -------------"
       ]
      },
      {
       "output_type": "stream",
       "stream": "stdout",
       "text": [
        "\n"
       ]
      }
     ],
     "prompt_number": 13
    },
    {
     "cell_type": "heading",
     "level": 4,
     "metadata": {},
     "source": [
      "Let's see what the methods 'fielddesc' and 'fieldnames' give to us."
     ]
    },
    {
     "cell_type": "code",
     "collapsed": false,
     "input": [
      "print cat.fieldnames() # print the names of table columns"
     ],
     "language": "python",
     "metadata": {},
     "outputs": []
    },
    {
     "cell_type": "code",
     "collapsed": false,
     "input": [
      "for f in cat.fielddesc(): # and what kind of information they store\n",
      "    print(\"%-20s : %-40s %-35s %-10s\" % (f.name,f.description,f.ucd,f.unit))"
     ],
     "language": "python",
     "metadata": {},
     "outputs": []
    },
    {
     "cell_type": "heading",
     "level": 4,
     "metadata": {},
     "source": [
      "That is the kind of information we are looking for: photon counts, count rates."
     ]
    },
    {
     "cell_type": "heading",
     "level": 3,
     "metadata": {},
     "source": [
      "2.1) Collecting all catalogues UCD and Unit information"
     ]
    },
    {
     "cell_type": "code",
     "collapsed": false,
     "input": [
      "def getUCD(tab):\n",
      "    \"\"\"Returns a list with all (valid) UCDs from a table\"\"\"\n",
      "    from astropy.io.votable import ucd\n",
      "    l1 = []\n",
      "    for f in tab.fielddesc():\n",
      "        if not f.ucd: continue\n",
      "        l2 = []\n",
      "        for u in ucd.parse_ucd(f.ucd):\n",
      "            l2.append(str(u[1]))\n",
      "        l1.extend(l2)\n",
      "    return l1[:]\n",
      "\n",
      "def getUnit(tab):\n",
      "    \"\"\"Returns a list of units from a table\"\"\"\n",
      "    l = []\n",
      "    for f in tab.fielddesc():\n",
      "        if not f.unit: continue\n",
      "        l.append(str(f.unit).replace(' ',''))\n",
      "    return l[:]\n",
      "\n",
      "# Let's define a function that does the search (exactly what we have already done before)\n",
      "def retrieveTable(record):\n",
      "    \"\"\"Retrieve an empty table referenced by the record\"\"\"\n",
      "    serv = record.to_service()\n",
      "    tab = serv.search( pos=(0,0), radius=0.00001 )\n",
      "    return tab\n",
      "\n",
      "# Let's loop over all records/catalogues...\n",
      "Catalogues = {}\n",
      "for r in records:\n",
      "    print(\"*-> %s\" % r.title)\n",
      "    cat = retrieveTable(r)\n",
      "#    if not cat:\n",
      "#        print(\"NOT   %s     %s\" % (r.accessurl,r.publisher))\n",
      "#    else:\n",
      "#        print(\"YES   %s     %s\" % (r.accessurl,r.publisher))\n",
      "    if cat != None:\n",
      "        Catalogues[r] = cat\n",
      "print \"Done.\""
     ],
     "language": "python",
     "metadata": {},
     "outputs": []
    },
    {
     "cell_type": "heading",
     "level": 4,
     "metadata": {},
     "source": [
      "Let us print the UCDs found on all catalogues:"
     ]
    },
    {
     "cell_type": "code",
     "collapsed": false,
     "input": [
      "UCDs = set()\n",
      "for cat in Catalogues.itervalues():\n",
      "    if cat is None: continue\n",
      "    l = getUCD(cat)\n",
      "    UCDs.update(set(l))\n",
      "UCDl = list(UCDs)\n",
      "UCDl.sort()\n",
      "for a,b,c in map(None,UCDl[::3],UCDl[1::3],UCDl[2::3]):\n",
      "    print \"{:<30}{:<30}{:<}\".format(a,b,c)"
     ],
     "language": "python",
     "metadata": {},
     "outputs": []
    },
    {
     "cell_type": "heading",
     "level": 4,
     "metadata": {},
     "source": [
      "And now let us print the units found:"
     ]
    },
    {
     "cell_type": "code",
     "collapsed": false,
     "input": [
      "UNTs = set()\n",
      "for cat in Catalogues.itervalues():\n",
      "    if cat is None: continue\n",
      "    l = getUnit(cat)\n",
      "    UNTs.update(set(l))\n",
      "UNTl = list(UNTs)\n",
      "UNTl.sort()\n",
      "for a,b,c in map(None,UNTl[::3],UNTl[1::3],UNTl[2::3]):\n",
      "    print \"{:<30}{:<30}{:<}\".format(a,b,c)"
     ],
     "language": "python",
     "metadata": {},
     "outputs": []
    },
    {
     "cell_type": "heading",
     "level": 4,
     "metadata": {},
     "source": [
      "Well, it seems to me that the interesting UCDs are:"
     ]
    },
    {
     "cell_type": "code",
     "collapsed": false,
     "input": [
      "UCD_goal=['em.X-ray','phot.flux','phot.flux.density','phot.count','phys.luminosity']"
     ],
     "language": "python",
     "metadata": {},
     "outputs": []
    },
    {
     "cell_type": "heading",
     "level": 4,
     "metadata": {},
     "source": [
      "And the units are:"
     ]
    },
    {
     "cell_type": "code",
     "collapsed": false,
     "input": [
      "UNT_goal=['ct/s','erg/s','erg/s/cm2','erg/s/cm^2','mW/m2','1e-17W/m2','ct/ks','mJy','ct','[10-7W]']"
     ],
     "language": "python",
     "metadata": {},
     "outputs": []
    },
    {
     "cell_type": "heading",
     "level": 4,
     "metadata": {},
     "source": [
      "And then we should be able to filter the catalogues that provides (1st) these UCDs and Units."
     ]
    },
    {
     "cell_type": "heading",
     "level": 4,
     "metadata": {},
     "source": [
      "Let's define two little functions to help us on checking the ucds and units:"
     ]
    },
    {
     "cell_type": "code",
     "collapsed": false,
     "input": [
      "def checkUCD(tab,UCDs=[]):\n",
      "    \"\"\"Returns a True if tab has one of the given UCDs; False otherwise\"\"\"\n",
      "    if tab is None: return None\n",
      "    l = getUCD(tab)\n",
      "    ok = any( filter(lambda u:u in UCDs, set(l)) )\n",
      "    return ok\n",
      "\n",
      "def checkUnit(tab,Units=[]):\n",
      "    \"\"\"Returns a True if tb has one of the given Units; False otherwise\"\"\"\n",
      "    if tab is None: return None\n",
      "    l = getUnit(tab)\n",
      "    ok = any( filter(lambda u:u in Units, set(l)) )\n",
      "    return ok"
     ],
     "language": "python",
     "metadata": {},
     "outputs": []
    },
    {
     "cell_type": "heading",
     "level": 4,
     "metadata": {},
     "source": [
      "And select the catalogues based on UCD_goal and UNT_goal."
     ]
    },
    {
     "cell_type": "code",
     "collapsed": false,
     "input": [
      "SelectCatalogues = {}\n",
      "for r,t in Catalogues.iteritems():\n",
      "    reason = \"\"\n",
      "    ok1 = checkUCD(t,UCD_goal)\n",
      "    if not ok1:\n",
      "        reason += \"UCD \"\n",
      "    ok2 = checkUnit(t,UNT_goal)\n",
      "    if not ok2:\n",
      "        reason += \"unit \"\n",
      "    if ok1 and ok2:\n",
      "        print(\"   + Catalog %s selected\" % r.title)\n",
      "        SelectCatalogues[r] = t\n",
      "    else:\n",
      "        print(\"   - Catalog %-80s;     reason: %s\" % (r.title+\" NOT selected\",reason))\n",
      "print(\"%d Catalogues selected:\" % len(SelectCatalogues))\n"
     ],
     "language": "python",
     "metadata": {},
     "outputs": []
    },
    {
     "cell_type": "heading",
     "level": 4,
     "metadata": {},
     "source": [
      "And their description follows:"
     ]
    },
    {
     "cell_type": "code",
     "collapsed": false,
     "input": [
      "for r in SelectCatalogues.iterkeys():\n",
      "    print(\"* %s\" % r.title)\n",
      "    print(\"     %s\\n\" % r.get('description'))"
     ],
     "language": "python",
     "metadata": {},
     "outputs": []
    },
    {
     "cell_type": "code",
     "collapsed": false,
     "input": [],
     "language": "python",
     "metadata": {},
     "outputs": []
    }
   ],
   "metadata": {}
  }
 ]
}